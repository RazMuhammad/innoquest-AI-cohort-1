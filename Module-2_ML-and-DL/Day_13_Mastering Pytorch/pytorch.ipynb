{
 "cells": [
  {
   "cell_type": "markdown",
   "metadata": {},
   "source": [
    "# create a tensor"
   ]
  },
  {
   "cell_type": "code",
   "execution_count": 1,
   "metadata": {
    "execution": {
     "iopub.execute_input": "2025-01-01T11:28:45.025678Z",
     "iopub.status.busy": "2025-01-01T11:28:45.025298Z",
     "iopub.status.idle": "2025-01-01T11:28:48.714792Z",
     "shell.execute_reply": "2025-01-01T11:28:48.713834Z",
     "shell.execute_reply.started": "2025-01-01T11:28:45.025644Z"
    },
    "trusted": true
   },
   "outputs": [],
   "source": [
    "import torch"
   ]
  },
  {
   "cell_type": "code",
   "execution_count": 2,
   "metadata": {
    "execution": {
     "iopub.execute_input": "2025-01-01T11:29:26.431035Z",
     "iopub.status.busy": "2025-01-01T11:29:26.430526Z",
     "iopub.status.idle": "2025-01-01T11:29:26.443208Z",
     "shell.execute_reply": "2025-01-01T11:29:26.442079Z",
     "shell.execute_reply.started": "2025-01-01T11:29:26.431000Z"
    },
    "trusted": true
   },
   "outputs": [],
   "source": [
    "a = torch.empty(1)"
   ]
  },
  {
   "cell_type": "code",
   "execution_count": 3,
   "metadata": {
    "execution": {
     "iopub.execute_input": "2025-01-01T11:29:29.875735Z",
     "iopub.status.busy": "2025-01-01T11:29:29.875377Z",
     "iopub.status.idle": "2025-01-01T11:29:29.957887Z",
     "shell.execute_reply": "2025-01-01T11:29:29.956803Z",
     "shell.execute_reply.started": "2025-01-01T11:29:29.875675Z"
    },
    "trusted": true
   },
   "outputs": [
    {
     "data": {
      "text/plain": [
       "tensor([3.2115e-16])"
      ]
     },
     "execution_count": 3,
     "metadata": {},
     "output_type": "execute_result"
    }
   ],
   "source": [
    "a"
   ]
  },
  {
   "cell_type": "code",
   "execution_count": 4,
   "metadata": {
    "execution": {
     "iopub.execute_input": "2025-01-01T11:29:55.005071Z",
     "iopub.status.busy": "2025-01-01T11:29:55.004664Z",
     "iopub.status.idle": "2025-01-01T11:29:55.009541Z",
     "shell.execute_reply": "2025-01-01T11:29:55.008258Z",
     "shell.execute_reply.started": "2025-01-01T11:29:55.005040Z"
    },
    "trusted": true
   },
   "outputs": [],
   "source": [
    "b = torch.empty(2)"
   ]
  },
  {
   "cell_type": "code",
   "execution_count": 6,
   "metadata": {
    "execution": {
     "iopub.execute_input": "2025-01-01T11:30:26.263041Z",
     "iopub.status.busy": "2025-01-01T11:30:26.262559Z",
     "iopub.status.idle": "2025-01-01T11:30:26.273752Z",
     "shell.execute_reply": "2025-01-01T11:30:26.272743Z",
     "shell.execute_reply.started": "2025-01-01T11:30:26.263001Z"
    },
    "trusted": true
   },
   "outputs": [
    {
     "data": {
      "text/plain": [
       "torch.Size([2])"
      ]
     },
     "execution_count": 6,
     "metadata": {},
     "output_type": "execute_result"
    }
   ],
   "source": [
    "b.size()"
   ]
  },
  {
   "cell_type": "code",
   "execution_count": 7,
   "metadata": {
    "execution": {
     "iopub.execute_input": "2025-01-01T11:30:28.893901Z",
     "iopub.status.busy": "2025-01-01T11:30:28.893453Z",
     "iopub.status.idle": "2025-01-01T11:30:28.901388Z",
     "shell.execute_reply": "2025-01-01T11:30:28.900363Z",
     "shell.execute_reply.started": "2025-01-01T11:30:28.893864Z"
    },
    "trusted": true
   },
   "outputs": [
    {
     "data": {
      "text/plain": [
       "tensor([8.2537e+07, 4.3461e-41])"
      ]
     },
     "execution_count": 7,
     "metadata": {},
     "output_type": "execute_result"
    }
   ],
   "source": [
    "b"
   ]
  },
  {
   "cell_type": "code",
   "execution_count": 8,
   "metadata": {
    "execution": {
     "iopub.execute_input": "2025-01-01T11:30:53.039367Z",
     "iopub.status.busy": "2025-01-01T11:30:53.039018Z",
     "iopub.status.idle": "2025-01-01T11:30:53.044084Z",
     "shell.execute_reply": "2025-01-01T11:30:53.042877Z",
     "shell.execute_reply.started": "2025-01-01T11:30:53.039336Z"
    },
    "trusted": true
   },
   "outputs": [],
   "source": [
    "c = torch.empty(3, 4)"
   ]
  },
  {
   "cell_type": "code",
   "execution_count": 9,
   "metadata": {
    "execution": {
     "iopub.execute_input": "2025-01-01T11:30:55.275249Z",
     "iopub.status.busy": "2025-01-01T11:30:55.274896Z",
     "iopub.status.idle": "2025-01-01T11:30:55.282874Z",
     "shell.execute_reply": "2025-01-01T11:30:55.281949Z",
     "shell.execute_reply.started": "2025-01-01T11:30:55.275218Z"
    },
    "trusted": true
   },
   "outputs": [
    {
     "data": {
      "text/plain": [
       "tensor([[ 8.2537e+07,  4.3461e-41,  8.2537e+07,  4.3461e-41],\n",
       "        [ 4.4842e-44,  0.0000e+00,  8.9683e-44,  0.0000e+00],\n",
       "        [-6.2517e+21,  3.1763e-41,  3.8495e-37,  6.1590e-36]])"
      ]
     },
     "execution_count": 9,
     "metadata": {},
     "output_type": "execute_result"
    }
   ],
   "source": [
    "c"
   ]
  },
  {
   "cell_type": "code",
   "execution_count": 10,
   "metadata": {
    "execution": {
     "iopub.execute_input": "2025-01-01T11:31:18.228394Z",
     "iopub.status.busy": "2025-01-01T11:31:18.228069Z",
     "iopub.status.idle": "2025-01-01T11:31:18.234550Z",
     "shell.execute_reply": "2025-01-01T11:31:18.233346Z",
     "shell.execute_reply.started": "2025-01-01T11:31:18.228368Z"
    },
    "trusted": true
   },
   "outputs": [
    {
     "data": {
      "text/plain": [
       "2"
      ]
     },
     "execution_count": 10,
     "metadata": {},
     "output_type": "execute_result"
    }
   ],
   "source": [
    "c.ndimension()"
   ]
  },
  {
   "cell_type": "code",
   "execution_count": 11,
   "metadata": {
    "execution": {
     "iopub.execute_input": "2025-01-01T11:31:59.775106Z",
     "iopub.status.busy": "2025-01-01T11:31:59.774672Z",
     "iopub.status.idle": "2025-01-01T11:31:59.779997Z",
     "shell.execute_reply": "2025-01-01T11:31:59.778816Z",
     "shell.execute_reply.started": "2025-01-01T11:31:59.775073Z"
    },
    "trusted": true
   },
   "outputs": [],
   "source": [
    "d = torch.empty(3, 4, 5)"
   ]
  },
  {
   "cell_type": "code",
   "execution_count": 12,
   "metadata": {
    "execution": {
     "iopub.execute_input": "2025-01-01T11:32:02.244515Z",
     "iopub.status.busy": "2025-01-01T11:32:02.244190Z",
     "iopub.status.idle": "2025-01-01T11:32:02.253228Z",
     "shell.execute_reply": "2025-01-01T11:32:02.252094Z",
     "shell.execute_reply.started": "2025-01-01T11:32:02.244490Z"
    },
    "trusted": true
   },
   "outputs": [
    {
     "data": {
      "text/plain": [
       "tensor([[[ 8.2540e+07,  4.3461e-41,  8.2540e+07,  4.3461e-41,  0.0000e+00],\n",
       "         [ 0.0000e+00,  5.6192e-43,  0.0000e+00,  8.2539e+07,  4.3461e-41],\n",
       "         [ 8.2539e+07,  4.3461e-41,  1.2766e+23,  3.1767e-41,  3.2230e-44],\n",
       "         [ 0.0000e+00,  0.0000e+00,  0.0000e+00,         nan,         nan]],\n",
       "\n",
       "        [[ 0.0000e+00,  0.0000e+00,  9.1084e-44,  0.0000e+00,  2.7594e+26],\n",
       "         [ 3.1767e-41,  2.5119e+26,  3.1767e-41,  0.0000e+00,  4.3461e-41],\n",
       "         [ 4.6243e-44,  0.0000e+00,  2.7593e+26,  3.1767e-41,  4.0498e-43],\n",
       "         [ 0.0000e+00,  2.7594e+26,  3.1767e-41,  2.7597e+26,  3.1767e-41]],\n",
       "\n",
       "        [[-6.2512e+21,  3.1763e-41,  2.0179e-43,  0.0000e+00,  1.2612e-44],\n",
       "         [ 0.0000e+00,  4.6243e-44,  0.0000e+00,  2.7594e+26,  3.1767e-41],\n",
       "         [ 2.5118e+26,  3.1767e-41,  1.1210e-43,  0.0000e+00,  8.9683e-44],\n",
       "         [ 0.0000e+00, -6.2395e+21,  3.1763e-41,  2.4803e-43,  0.0000e+00]]])"
      ]
     },
     "execution_count": 12,
     "metadata": {},
     "output_type": "execute_result"
    }
   ],
   "source": [
    "d"
   ]
  },
  {
   "cell_type": "code",
   "execution_count": 13,
   "metadata": {
    "execution": {
     "iopub.execute_input": "2025-01-01T11:32:51.865854Z",
     "iopub.status.busy": "2025-01-01T11:32:51.865413Z",
     "iopub.status.idle": "2025-01-01T11:32:51.871923Z",
     "shell.execute_reply": "2025-01-01T11:32:51.870799Z",
     "shell.execute_reply.started": "2025-01-01T11:32:51.865823Z"
    },
    "trusted": true
   },
   "outputs": [
    {
     "data": {
      "text/plain": [
       "torch.float32"
      ]
     },
     "execution_count": 13,
     "metadata": {},
     "output_type": "execute_result"
    }
   ],
   "source": [
    "d.dtype"
   ]
  },
  {
   "cell_type": "code",
   "execution_count": 14,
   "metadata": {
    "execution": {
     "iopub.execute_input": "2025-01-01T11:32:59.963065Z",
     "iopub.status.busy": "2025-01-01T11:32:59.962724Z",
     "iopub.status.idle": "2025-01-01T11:32:59.969319Z",
     "shell.execute_reply": "2025-01-01T11:32:59.967999Z",
     "shell.execute_reply.started": "2025-01-01T11:32:59.963027Z"
    },
    "trusted": true
   },
   "outputs": [
    {
     "data": {
      "text/plain": [
       "torch.Tensor"
      ]
     },
     "execution_count": 14,
     "metadata": {},
     "output_type": "execute_result"
    }
   ],
   "source": [
    "type(d)"
   ]
  },
  {
   "cell_type": "code",
   "execution_count": 15,
   "metadata": {
    "execution": {
     "iopub.execute_input": "2025-01-01T11:33:44.890674Z",
     "iopub.status.busy": "2025-01-01T11:33:44.890322Z",
     "iopub.status.idle": "2025-01-01T11:33:44.897299Z",
     "shell.execute_reply": "2025-01-01T11:33:44.896131Z",
     "shell.execute_reply.started": "2025-01-01T11:33:44.890645Z"
    },
    "trusted": true
   },
   "outputs": [],
   "source": [
    "a = torch.ones(2, 3)"
   ]
  },
  {
   "cell_type": "code",
   "execution_count": 16,
   "metadata": {
    "execution": {
     "iopub.execute_input": "2025-01-01T11:33:47.288726Z",
     "iopub.status.busy": "2025-01-01T11:33:47.288299Z",
     "iopub.status.idle": "2025-01-01T11:33:47.296146Z",
     "shell.execute_reply": "2025-01-01T11:33:47.294911Z",
     "shell.execute_reply.started": "2025-01-01T11:33:47.288667Z"
    },
    "trusted": true
   },
   "outputs": [
    {
     "data": {
      "text/plain": [
       "tensor([[1., 1., 1.],\n",
       "        [1., 1., 1.]])"
      ]
     },
     "execution_count": 16,
     "metadata": {},
     "output_type": "execute_result"
    }
   ],
   "source": [
    "a"
   ]
  },
  {
   "cell_type": "code",
   "execution_count": 18,
   "metadata": {
    "execution": {
     "iopub.execute_input": "2025-01-01T11:34:19.867095Z",
     "iopub.status.busy": "2025-01-01T11:34:19.866775Z",
     "iopub.status.idle": "2025-01-01T11:34:19.874134Z",
     "shell.execute_reply": "2025-01-01T11:34:19.872845Z",
     "shell.execute_reply.started": "2025-01-01T11:34:19.867072Z"
    },
    "trusted": true
   },
   "outputs": [],
   "source": [
    "b = torch.zeros(2, 3)"
   ]
  },
  {
   "cell_type": "code",
   "execution_count": 19,
   "metadata": {
    "execution": {
     "iopub.execute_input": "2025-01-01T11:34:22.451404Z",
     "iopub.status.busy": "2025-01-01T11:34:22.451048Z",
     "iopub.status.idle": "2025-01-01T11:34:22.458201Z",
     "shell.execute_reply": "2025-01-01T11:34:22.457098Z",
     "shell.execute_reply.started": "2025-01-01T11:34:22.451373Z"
    },
    "trusted": true
   },
   "outputs": [
    {
     "data": {
      "text/plain": [
       "tensor([[0., 0., 0.],\n",
       "        [0., 0., 0.]])"
      ]
     },
     "execution_count": 19,
     "metadata": {},
     "output_type": "execute_result"
    }
   ],
   "source": [
    "b"
   ]
  },
  {
   "cell_type": "code",
   "execution_count": 20,
   "metadata": {
    "execution": {
     "iopub.execute_input": "2025-01-01T11:35:05.260532Z",
     "iopub.status.busy": "2025-01-01T11:35:05.260130Z",
     "iopub.status.idle": "2025-01-01T11:35:05.266977Z",
     "shell.execute_reply": "2025-01-01T11:35:05.265792Z",
     "shell.execute_reply.started": "2025-01-01T11:35:05.260452Z"
    },
    "trusted": true
   },
   "outputs": [],
   "source": [
    "a = torch.rand(1, 2)"
   ]
  },
  {
   "cell_type": "code",
   "execution_count": 21,
   "metadata": {
    "execution": {
     "iopub.execute_input": "2025-01-01T11:35:07.658088Z",
     "iopub.status.busy": "2025-01-01T11:35:07.657678Z",
     "iopub.status.idle": "2025-01-01T11:35:07.664839Z",
     "shell.execute_reply": "2025-01-01T11:35:07.663924Z",
     "shell.execute_reply.started": "2025-01-01T11:35:07.658058Z"
    },
    "trusted": true
   },
   "outputs": [
    {
     "data": {
      "text/plain": [
       "tensor([[0.1450, 0.6268]])"
      ]
     },
     "execution_count": 21,
     "metadata": {},
     "output_type": "execute_result"
    }
   ],
   "source": [
    "a"
   ]
  },
  {
   "cell_type": "code",
   "execution_count": 22,
   "metadata": {
    "execution": {
     "iopub.execute_input": "2025-01-01T11:35:18.011729Z",
     "iopub.status.busy": "2025-01-01T11:35:18.011331Z",
     "iopub.status.idle": "2025-01-01T11:35:18.017929Z",
     "shell.execute_reply": "2025-01-01T11:35:18.016835Z",
     "shell.execute_reply.started": "2025-01-01T11:35:18.011663Z"
    },
    "trusted": true
   },
   "outputs": [
    {
     "data": {
      "text/plain": [
       "torch.Size([1, 2])"
      ]
     },
     "execution_count": 22,
     "metadata": {},
     "output_type": "execute_result"
    }
   ],
   "source": [
    "a.shape"
   ]
  },
  {
   "cell_type": "code",
   "execution_count": 23,
   "metadata": {
    "execution": {
     "iopub.execute_input": "2025-01-01T11:35:33.907801Z",
     "iopub.status.busy": "2025-01-01T11:35:33.907411Z",
     "iopub.status.idle": "2025-01-01T11:35:33.913698Z",
     "shell.execute_reply": "2025-01-01T11:35:33.912647Z",
     "shell.execute_reply.started": "2025-01-01T11:35:33.907768Z"
    },
    "trusted": true
   },
   "outputs": [
    {
     "data": {
      "text/plain": [
       "torch.Size([1, 2])"
      ]
     },
     "execution_count": 23,
     "metadata": {},
     "output_type": "execute_result"
    }
   ],
   "source": [
    "a.size()"
   ]
  },
  {
   "cell_type": "code",
   "execution_count": 24,
   "metadata": {
    "execution": {
     "iopub.execute_input": "2025-01-01T11:35:58.528502Z",
     "iopub.status.busy": "2025-01-01T11:35:58.528148Z",
     "iopub.status.idle": "2025-01-01T11:35:58.533024Z",
     "shell.execute_reply": "2025-01-01T11:35:58.532086Z",
     "shell.execute_reply.started": "2025-01-01T11:35:58.528464Z"
    },
    "trusted": true
   },
   "outputs": [],
   "source": [
    "a = torch.rand(3, 4, 5)"
   ]
  },
  {
   "cell_type": "code",
   "execution_count": 25,
   "metadata": {
    "execution": {
     "iopub.execute_input": "2025-01-01T11:36:00.867601Z",
     "iopub.status.busy": "2025-01-01T11:36:00.867270Z",
     "iopub.status.idle": "2025-01-01T11:36:00.874676Z",
     "shell.execute_reply": "2025-01-01T11:36:00.873795Z",
     "shell.execute_reply.started": "2025-01-01T11:36:00.867575Z"
    },
    "trusted": true
   },
   "outputs": [
    {
     "data": {
      "text/plain": [
       "tensor([[[0.6093, 0.6330, 0.6190, 0.9429, 0.7606],\n",
       "         [0.1571, 0.7758, 0.1845, 0.5935, 0.2455],\n",
       "         [0.7339, 0.2681, 0.9784, 0.6048, 0.3389],\n",
       "         [0.6533, 0.3006, 0.5814, 0.3362, 0.9234]],\n",
       "\n",
       "        [[0.8530, 0.1225, 0.8254, 0.8554, 0.4852],\n",
       "         [0.8561, 0.3035, 0.3434, 0.2474, 0.9169],\n",
       "         [0.8077, 0.9385, 0.6615, 0.8194, 0.4384],\n",
       "         [0.3519, 0.6251, 0.6423, 0.0192, 0.0276]],\n",
       "\n",
       "        [[0.0338, 0.0875, 0.9720, 0.1633, 0.3446],\n",
       "         [0.6810, 0.1053, 0.9590, 0.1909, 0.1166],\n",
       "         [0.8150, 0.5923, 0.1616, 0.4174, 0.3170],\n",
       "         [0.2774, 0.9883, 0.4596, 0.1193, 0.4980]]])"
      ]
     },
     "execution_count": 25,
     "metadata": {},
     "output_type": "execute_result"
    }
   ],
   "source": [
    "a"
   ]
  },
  {
   "cell_type": "code",
   "execution_count": 30,
   "metadata": {
    "execution": {
     "iopub.execute_input": "2025-01-01T11:37:55.315059Z",
     "iopub.status.busy": "2025-01-01T11:37:55.314600Z",
     "iopub.status.idle": "2025-01-01T11:37:55.320293Z",
     "shell.execute_reply": "2025-01-01T11:37:55.319082Z",
     "shell.execute_reply.started": "2025-01-01T11:37:55.315022Z"
    },
    "trusted": true
   },
   "outputs": [],
   "source": [
    "a = torch.tensor([1., 2., 3., 4.])"
   ]
  },
  {
   "cell_type": "code",
   "execution_count": 31,
   "metadata": {
    "execution": {
     "iopub.execute_input": "2025-01-01T11:37:56.224885Z",
     "iopub.status.busy": "2025-01-01T11:37:56.224426Z",
     "iopub.status.idle": "2025-01-01T11:37:56.231948Z",
     "shell.execute_reply": "2025-01-01T11:37:56.230700Z",
     "shell.execute_reply.started": "2025-01-01T11:37:56.224846Z"
    },
    "trusted": true
   },
   "outputs": [
    {
     "data": {
      "text/plain": [
       "tensor([1., 2., 3., 4.])"
      ]
     },
     "execution_count": 31,
     "metadata": {},
     "output_type": "execute_result"
    }
   ],
   "source": [
    "a"
   ]
  },
  {
   "cell_type": "code",
   "execution_count": 32,
   "metadata": {
    "execution": {
     "iopub.execute_input": "2025-01-01T11:37:57.116053Z",
     "iopub.status.busy": "2025-01-01T11:37:57.115674Z",
     "iopub.status.idle": "2025-01-01T11:37:57.121566Z",
     "shell.execute_reply": "2025-01-01T11:37:57.120546Z",
     "shell.execute_reply.started": "2025-01-01T11:37:57.116025Z"
    },
    "trusted": true
   },
   "outputs": [
    {
     "data": {
      "text/plain": [
       "torch.float32"
      ]
     },
     "execution_count": 32,
     "metadata": {},
     "output_type": "execute_result"
    }
   ],
   "source": [
    "a.dtype"
   ]
  },
  {
   "cell_type": "code",
   "execution_count": 33,
   "metadata": {
    "execution": {
     "iopub.execute_input": "2025-01-01T11:39:08.981331Z",
     "iopub.status.busy": "2025-01-01T11:39:08.981002Z",
     "iopub.status.idle": "2025-01-01T11:39:08.985940Z",
     "shell.execute_reply": "2025-01-01T11:39:08.984830Z",
     "shell.execute_reply.started": "2025-01-01T11:39:08.981307Z"
    },
    "trusted": true
   },
   "outputs": [],
   "source": [
    "a = torch.tensor([[1., 2., 3., 4.], [2.,3.,4.,4.], [4., 5., 6., 7.]])"
   ]
  },
  {
   "cell_type": "code",
   "execution_count": 34,
   "metadata": {
    "execution": {
     "iopub.execute_input": "2025-01-01T11:39:12.918878Z",
     "iopub.status.busy": "2025-01-01T11:39:12.918492Z",
     "iopub.status.idle": "2025-01-01T11:39:12.925338Z",
     "shell.execute_reply": "2025-01-01T11:39:12.924362Z",
     "shell.execute_reply.started": "2025-01-01T11:39:12.918844Z"
    },
    "trusted": true
   },
   "outputs": [
    {
     "data": {
      "text/plain": [
       "tensor([[1., 2., 3., 4.],\n",
       "        [2., 3., 4., 4.],\n",
       "        [4., 5., 6., 7.]])"
      ]
     },
     "execution_count": 34,
     "metadata": {},
     "output_type": "execute_result"
    }
   ],
   "source": [
    "a"
   ]
  },
  {
   "cell_type": "code",
   "execution_count": 36,
   "metadata": {
    "execution": {
     "iopub.execute_input": "2025-01-01T11:40:36.697630Z",
     "iopub.status.busy": "2025-01-01T11:40:36.697261Z",
     "iopub.status.idle": "2025-01-01T11:40:36.702854Z",
     "shell.execute_reply": "2025-01-01T11:40:36.701702Z",
     "shell.execute_reply.started": "2025-01-01T11:40:36.697601Z"
    },
    "trusted": true
   },
   "outputs": [],
   "source": [
    "a = torch.tensor([[[1., 2., 3., 4.], [2.,3.,4.,4.], [4., 5., 6., 7.]], [[1., 2., 3., 4.], [2.,3.,4.,4.], [4., 5., 6., 7.]]])"
   ]
  },
  {
   "cell_type": "code",
   "execution_count": 37,
   "metadata": {
    "execution": {
     "iopub.execute_input": "2025-01-01T11:40:39.397220Z",
     "iopub.status.busy": "2025-01-01T11:40:39.396871Z",
     "iopub.status.idle": "2025-01-01T11:40:39.404573Z",
     "shell.execute_reply": "2025-01-01T11:40:39.403383Z",
     "shell.execute_reply.started": "2025-01-01T11:40:39.397192Z"
    },
    "trusted": true
   },
   "outputs": [
    {
     "data": {
      "text/plain": [
       "tensor([[[1., 2., 3., 4.],\n",
       "         [2., 3., 4., 4.],\n",
       "         [4., 5., 6., 7.]],\n",
       "\n",
       "        [[1., 2., 3., 4.],\n",
       "         [2., 3., 4., 4.],\n",
       "         [4., 5., 6., 7.]]])"
      ]
     },
     "execution_count": 37,
     "metadata": {},
     "output_type": "execute_result"
    }
   ],
   "source": [
    "a"
   ]
  },
  {
   "cell_type": "code",
   "execution_count": 38,
   "metadata": {
    "execution": {
     "iopub.execute_input": "2025-01-01T11:41:08.235918Z",
     "iopub.status.busy": "2025-01-01T11:41:08.235478Z",
     "iopub.status.idle": "2025-01-01T11:41:08.241849Z",
     "shell.execute_reply": "2025-01-01T11:41:08.240763Z",
     "shell.execute_reply.started": "2025-01-01T11:41:08.235886Z"
    },
    "trusted": true
   },
   "outputs": [
    {
     "data": {
      "text/plain": [
       "torch.float32"
      ]
     },
     "execution_count": 38,
     "metadata": {},
     "output_type": "execute_result"
    }
   ],
   "source": [
    "a.dtype"
   ]
  },
  {
   "cell_type": "code",
   "execution_count": 40,
   "metadata": {
    "execution": {
     "iopub.execute_input": "2025-01-01T11:42:01.847869Z",
     "iopub.status.busy": "2025-01-01T11:42:01.847474Z",
     "iopub.status.idle": "2025-01-01T11:42:01.852775Z",
     "shell.execute_reply": "2025-01-01T11:42:01.851271Z",
     "shell.execute_reply.started": "2025-01-01T11:42:01.847837Z"
    },
    "trusted": true
   },
   "outputs": [],
   "source": [
    "a = torch.ones(1, dtype=torch.float16)"
   ]
  },
  {
   "cell_type": "code",
   "execution_count": 41,
   "metadata": {
    "execution": {
     "iopub.execute_input": "2025-01-01T11:42:04.737340Z",
     "iopub.status.busy": "2025-01-01T11:42:04.737010Z",
     "iopub.status.idle": "2025-01-01T11:42:04.747295Z",
     "shell.execute_reply": "2025-01-01T11:42:04.746327Z",
     "shell.execute_reply.started": "2025-01-01T11:42:04.737315Z"
    },
    "trusted": true
   },
   "outputs": [
    {
     "data": {
      "text/plain": [
       "tensor([1.], dtype=torch.float16)"
      ]
     },
     "execution_count": 41,
     "metadata": {},
     "output_type": "execute_result"
    }
   ],
   "source": [
    "a"
   ]
  },
  {
   "cell_type": "code",
   "execution_count": 42,
   "metadata": {
    "execution": {
     "iopub.execute_input": "2025-01-01T11:42:12.881299Z",
     "iopub.status.busy": "2025-01-01T11:42:12.880970Z",
     "iopub.status.idle": "2025-01-01T11:42:12.886930Z",
     "shell.execute_reply": "2025-01-01T11:42:12.885975Z",
     "shell.execute_reply.started": "2025-01-01T11:42:12.881273Z"
    },
    "trusted": true
   },
   "outputs": [
    {
     "data": {
      "text/plain": [
       "torch.Size([1])"
      ]
     },
     "execution_count": 42,
     "metadata": {},
     "output_type": "execute_result"
    }
   ],
   "source": [
    "a.shape"
   ]
  },
  {
   "cell_type": "code",
   "execution_count": 43,
   "metadata": {
    "execution": {
     "iopub.execute_input": "2025-01-01T11:42:39.077622Z",
     "iopub.status.busy": "2025-01-01T11:42:39.077248Z",
     "iopub.status.idle": "2025-01-01T11:42:39.082434Z",
     "shell.execute_reply": "2025-01-01T11:42:39.081525Z",
     "shell.execute_reply.started": "2025-01-01T11:42:39.077589Z"
    },
    "trusted": true
   },
   "outputs": [],
   "source": [
    "a = torch.ones(1, dtype=torch.double)"
   ]
  },
  {
   "cell_type": "code",
   "execution_count": 44,
   "metadata": {
    "execution": {
     "iopub.execute_input": "2025-01-01T11:42:46.872341Z",
     "iopub.status.busy": "2025-01-01T11:42:46.871997Z",
     "iopub.status.idle": "2025-01-01T11:42:46.878187Z",
     "shell.execute_reply": "2025-01-01T11:42:46.877159Z",
     "shell.execute_reply.started": "2025-01-01T11:42:46.872313Z"
    },
    "trusted": true
   },
   "outputs": [
    {
     "data": {
      "text/plain": [
       "torch.float64"
      ]
     },
     "execution_count": 44,
     "metadata": {},
     "output_type": "execute_result"
    }
   ],
   "source": [
    "a.dtype"
   ]
  },
  {
   "cell_type": "code",
   "execution_count": 45,
   "metadata": {
    "execution": {
     "iopub.execute_input": "2025-01-01T11:43:02.806274Z",
     "iopub.status.busy": "2025-01-01T11:43:02.805939Z",
     "iopub.status.idle": "2025-01-01T11:43:02.810649Z",
     "shell.execute_reply": "2025-01-01T11:43:02.809552Z",
     "shell.execute_reply.started": "2025-01-01T11:43:02.806246Z"
    },
    "trusted": true
   },
   "outputs": [],
   "source": [
    "a = torch.ones(1, dtype=torch.int16)"
   ]
  },
  {
   "cell_type": "code",
   "execution_count": 46,
   "metadata": {
    "execution": {
     "iopub.execute_input": "2025-01-01T11:43:11.590567Z",
     "iopub.status.busy": "2025-01-01T11:43:11.590221Z",
     "iopub.status.idle": "2025-01-01T11:43:11.596333Z",
     "shell.execute_reply": "2025-01-01T11:43:11.595480Z",
     "shell.execute_reply.started": "2025-01-01T11:43:11.590534Z"
    },
    "trusted": true
   },
   "outputs": [
    {
     "data": {
      "text/plain": [
       "torch.int16"
      ]
     },
     "execution_count": 46,
     "metadata": {},
     "output_type": "execute_result"
    }
   ],
   "source": [
    "a.dtype"
   ]
  },
  {
   "cell_type": "code",
   "execution_count": 47,
   "metadata": {
    "execution": {
     "iopub.execute_input": "2025-01-01T11:44:02.038241Z",
     "iopub.status.busy": "2025-01-01T11:44:02.037911Z",
     "iopub.status.idle": "2025-01-01T11:44:02.042330Z",
     "shell.execute_reply": "2025-01-01T11:44:02.041293Z",
     "shell.execute_reply.started": "2025-01-01T11:44:02.038216Z"
    },
    "trusted": true
   },
   "outputs": [],
   "source": [
    "# reshape a tensor"
   ]
  },
  {
   "cell_type": "markdown",
   "metadata": {},
   "source": [
    "# reshape a tensor"
   ]
  },
  {
   "cell_type": "code",
   "execution_count": 48,
   "metadata": {
    "execution": {
     "iopub.execute_input": "2025-01-01T11:44:34.707367Z",
     "iopub.status.busy": "2025-01-01T11:44:34.707053Z",
     "iopub.status.idle": "2025-01-01T11:44:34.711860Z",
     "shell.execute_reply": "2025-01-01T11:44:34.710807Z",
     "shell.execute_reply.started": "2025-01-01T11:44:34.707344Z"
    },
    "trusted": true
   },
   "outputs": [],
   "source": [
    "a = torch.rand(3,4)"
   ]
  },
  {
   "cell_type": "code",
   "execution_count": 49,
   "metadata": {
    "execution": {
     "iopub.execute_input": "2025-01-01T11:44:38.705119Z",
     "iopub.status.busy": "2025-01-01T11:44:38.704778Z",
     "iopub.status.idle": "2025-01-01T11:44:38.711925Z",
     "shell.execute_reply": "2025-01-01T11:44:38.710916Z",
     "shell.execute_reply.started": "2025-01-01T11:44:38.705091Z"
    },
    "trusted": true
   },
   "outputs": [
    {
     "data": {
      "text/plain": [
       "tensor([[0.5254, 0.3421, 0.1909, 0.1007],\n",
       "        [0.8193, 0.4263, 0.4578, 0.6118],\n",
       "        [0.0434, 0.6322, 0.4326, 0.9391]])"
      ]
     },
     "execution_count": 49,
     "metadata": {},
     "output_type": "execute_result"
    }
   ],
   "source": [
    "a"
   ]
  },
  {
   "cell_type": "code",
   "execution_count": 50,
   "metadata": {
    "execution": {
     "iopub.execute_input": "2025-01-01T11:45:30.672094Z",
     "iopub.status.busy": "2025-01-01T11:45:30.671664Z",
     "iopub.status.idle": "2025-01-01T11:45:30.676404Z",
     "shell.execute_reply": "2025-01-01T11:45:30.675174Z",
     "shell.execute_reply.started": "2025-01-01T11:45:30.672063Z"
    },
    "trusted": true
   },
   "outputs": [],
   "source": [
    "a = a.view(6,2)"
   ]
  },
  {
   "cell_type": "code",
   "execution_count": 51,
   "metadata": {
    "execution": {
     "iopub.execute_input": "2025-01-01T11:45:32.618085Z",
     "iopub.status.busy": "2025-01-01T11:45:32.617747Z",
     "iopub.status.idle": "2025-01-01T11:45:32.625746Z",
     "shell.execute_reply": "2025-01-01T11:45:32.624176Z",
     "shell.execute_reply.started": "2025-01-01T11:45:32.618051Z"
    },
    "trusted": true
   },
   "outputs": [
    {
     "data": {
      "text/plain": [
       "tensor([[0.5254, 0.3421],\n",
       "        [0.1909, 0.1007],\n",
       "        [0.8193, 0.4263],\n",
       "        [0.4578, 0.6118],\n",
       "        [0.0434, 0.6322],\n",
       "        [0.4326, 0.9391]])"
      ]
     },
     "execution_count": 51,
     "metadata": {},
     "output_type": "execute_result"
    }
   ],
   "source": [
    "a"
   ]
  },
  {
   "cell_type": "code",
   "execution_count": 53,
   "metadata": {
    "execution": {
     "iopub.execute_input": "2025-01-01T11:46:01.672434Z",
     "iopub.status.busy": "2025-01-01T11:46:01.672123Z",
     "iopub.status.idle": "2025-01-01T11:46:01.676939Z",
     "shell.execute_reply": "2025-01-01T11:46:01.675930Z",
     "shell.execute_reply.started": "2025-01-01T11:46:01.672410Z"
    },
    "trusted": true
   },
   "outputs": [],
   "source": [
    "a = a.reshape(4,3)"
   ]
  },
  {
   "cell_type": "code",
   "execution_count": 54,
   "metadata": {
    "execution": {
     "iopub.execute_input": "2025-01-01T11:46:04.062371Z",
     "iopub.status.busy": "2025-01-01T11:46:04.062058Z",
     "iopub.status.idle": "2025-01-01T11:46:04.069320Z",
     "shell.execute_reply": "2025-01-01T11:46:04.068396Z",
     "shell.execute_reply.started": "2025-01-01T11:46:04.062347Z"
    },
    "trusted": true
   },
   "outputs": [
    {
     "data": {
      "text/plain": [
       "tensor([[0.5254, 0.3421, 0.1909],\n",
       "        [0.1007, 0.8193, 0.4263],\n",
       "        [0.4578, 0.6118, 0.0434],\n",
       "        [0.6322, 0.4326, 0.9391]])"
      ]
     },
     "execution_count": 54,
     "metadata": {},
     "output_type": "execute_result"
    }
   ],
   "source": [
    "a"
   ]
  },
  {
   "cell_type": "code",
   "execution_count": 55,
   "metadata": {
    "execution": {
     "iopub.execute_input": "2025-01-01T11:46:31.921134Z",
     "iopub.status.busy": "2025-01-01T11:46:31.920762Z",
     "iopub.status.idle": "2025-01-01T11:46:31.925761Z",
     "shell.execute_reply": "2025-01-01T11:46:31.924588Z",
     "shell.execute_reply.started": "2025-01-01T11:46:31.921101Z"
    },
    "trusted": true
   },
   "outputs": [],
   "source": [
    "a = a.view(1, 12)"
   ]
  },
  {
   "cell_type": "code",
   "execution_count": 56,
   "metadata": {
    "execution": {
     "iopub.execute_input": "2025-01-01T11:46:33.389201Z",
     "iopub.status.busy": "2025-01-01T11:46:33.388826Z",
     "iopub.status.idle": "2025-01-01T11:46:33.396044Z",
     "shell.execute_reply": "2025-01-01T11:46:33.395086Z",
     "shell.execute_reply.started": "2025-01-01T11:46:33.389162Z"
    },
    "trusted": true
   },
   "outputs": [
    {
     "data": {
      "text/plain": [
       "tensor([[0.5254, 0.3421, 0.1909, 0.1007, 0.8193, 0.4263, 0.4578, 0.6118, 0.0434,\n",
       "         0.6322, 0.4326, 0.9391]])"
      ]
     },
     "execution_count": 56,
     "metadata": {},
     "output_type": "execute_result"
    }
   ],
   "source": [
    "a"
   ]
  },
  {
   "cell_type": "code",
   "execution_count": 57,
   "metadata": {
    "execution": {
     "iopub.execute_input": "2025-01-01T11:46:48.826728Z",
     "iopub.status.busy": "2025-01-01T11:46:48.826377Z",
     "iopub.status.idle": "2025-01-01T11:46:48.831210Z",
     "shell.execute_reply": "2025-01-01T11:46:48.829979Z",
     "shell.execute_reply.started": "2025-01-01T11:46:48.826674Z"
    },
    "trusted": true
   },
   "outputs": [],
   "source": [
    "a = a.view(12, 1)"
   ]
  },
  {
   "cell_type": "code",
   "execution_count": 58,
   "metadata": {
    "execution": {
     "iopub.execute_input": "2025-01-01T11:46:50.394013Z",
     "iopub.status.busy": "2025-01-01T11:46:50.393628Z",
     "iopub.status.idle": "2025-01-01T11:46:50.401134Z",
     "shell.execute_reply": "2025-01-01T11:46:50.400156Z",
     "shell.execute_reply.started": "2025-01-01T11:46:50.393982Z"
    },
    "trusted": true
   },
   "outputs": [
    {
     "data": {
      "text/plain": [
       "tensor([[0.5254],\n",
       "        [0.3421],\n",
       "        [0.1909],\n",
       "        [0.1007],\n",
       "        [0.8193],\n",
       "        [0.4263],\n",
       "        [0.4578],\n",
       "        [0.6118],\n",
       "        [0.0434],\n",
       "        [0.6322],\n",
       "        [0.4326],\n",
       "        [0.9391]])"
      ]
     },
     "execution_count": 58,
     "metadata": {},
     "output_type": "execute_result"
    }
   ],
   "source": [
    "a"
   ]
  },
  {
   "cell_type": "code",
   "execution_count": 59,
   "metadata": {
    "execution": {
     "iopub.execute_input": "2025-01-01T11:47:19.423713Z",
     "iopub.status.busy": "2025-01-01T11:47:19.423324Z",
     "iopub.status.idle": "2025-01-01T11:47:19.469828Z",
     "shell.execute_reply": "2025-01-01T11:47:19.468521Z",
     "shell.execute_reply.started": "2025-01-01T11:47:19.423655Z"
    },
    "trusted": true
   },
   "outputs": [
    {
     "ename": "RuntimeError",
     "evalue": "shape '[10, 2]' is invalid for input of size 12",
     "output_type": "error",
     "traceback": [
      "\u001b[0;31m---------------------------------------------------------------------------\u001b[0m",
      "\u001b[0;31mRuntimeError\u001b[0m                              Traceback (most recent call last)",
      "\u001b[0;32m<ipython-input-59-f56156826cb1>\u001b[0m in \u001b[0;36m<cell line: 1>\u001b[0;34m()\u001b[0m\n\u001b[0;32m----> 1\u001b[0;31m \u001b[0ma\u001b[0m \u001b[0;34m=\u001b[0m \u001b[0ma\u001b[0m\u001b[0;34m.\u001b[0m\u001b[0mview\u001b[0m\u001b[0;34m(\u001b[0m\u001b[0;36m10\u001b[0m\u001b[0;34m,\u001b[0m \u001b[0;36m2\u001b[0m\u001b[0;34m)\u001b[0m\u001b[0;34m\u001b[0m\u001b[0;34m\u001b[0m\u001b[0m\n\u001b[0m",
      "\u001b[0;31mRuntimeError\u001b[0m: shape '[10, 2]' is invalid for input of size 12"
     ]
    }
   ],
   "source": [
    "a = a.view(10, 2)"
   ]
  },
  {
   "cell_type": "code",
   "execution_count": null,
   "metadata": {
    "trusted": true
   },
   "outputs": [],
   "source": []
  },
  {
   "cell_type": "markdown",
   "metadata": {},
   "source": [
    "# convert a tensor into numpy"
   ]
  },
  {
   "cell_type": "code",
   "execution_count": 84,
   "metadata": {
    "execution": {
     "iopub.execute_input": "2025-01-01T11:52:31.092651Z",
     "iopub.status.busy": "2025-01-01T11:52:31.092313Z",
     "iopub.status.idle": "2025-01-01T11:52:31.097197Z",
     "shell.execute_reply": "2025-01-01T11:52:31.096178Z",
     "shell.execute_reply.started": "2025-01-01T11:52:31.092622Z"
    },
    "trusted": true
   },
   "outputs": [],
   "source": [
    "a = torch.rand(4,3)"
   ]
  },
  {
   "cell_type": "code",
   "execution_count": 85,
   "metadata": {
    "execution": {
     "iopub.execute_input": "2025-01-01T11:52:31.949613Z",
     "iopub.status.busy": "2025-01-01T11:52:31.949201Z",
     "iopub.status.idle": "2025-01-01T11:52:31.955602Z",
     "shell.execute_reply": "2025-01-01T11:52:31.954806Z",
     "shell.execute_reply.started": "2025-01-01T11:52:31.949582Z"
    },
    "trusted": true
   },
   "outputs": [
    {
     "data": {
      "text/plain": [
       "torch.float32"
      ]
     },
     "execution_count": 85,
     "metadata": {},
     "output_type": "execute_result"
    }
   ],
   "source": [
    "a.dtype"
   ]
  },
  {
   "cell_type": "code",
   "execution_count": 86,
   "metadata": {
    "execution": {
     "iopub.execute_input": "2025-01-01T11:52:32.685631Z",
     "iopub.status.busy": "2025-01-01T11:52:32.685291Z",
     "iopub.status.idle": "2025-01-01T11:52:32.691339Z",
     "shell.execute_reply": "2025-01-01T11:52:32.690360Z",
     "shell.execute_reply.started": "2025-01-01T11:52:32.685601Z"
    },
    "trusted": true
   },
   "outputs": [
    {
     "data": {
      "text/plain": [
       "torch.Tensor"
      ]
     },
     "execution_count": 86,
     "metadata": {},
     "output_type": "execute_result"
    }
   ],
   "source": [
    "type(a)"
   ]
  },
  {
   "cell_type": "code",
   "execution_count": 87,
   "metadata": {
    "execution": {
     "iopub.execute_input": "2025-01-01T11:52:33.490058Z",
     "iopub.status.busy": "2025-01-01T11:52:33.489661Z",
     "iopub.status.idle": "2025-01-01T11:52:33.494520Z",
     "shell.execute_reply": "2025-01-01T11:52:33.493414Z",
     "shell.execute_reply.started": "2025-01-01T11:52:33.490027Z"
    },
    "trusted": true
   },
   "outputs": [],
   "source": [
    "b=a.numpy()"
   ]
  },
  {
   "cell_type": "code",
   "execution_count": 88,
   "metadata": {
    "execution": {
     "iopub.execute_input": "2025-01-01T11:52:37.812339Z",
     "iopub.status.busy": "2025-01-01T11:52:37.812019Z",
     "iopub.status.idle": "2025-01-01T11:52:37.818346Z",
     "shell.execute_reply": "2025-01-01T11:52:37.817354Z",
     "shell.execute_reply.started": "2025-01-01T11:52:37.812313Z"
    },
    "trusted": true
   },
   "outputs": [
    {
     "data": {
      "text/plain": [
       "numpy.ndarray"
      ]
     },
     "execution_count": 88,
     "metadata": {},
     "output_type": "execute_result"
    }
   ],
   "source": [
    "type(b)"
   ]
  },
  {
   "cell_type": "code",
   "execution_count": 89,
   "metadata": {
    "execution": {
     "iopub.execute_input": "2025-01-01T11:52:41.032065Z",
     "iopub.status.busy": "2025-01-01T11:52:41.031620Z",
     "iopub.status.idle": "2025-01-01T11:52:41.037890Z",
     "shell.execute_reply": "2025-01-01T11:52:41.036818Z",
     "shell.execute_reply.started": "2025-01-01T11:52:41.032031Z"
    },
    "trusted": true
   },
   "outputs": [
    {
     "data": {
      "text/plain": [
       "dtype('float32')"
      ]
     },
     "execution_count": 89,
     "metadata": {},
     "output_type": "execute_result"
    }
   ],
   "source": [
    "b.dtype"
   ]
  },
  {
   "cell_type": "code",
   "execution_count": 90,
   "metadata": {
    "execution": {
     "iopub.execute_input": "2025-01-01T11:52:48.058386Z",
     "iopub.status.busy": "2025-01-01T11:52:48.058040Z",
     "iopub.status.idle": "2025-01-01T11:52:48.065078Z",
     "shell.execute_reply": "2025-01-01T11:52:48.063980Z",
     "shell.execute_reply.started": "2025-01-01T11:52:48.058354Z"
    },
    "trusted": true
   },
   "outputs": [
    {
     "data": {
      "text/plain": [
       "array([[0.89853686, 0.0441646 , 0.50996804],\n",
       "       [0.63487834, 0.47679526, 0.19076031],\n",
       "       [0.00910217, 0.8741417 , 0.15490621],\n",
       "       [0.20952094, 0.53824496, 0.8886824 ]], dtype=float32)"
      ]
     },
     "execution_count": 90,
     "metadata": {},
     "output_type": "execute_result"
    }
   ],
   "source": [
    "b"
   ]
  },
  {
   "cell_type": "code",
   "execution_count": 91,
   "metadata": {
    "execution": {
     "iopub.execute_input": "2025-01-01T11:52:51.657064Z",
     "iopub.status.busy": "2025-01-01T11:52:51.656648Z",
     "iopub.status.idle": "2025-01-01T11:52:51.661452Z",
     "shell.execute_reply": "2025-01-01T11:52:51.660405Z",
     "shell.execute_reply.started": "2025-01-01T11:52:51.657033Z"
    },
    "trusted": true
   },
   "outputs": [],
   "source": [
    "b[0][0]=1.0"
   ]
  },
  {
   "cell_type": "code",
   "execution_count": 92,
   "metadata": {
    "execution": {
     "iopub.execute_input": "2025-01-01T11:52:54.555347Z",
     "iopub.status.busy": "2025-01-01T11:52:54.555036Z",
     "iopub.status.idle": "2025-01-01T11:52:54.561306Z",
     "shell.execute_reply": "2025-01-01T11:52:54.560379Z",
     "shell.execute_reply.started": "2025-01-01T11:52:54.555324Z"
    },
    "trusted": true
   },
   "outputs": [
    {
     "data": {
      "text/plain": [
       "array([[1.        , 0.0441646 , 0.50996804],\n",
       "       [0.63487834, 0.47679526, 0.19076031],\n",
       "       [0.00910217, 0.8741417 , 0.15490621],\n",
       "       [0.20952094, 0.53824496, 0.8886824 ]], dtype=float32)"
      ]
     },
     "execution_count": 92,
     "metadata": {},
     "output_type": "execute_result"
    }
   ],
   "source": [
    "b"
   ]
  },
  {
   "cell_type": "code",
   "execution_count": 93,
   "metadata": {
    "execution": {
     "iopub.execute_input": "2025-01-01T11:52:57.515705Z",
     "iopub.status.busy": "2025-01-01T11:52:57.515335Z",
     "iopub.status.idle": "2025-01-01T11:52:57.523451Z",
     "shell.execute_reply": "2025-01-01T11:52:57.522395Z",
     "shell.execute_reply.started": "2025-01-01T11:52:57.515651Z"
    },
    "trusted": true
   },
   "outputs": [
    {
     "data": {
      "text/plain": [
       "tensor([[1.0000, 0.0442, 0.5100],\n",
       "        [0.6349, 0.4768, 0.1908],\n",
       "        [0.0091, 0.8741, 0.1549],\n",
       "        [0.2095, 0.5382, 0.8887]])"
      ]
     },
     "execution_count": 93,
     "metadata": {},
     "output_type": "execute_result"
    }
   ],
   "source": [
    "a"
   ]
  },
  {
   "cell_type": "code",
   "execution_count": 94,
   "metadata": {
    "execution": {
     "iopub.execute_input": "2025-01-01T11:53:10.734858Z",
     "iopub.status.busy": "2025-01-01T11:53:10.734474Z",
     "iopub.status.idle": "2025-01-01T11:53:10.741312Z",
     "shell.execute_reply": "2025-01-01T11:53:10.740275Z",
     "shell.execute_reply.started": "2025-01-01T11:53:10.734826Z"
    },
    "trusted": true
   },
   "outputs": [
    {
     "data": {
      "text/plain": [
       "device(type='cpu')"
      ]
     },
     "execution_count": 94,
     "metadata": {},
     "output_type": "execute_result"
    }
   ],
   "source": [
    "a.device"
   ]
  },
  {
   "cell_type": "code",
   "execution_count": null,
   "metadata": {
    "trusted": true
   },
   "outputs": [],
   "source": []
  },
  {
   "cell_type": "markdown",
   "metadata": {},
   "source": [
    "# convert numpy into tensor"
   ]
  },
  {
   "cell_type": "code",
   "execution_count": 95,
   "metadata": {
    "execution": {
     "iopub.execute_input": "2025-01-01T11:55:23.765899Z",
     "iopub.status.busy": "2025-01-01T11:55:23.765478Z",
     "iopub.status.idle": "2025-01-01T11:55:23.770325Z",
     "shell.execute_reply": "2025-01-01T11:55:23.769308Z",
     "shell.execute_reply.started": "2025-01-01T11:55:23.765864Z"
    },
    "trusted": true
   },
   "outputs": [],
   "source": [
    "# as_tensor()\n",
    "# from_numpy()\n",
    "\n",
    "import numpy as np"
   ]
  },
  {
   "cell_type": "code",
   "execution_count": 96,
   "metadata": {
    "execution": {
     "iopub.execute_input": "2025-01-01T11:55:44.803931Z",
     "iopub.status.busy": "2025-01-01T11:55:44.803413Z",
     "iopub.status.idle": "2025-01-01T11:55:44.809159Z",
     "shell.execute_reply": "2025-01-01T11:55:44.807813Z",
     "shell.execute_reply.started": "2025-01-01T11:55:44.803883Z"
    },
    "trusted": true
   },
   "outputs": [],
   "source": [
    "num_a = np.array([1,2, 3])"
   ]
  },
  {
   "cell_type": "code",
   "execution_count": 97,
   "metadata": {
    "execution": {
     "iopub.execute_input": "2025-01-01T11:56:02.077253Z",
     "iopub.status.busy": "2025-01-01T11:56:02.076931Z",
     "iopub.status.idle": "2025-01-01T11:56:02.082925Z",
     "shell.execute_reply": "2025-01-01T11:56:02.081938Z",
     "shell.execute_reply.started": "2025-01-01T11:56:02.077228Z"
    },
    "trusted": true
   },
   "outputs": [
    {
     "data": {
      "text/plain": [
       "numpy.ndarray"
      ]
     },
     "execution_count": 97,
     "metadata": {},
     "output_type": "execute_result"
    }
   ],
   "source": [
    "type(num_a)"
   ]
  },
  {
   "cell_type": "code",
   "execution_count": 98,
   "metadata": {
    "execution": {
     "iopub.execute_input": "2025-01-01T11:56:12.919864Z",
     "iopub.status.busy": "2025-01-01T11:56:12.919448Z",
     "iopub.status.idle": "2025-01-01T11:56:12.925994Z",
     "shell.execute_reply": "2025-01-01T11:56:12.924809Z",
     "shell.execute_reply.started": "2025-01-01T11:56:12.919828Z"
    },
    "trusted": true
   },
   "outputs": [
    {
     "data": {
      "text/plain": [
       "dtype('int64')"
      ]
     },
     "execution_count": 98,
     "metadata": {},
     "output_type": "execute_result"
    }
   ],
   "source": [
    "num_a.dtype"
   ]
  },
  {
   "cell_type": "code",
   "execution_count": 99,
   "metadata": {
    "execution": {
     "iopub.execute_input": "2025-01-01T11:57:41.192842Z",
     "iopub.status.busy": "2025-01-01T11:57:41.192346Z",
     "iopub.status.idle": "2025-01-01T11:57:41.197643Z",
     "shell.execute_reply": "2025-01-01T11:57:41.196551Z",
     "shell.execute_reply.started": "2025-01-01T11:57:41.192805Z"
    },
    "trusted": true
   },
   "outputs": [],
   "source": [
    "a = torch.as_tensor(num_a.astype(np.float16))"
   ]
  },
  {
   "cell_type": "code",
   "execution_count": 100,
   "metadata": {
    "execution": {
     "iopub.execute_input": "2025-01-01T11:57:44.022361Z",
     "iopub.status.busy": "2025-01-01T11:57:44.021995Z",
     "iopub.status.idle": "2025-01-01T11:57:44.029700Z",
     "shell.execute_reply": "2025-01-01T11:57:44.028588Z",
     "shell.execute_reply.started": "2025-01-01T11:57:44.022330Z"
    },
    "trusted": true
   },
   "outputs": [
    {
     "data": {
      "text/plain": [
       "tensor([1., 2., 3.], dtype=torch.float16)"
      ]
     },
     "execution_count": 100,
     "metadata": {},
     "output_type": "execute_result"
    }
   ],
   "source": [
    "a"
   ]
  },
  {
   "cell_type": "code",
   "execution_count": 101,
   "metadata": {
    "execution": {
     "iopub.execute_input": "2025-01-01T11:58:00.015939Z",
     "iopub.status.busy": "2025-01-01T11:58:00.015567Z",
     "iopub.status.idle": "2025-01-01T11:58:00.021664Z",
     "shell.execute_reply": "2025-01-01T11:58:00.020780Z",
     "shell.execute_reply.started": "2025-01-01T11:58:00.015908Z"
    },
    "trusted": true
   },
   "outputs": [
    {
     "data": {
      "text/plain": [
       "torch.Tensor"
      ]
     },
     "execution_count": 101,
     "metadata": {},
     "output_type": "execute_result"
    }
   ],
   "source": [
    "type(a)"
   ]
  },
  {
   "cell_type": "code",
   "execution_count": 102,
   "metadata": {
    "execution": {
     "iopub.execute_input": "2025-01-01T11:58:08.472977Z",
     "iopub.status.busy": "2025-01-01T11:58:08.472591Z",
     "iopub.status.idle": "2025-01-01T11:58:08.478588Z",
     "shell.execute_reply": "2025-01-01T11:58:08.477552Z",
     "shell.execute_reply.started": "2025-01-01T11:58:08.472944Z"
    },
    "trusted": true
   },
   "outputs": [
    {
     "data": {
      "text/plain": [
       "torch.float16"
      ]
     },
     "execution_count": 102,
     "metadata": {},
     "output_type": "execute_result"
    }
   ],
   "source": [
    "a.dtype"
   ]
  },
  {
   "cell_type": "code",
   "execution_count": 103,
   "metadata": {
    "execution": {
     "iopub.execute_input": "2025-01-01T11:58:37.763310Z",
     "iopub.status.busy": "2025-01-01T11:58:37.762968Z",
     "iopub.status.idle": "2025-01-01T11:58:37.767729Z",
     "shell.execute_reply": "2025-01-01T11:58:37.766419Z",
     "shell.execute_reply.started": "2025-01-01T11:58:37.763279Z"
    },
    "trusted": true
   },
   "outputs": [],
   "source": [
    "a1 = np.array([1,3,4])"
   ]
  },
  {
   "cell_type": "code",
   "execution_count": 104,
   "metadata": {
    "execution": {
     "iopub.execute_input": "2025-01-01T11:58:40.967108Z",
     "iopub.status.busy": "2025-01-01T11:58:40.966782Z",
     "iopub.status.idle": "2025-01-01T11:58:40.974103Z",
     "shell.execute_reply": "2025-01-01T11:58:40.973093Z",
     "shell.execute_reply.started": "2025-01-01T11:58:40.967083Z"
    },
    "trusted": true
   },
   "outputs": [
    {
     "data": {
      "text/plain": [
       "array([1, 3, 4])"
      ]
     },
     "execution_count": 104,
     "metadata": {},
     "output_type": "execute_result"
    }
   ],
   "source": [
    "a1"
   ]
  },
  {
   "cell_type": "code",
   "execution_count": 105,
   "metadata": {
    "execution": {
     "iopub.execute_input": "2025-01-01T11:58:48.909054Z",
     "iopub.status.busy": "2025-01-01T11:58:48.908616Z",
     "iopub.status.idle": "2025-01-01T11:58:48.914804Z",
     "shell.execute_reply": "2025-01-01T11:58:48.913851Z",
     "shell.execute_reply.started": "2025-01-01T11:58:48.909012Z"
    },
    "trusted": true
   },
   "outputs": [
    {
     "data": {
      "text/plain": [
       "numpy.ndarray"
      ]
     },
     "execution_count": 105,
     "metadata": {},
     "output_type": "execute_result"
    }
   ],
   "source": [
    "type(a1)"
   ]
  },
  {
   "cell_type": "code",
   "execution_count": 106,
   "metadata": {
    "execution": {
     "iopub.execute_input": "2025-01-01T11:59:19.104099Z",
     "iopub.status.busy": "2025-01-01T11:59:19.103718Z",
     "iopub.status.idle": "2025-01-01T11:59:19.108422Z",
     "shell.execute_reply": "2025-01-01T11:59:19.107388Z",
     "shell.execute_reply.started": "2025-01-01T11:59:19.104069Z"
    },
    "trusted": true
   },
   "outputs": [],
   "source": [
    "a11 = torch.from_numpy(a1.astype(np.float32))"
   ]
  },
  {
   "cell_type": "code",
   "execution_count": 107,
   "metadata": {
    "execution": {
     "iopub.execute_input": "2025-01-01T11:59:25.821809Z",
     "iopub.status.busy": "2025-01-01T11:59:25.821306Z",
     "iopub.status.idle": "2025-01-01T11:59:25.828940Z",
     "shell.execute_reply": "2025-01-01T11:59:25.827883Z",
     "shell.execute_reply.started": "2025-01-01T11:59:25.821774Z"
    },
    "trusted": true
   },
   "outputs": [
    {
     "data": {
      "text/plain": [
       "tensor([1., 3., 4.])"
      ]
     },
     "execution_count": 107,
     "metadata": {},
     "output_type": "execute_result"
    }
   ],
   "source": [
    "a11"
   ]
  },
  {
   "cell_type": "code",
   "execution_count": 108,
   "metadata": {
    "execution": {
     "iopub.execute_input": "2025-01-01T11:59:44.784447Z",
     "iopub.status.busy": "2025-01-01T11:59:44.784135Z",
     "iopub.status.idle": "2025-01-01T11:59:44.790252Z",
     "shell.execute_reply": "2025-01-01T11:59:44.789346Z",
     "shell.execute_reply.started": "2025-01-01T11:59:44.784422Z"
    },
    "trusted": true
   },
   "outputs": [
    {
     "data": {
      "text/plain": [
       "torch.Tensor"
      ]
     },
     "execution_count": 108,
     "metadata": {},
     "output_type": "execute_result"
    }
   ],
   "source": [
    "type(a11)"
   ]
  },
  {
   "cell_type": "code",
   "execution_count": null,
   "metadata": {
    "trusted": true
   },
   "outputs": [],
   "source": []
  },
  {
   "cell_type": "markdown",
   "metadata": {},
   "source": [
    "# slicing"
   ]
  },
  {
   "cell_type": "code",
   "execution_count": 109,
   "metadata": {
    "execution": {
     "iopub.execute_input": "2025-01-01T12:00:54.362299Z",
     "iopub.status.busy": "2025-01-01T12:00:54.361969Z",
     "iopub.status.idle": "2025-01-01T12:00:54.366819Z",
     "shell.execute_reply": "2025-01-01T12:00:54.365762Z",
     "shell.execute_reply.started": "2025-01-01T12:00:54.362270Z"
    },
    "trusted": true
   },
   "outputs": [],
   "source": [
    "a = torch.rand(4, 5)"
   ]
  },
  {
   "cell_type": "code",
   "execution_count": 110,
   "metadata": {
    "execution": {
     "iopub.execute_input": "2025-01-01T12:00:56.880246Z",
     "iopub.status.busy": "2025-01-01T12:00:56.879903Z",
     "iopub.status.idle": "2025-01-01T12:00:56.886752Z",
     "shell.execute_reply": "2025-01-01T12:00:56.885913Z",
     "shell.execute_reply.started": "2025-01-01T12:00:56.880209Z"
    },
    "trusted": true
   },
   "outputs": [
    {
     "data": {
      "text/plain": [
       "tensor([[0.5947, 0.8824, 0.6633, 0.0398, 0.3222],\n",
       "        [0.0829, 0.0824, 0.6629, 0.8239, 0.4301],\n",
       "        [0.4162, 0.7011, 0.2226, 0.1832, 0.3354],\n",
       "        [0.5333, 0.0575, 0.3737, 0.7059, 0.2949]])"
      ]
     },
     "execution_count": 110,
     "metadata": {},
     "output_type": "execute_result"
    }
   ],
   "source": [
    "a"
   ]
  },
  {
   "cell_type": "code",
   "execution_count": 111,
   "metadata": {
    "execution": {
     "iopub.execute_input": "2025-01-01T12:01:46.367076Z",
     "iopub.status.busy": "2025-01-01T12:01:46.366664Z",
     "iopub.status.idle": "2025-01-01T12:01:46.382843Z",
     "shell.execute_reply": "2025-01-01T12:01:46.381448Z",
     "shell.execute_reply.started": "2025-01-01T12:01:46.367047Z"
    },
    "trusted": true
   },
   "outputs": [
    {
     "data": {
      "text/plain": [
       "tensor([[0.8824, 0.6633, 0.0398, 0.3222],\n",
       "        [0.0824, 0.6629, 0.8239, 0.4301],\n",
       "        [0.7011, 0.2226, 0.1832, 0.3354],\n",
       "        [0.0575, 0.3737, 0.7059, 0.2949]])"
      ]
     },
     "execution_count": 111,
     "metadata": {},
     "output_type": "execute_result"
    }
   ],
   "source": [
    "a[:,1:]"
   ]
  },
  {
   "cell_type": "code",
   "execution_count": 113,
   "metadata": {
    "execution": {
     "iopub.execute_input": "2025-01-01T12:04:39.586643Z",
     "iopub.status.busy": "2025-01-01T12:04:39.586279Z",
     "iopub.status.idle": "2025-01-01T12:04:39.594346Z",
     "shell.execute_reply": "2025-01-01T12:04:39.593464Z",
     "shell.execute_reply.started": "2025-01-01T12:04:39.586611Z"
    },
    "trusted": true
   },
   "outputs": [
    {
     "data": {
      "text/plain": [
       "tensor([[0.0829, 0.0824, 0.6629, 0.8239, 0.4301],\n",
       "        [0.4162, 0.7011, 0.2226, 0.1832, 0.3354]])"
      ]
     },
     "execution_count": 113,
     "metadata": {},
     "output_type": "execute_result"
    }
   ],
   "source": [
    "a[1:3, :]"
   ]
  },
  {
   "cell_type": "code",
   "execution_count": null,
   "metadata": {
    "trusted": true
   },
   "outputs": [],
   "source": []
  },
  {
   "cell_type": "markdown",
   "metadata": {},
   "source": [
    "# stack and concatenate"
   ]
  },
  {
   "cell_type": "code",
   "execution_count": 114,
   "metadata": {
    "execution": {
     "iopub.execute_input": "2025-01-01T12:07:16.903969Z",
     "iopub.status.busy": "2025-01-01T12:07:16.903565Z",
     "iopub.status.idle": "2025-01-01T12:07:16.912172Z",
     "shell.execute_reply": "2025-01-01T12:07:16.911043Z",
     "shell.execute_reply.started": "2025-01-01T12:07:16.903937Z"
    },
    "trusted": true
   },
   "outputs": [
    {
     "name": "stdout",
     "output_type": "stream",
     "text": [
      "tensor([[0.2226, 0.2232, 0.3141],\n",
      "        [0.4741, 0.8182, 0.3392]])\n",
      "tensor([[0.3136, 0.3919, 0.9276],\n",
      "        [0.9008, 0.6239, 0.8552]])\n"
     ]
    }
   ],
   "source": [
    "a = torch.rand(2,3)\n",
    "b = torch.rand(2,3)\n",
    "\n",
    "print(a)\n",
    "print(b)"
   ]
  },
  {
   "cell_type": "code",
   "execution_count": 117,
   "metadata": {
    "execution": {
     "iopub.execute_input": "2025-01-01T12:08:30.750080Z",
     "iopub.status.busy": "2025-01-01T12:08:30.749711Z",
     "iopub.status.idle": "2025-01-01T12:08:30.755974Z",
     "shell.execute_reply": "2025-01-01T12:08:30.754939Z",
     "shell.execute_reply.started": "2025-01-01T12:08:30.750051Z"
    },
    "trusted": true
   },
   "outputs": [
    {
     "data": {
      "text/plain": [
       "torch.Size([2, 3])"
      ]
     },
     "execution_count": 117,
     "metadata": {},
     "output_type": "execute_result"
    }
   ],
   "source": [
    "a.shape"
   ]
  },
  {
   "cell_type": "code",
   "execution_count": 118,
   "metadata": {
    "execution": {
     "iopub.execute_input": "2025-01-01T12:08:37.315636Z",
     "iopub.status.busy": "2025-01-01T12:08:37.315191Z",
     "iopub.status.idle": "2025-01-01T12:08:37.322339Z",
     "shell.execute_reply": "2025-01-01T12:08:37.321238Z",
     "shell.execute_reply.started": "2025-01-01T12:08:37.315589Z"
    },
    "trusted": true
   },
   "outputs": [
    {
     "data": {
      "text/plain": [
       "torch.Size([2, 3])"
      ]
     },
     "execution_count": 118,
     "metadata": {},
     "output_type": "execute_result"
    }
   ],
   "source": [
    "b.shape"
   ]
  },
  {
   "cell_type": "code",
   "execution_count": null,
   "metadata": {
    "trusted": true
   },
   "outputs": [],
   "source": []
  },
  {
   "cell_type": "code",
   "execution_count": 115,
   "metadata": {
    "execution": {
     "iopub.execute_input": "2025-01-01T12:07:53.569325Z",
     "iopub.status.busy": "2025-01-01T12:07:53.568992Z",
     "iopub.status.idle": "2025-01-01T12:07:53.578256Z",
     "shell.execute_reply": "2025-01-01T12:07:53.576930Z",
     "shell.execute_reply.started": "2025-01-01T12:07:53.569300Z"
    },
    "trusted": true
   },
   "outputs": [],
   "source": [
    "c = torch.stack([a, b], axis=0)"
   ]
  },
  {
   "cell_type": "code",
   "execution_count": 116,
   "metadata": {
    "execution": {
     "iopub.execute_input": "2025-01-01T12:07:56.488491Z",
     "iopub.status.busy": "2025-01-01T12:07:56.488140Z",
     "iopub.status.idle": "2025-01-01T12:07:56.495480Z",
     "shell.execute_reply": "2025-01-01T12:07:56.494573Z",
     "shell.execute_reply.started": "2025-01-01T12:07:56.488459Z"
    },
    "trusted": true
   },
   "outputs": [
    {
     "data": {
      "text/plain": [
       "tensor([[[0.2226, 0.2232, 0.3141],\n",
       "         [0.4741, 0.8182, 0.3392]],\n",
       "\n",
       "        [[0.3136, 0.3919, 0.9276],\n",
       "         [0.9008, 0.6239, 0.8552]]])"
      ]
     },
     "execution_count": 116,
     "metadata": {},
     "output_type": "execute_result"
    }
   ],
   "source": [
    "c"
   ]
  },
  {
   "cell_type": "code",
   "execution_count": 119,
   "metadata": {
    "execution": {
     "iopub.execute_input": "2025-01-01T12:08:55.713392Z",
     "iopub.status.busy": "2025-01-01T12:08:55.713072Z",
     "iopub.status.idle": "2025-01-01T12:08:55.718930Z",
     "shell.execute_reply": "2025-01-01T12:08:55.718079Z",
     "shell.execute_reply.started": "2025-01-01T12:08:55.713366Z"
    },
    "trusted": true
   },
   "outputs": [
    {
     "data": {
      "text/plain": [
       "torch.Size([2, 2, 3])"
      ]
     },
     "execution_count": 119,
     "metadata": {},
     "output_type": "execute_result"
    }
   ],
   "source": [
    "c.shape"
   ]
  },
  {
   "cell_type": "code",
   "execution_count": 120,
   "metadata": {
    "execution": {
     "iopub.execute_input": "2025-01-01T12:10:32.149072Z",
     "iopub.status.busy": "2025-01-01T12:10:32.148674Z",
     "iopub.status.idle": "2025-01-01T12:10:32.154207Z",
     "shell.execute_reply": "2025-01-01T12:10:32.153083Z",
     "shell.execute_reply.started": "2025-01-01T12:10:32.149042Z"
    },
    "trusted": true
   },
   "outputs": [],
   "source": [
    "a = torch.rand(2,3)\n",
    "b = torch.rand(2,3)\n"
   ]
  },
  {
   "cell_type": "code",
   "execution_count": 121,
   "metadata": {
    "execution": {
     "iopub.execute_input": "2025-01-01T12:10:43.758065Z",
     "iopub.status.busy": "2025-01-01T12:10:43.757600Z",
     "iopub.status.idle": "2025-01-01T12:10:43.764259Z",
     "shell.execute_reply": "2025-01-01T12:10:43.763215Z",
     "shell.execute_reply.started": "2025-01-01T12:10:43.758029Z"
    },
    "trusted": true
   },
   "outputs": [
    {
     "name": "stdout",
     "output_type": "stream",
     "text": [
      "torch.Size([2, 3]) torch.Size([2, 3])\n"
     ]
    }
   ],
   "source": [
    "print(a.shape, b.shape)"
   ]
  },
  {
   "cell_type": "code",
   "execution_count": 122,
   "metadata": {
    "execution": {
     "iopub.execute_input": "2025-01-01T12:11:10.925382Z",
     "iopub.status.busy": "2025-01-01T12:11:10.925004Z",
     "iopub.status.idle": "2025-01-01T12:11:10.931972Z",
     "shell.execute_reply": "2025-01-01T12:11:10.930875Z",
     "shell.execute_reply.started": "2025-01-01T12:11:10.925346Z"
    },
    "trusted": true
   },
   "outputs": [],
   "source": [
    "c = torch.cat([a, b], axis=0)"
   ]
  },
  {
   "cell_type": "code",
   "execution_count": 123,
   "metadata": {
    "execution": {
     "iopub.execute_input": "2025-01-01T12:11:13.224841Z",
     "iopub.status.busy": "2025-01-01T12:11:13.224438Z",
     "iopub.status.idle": "2025-01-01T12:11:13.231591Z",
     "shell.execute_reply": "2025-01-01T12:11:13.230669Z",
     "shell.execute_reply.started": "2025-01-01T12:11:13.224809Z"
    },
    "trusted": true
   },
   "outputs": [
    {
     "data": {
      "text/plain": [
       "tensor([[0.0684, 0.3975, 0.8350],\n",
       "        [0.4554, 0.6882, 0.3839],\n",
       "        [0.9375, 0.5018, 0.5122],\n",
       "        [0.0952, 0.6670, 0.5744]])"
      ]
     },
     "execution_count": 123,
     "metadata": {},
     "output_type": "execute_result"
    }
   ],
   "source": [
    "c"
   ]
  },
  {
   "cell_type": "code",
   "execution_count": 124,
   "metadata": {
    "execution": {
     "iopub.execute_input": "2025-01-01T12:11:39.464049Z",
     "iopub.status.busy": "2025-01-01T12:11:39.463611Z",
     "iopub.status.idle": "2025-01-01T12:11:39.469825Z",
     "shell.execute_reply": "2025-01-01T12:11:39.468895Z",
     "shell.execute_reply.started": "2025-01-01T12:11:39.464016Z"
    },
    "trusted": true
   },
   "outputs": [
    {
     "data": {
      "text/plain": [
       "torch.Size([4, 3])"
      ]
     },
     "execution_count": 124,
     "metadata": {},
     "output_type": "execute_result"
    }
   ],
   "source": [
    "c.shape"
   ]
  },
  {
   "cell_type": "code",
   "execution_count": 125,
   "metadata": {
    "execution": {
     "iopub.execute_input": "2025-01-01T12:12:16.274126Z",
     "iopub.status.busy": "2025-01-01T12:12:16.273809Z",
     "iopub.status.idle": "2025-01-01T12:12:16.278288Z",
     "shell.execute_reply": "2025-01-01T12:12:16.277344Z",
     "shell.execute_reply.started": "2025-01-01T12:12:16.274101Z"
    },
    "trusted": true
   },
   "outputs": [],
   "source": [
    "d = torch.rand(5, 3)"
   ]
  },
  {
   "cell_type": "code",
   "execution_count": 126,
   "metadata": {
    "execution": {
     "iopub.execute_input": "2025-01-01T12:12:18.749392Z",
     "iopub.status.busy": "2025-01-01T12:12:18.749077Z",
     "iopub.status.idle": "2025-01-01T12:12:18.756497Z",
     "shell.execute_reply": "2025-01-01T12:12:18.755666Z",
     "shell.execute_reply.started": "2025-01-01T12:12:18.749368Z"
    },
    "trusted": true
   },
   "outputs": [
    {
     "data": {
      "text/plain": [
       "tensor([[0.5799, 0.9837, 0.3657],\n",
       "        [0.7752, 0.7997, 0.9014],\n",
       "        [0.7895, 0.8903, 0.5997],\n",
       "        [0.3357, 0.8629, 0.4275],\n",
       "        [0.3133, 0.5064, 0.3370]])"
      ]
     },
     "execution_count": 126,
     "metadata": {},
     "output_type": "execute_result"
    }
   ],
   "source": [
    "d"
   ]
  },
  {
   "cell_type": "code",
   "execution_count": 127,
   "metadata": {
    "execution": {
     "iopub.execute_input": "2025-01-01T12:12:48.038760Z",
     "iopub.status.busy": "2025-01-01T12:12:48.038363Z",
     "iopub.status.idle": "2025-01-01T12:12:48.043385Z",
     "shell.execute_reply": "2025-01-01T12:12:48.042229Z",
     "shell.execute_reply.started": "2025-01-01T12:12:48.038677Z"
    },
    "trusted": true
   },
   "outputs": [],
   "source": [
    " z = torch.cat([a, d], axis=0)"
   ]
  },
  {
   "cell_type": "code",
   "execution_count": 128,
   "metadata": {
    "execution": {
     "iopub.execute_input": "2025-01-01T12:12:52.416906Z",
     "iopub.status.busy": "2025-01-01T12:12:52.416499Z",
     "iopub.status.idle": "2025-01-01T12:12:52.423963Z",
     "shell.execute_reply": "2025-01-01T12:12:52.422790Z",
     "shell.execute_reply.started": "2025-01-01T12:12:52.416873Z"
    },
    "trusted": true
   },
   "outputs": [
    {
     "data": {
      "text/plain": [
       "tensor([[0.0684, 0.3975, 0.8350],\n",
       "        [0.4554, 0.6882, 0.3839],\n",
       "        [0.5799, 0.9837, 0.3657],\n",
       "        [0.7752, 0.7997, 0.9014],\n",
       "        [0.7895, 0.8903, 0.5997],\n",
       "        [0.3357, 0.8629, 0.4275],\n",
       "        [0.3133, 0.5064, 0.3370]])"
      ]
     },
     "execution_count": 128,
     "metadata": {},
     "output_type": "execute_result"
    }
   ],
   "source": [
    "z"
   ]
  },
  {
   "cell_type": "code",
   "execution_count": 129,
   "metadata": {
    "execution": {
     "iopub.execute_input": "2025-01-01T12:13:04.144864Z",
     "iopub.status.busy": "2025-01-01T12:13:04.144439Z",
     "iopub.status.idle": "2025-01-01T12:13:04.150401Z",
     "shell.execute_reply": "2025-01-01T12:13:04.149413Z",
     "shell.execute_reply.started": "2025-01-01T12:13:04.144829Z"
    },
    "trusted": true
   },
   "outputs": [
    {
     "data": {
      "text/plain": [
       "torch.Size([7, 3])"
      ]
     },
     "execution_count": 129,
     "metadata": {},
     "output_type": "execute_result"
    }
   ],
   "source": [
    "z.shape"
   ]
  },
  {
   "cell_type": "code",
   "execution_count": null,
   "metadata": {
    "trusted": true
   },
   "outputs": [],
   "source": [
    "# copy a tensor"
   ]
  },
  {
   "cell_type": "markdown",
   "metadata": {},
   "source": [
    "# copy a tensor"
   ]
  },
  {
   "cell_type": "code",
   "execution_count": 130,
   "metadata": {
    "execution": {
     "iopub.execute_input": "2025-01-01T12:14:53.279183Z",
     "iopub.status.busy": "2025-01-01T12:14:53.278794Z",
     "iopub.status.idle": "2025-01-01T12:14:53.283671Z",
     "shell.execute_reply": "2025-01-01T12:14:53.282771Z",
     "shell.execute_reply.started": "2025-01-01T12:14:53.279151Z"
    },
    "trusted": true
   },
   "outputs": [],
   "source": [
    "a = torch.rand(2, 4)"
   ]
  },
  {
   "cell_type": "code",
   "execution_count": 131,
   "metadata": {
    "execution": {
     "iopub.execute_input": "2025-01-01T12:15:00.170111Z",
     "iopub.status.busy": "2025-01-01T12:15:00.169745Z",
     "iopub.status.idle": "2025-01-01T12:15:00.174380Z",
     "shell.execute_reply": "2025-01-01T12:15:00.173145Z",
     "shell.execute_reply.started": "2025-01-01T12:15:00.170084Z"
    },
    "trusted": true
   },
   "outputs": [],
   "source": [
    "b = a"
   ]
  },
  {
   "cell_type": "code",
   "execution_count": 132,
   "metadata": {
    "execution": {
     "iopub.execute_input": "2025-01-01T12:15:05.149678Z",
     "iopub.status.busy": "2025-01-01T12:15:05.149358Z",
     "iopub.status.idle": "2025-01-01T12:15:05.156842Z",
     "shell.execute_reply": "2025-01-01T12:15:05.155804Z",
     "shell.execute_reply.started": "2025-01-01T12:15:05.149652Z"
    },
    "trusted": true
   },
   "outputs": [
    {
     "data": {
      "text/plain": [
       "tensor([[0.8343, 0.5487, 0.0835, 0.2395],\n",
       "        [0.4204, 0.0705, 0.3015, 0.3315]])"
      ]
     },
     "execution_count": 132,
     "metadata": {},
     "output_type": "execute_result"
    }
   ],
   "source": [
    "a"
   ]
  },
  {
   "cell_type": "code",
   "execution_count": 133,
   "metadata": {
    "execution": {
     "iopub.execute_input": "2025-01-01T12:15:07.383785Z",
     "iopub.status.busy": "2025-01-01T12:15:07.383370Z",
     "iopub.status.idle": "2025-01-01T12:15:07.390766Z",
     "shell.execute_reply": "2025-01-01T12:15:07.389652Z",
     "shell.execute_reply.started": "2025-01-01T12:15:07.383745Z"
    },
    "trusted": true
   },
   "outputs": [
    {
     "data": {
      "text/plain": [
       "tensor([[0.8343, 0.5487, 0.0835, 0.2395],\n",
       "        [0.4204, 0.0705, 0.3015, 0.3315]])"
      ]
     },
     "execution_count": 133,
     "metadata": {},
     "output_type": "execute_result"
    }
   ],
   "source": [
    "b"
   ]
  },
  {
   "cell_type": "code",
   "execution_count": 134,
   "metadata": {
    "execution": {
     "iopub.execute_input": "2025-01-01T12:15:49.979459Z",
     "iopub.status.busy": "2025-01-01T12:15:49.979117Z",
     "iopub.status.idle": "2025-01-01T12:15:49.984336Z",
     "shell.execute_reply": "2025-01-01T12:15:49.983261Z",
     "shell.execute_reply.started": "2025-01-01T12:15:49.979423Z"
    },
    "trusted": true
   },
   "outputs": [],
   "source": [
    "b[0][0]= 2.0"
   ]
  },
  {
   "cell_type": "code",
   "execution_count": 135,
   "metadata": {
    "execution": {
     "iopub.execute_input": "2025-01-01T12:15:52.726902Z",
     "iopub.status.busy": "2025-01-01T12:15:52.726431Z",
     "iopub.status.idle": "2025-01-01T12:15:52.734154Z",
     "shell.execute_reply": "2025-01-01T12:15:52.732981Z",
     "shell.execute_reply.started": "2025-01-01T12:15:52.726869Z"
    },
    "trusted": true
   },
   "outputs": [
    {
     "data": {
      "text/plain": [
       "tensor([[2.0000, 0.5487, 0.0835, 0.2395],\n",
       "        [0.4204, 0.0705, 0.3015, 0.3315]])"
      ]
     },
     "execution_count": 135,
     "metadata": {},
     "output_type": "execute_result"
    }
   ],
   "source": [
    "b"
   ]
  },
  {
   "cell_type": "code",
   "execution_count": 136,
   "metadata": {
    "execution": {
     "iopub.execute_input": "2025-01-01T12:16:04.587057Z",
     "iopub.status.busy": "2025-01-01T12:16:04.586717Z",
     "iopub.status.idle": "2025-01-01T12:16:04.594170Z",
     "shell.execute_reply": "2025-01-01T12:16:04.593199Z",
     "shell.execute_reply.started": "2025-01-01T12:16:04.587030Z"
    },
    "trusted": true
   },
   "outputs": [
    {
     "data": {
      "text/plain": [
       "tensor([[2.0000, 0.5487, 0.0835, 0.2395],\n",
       "        [0.4204, 0.0705, 0.3015, 0.3315]])"
      ]
     },
     "execution_count": 136,
     "metadata": {},
     "output_type": "execute_result"
    }
   ],
   "source": [
    "a"
   ]
  },
  {
   "cell_type": "code",
   "execution_count": 137,
   "metadata": {
    "execution": {
     "iopub.execute_input": "2025-01-01T12:31:25.869009Z",
     "iopub.status.busy": "2025-01-01T12:31:25.868641Z",
     "iopub.status.idle": "2025-01-01T12:31:25.876354Z",
     "shell.execute_reply": "2025-01-01T12:31:25.875501Z",
     "shell.execute_reply.started": "2025-01-01T12:31:25.868981Z"
    },
    "trusted": true
   },
   "outputs": [
    {
     "data": {
      "text/plain": [
       "tensor([[2.0000, 0.5487, 0.0835, 0.2395],\n",
       "        [0.4204, 0.0705, 0.3015, 0.3315]])"
      ]
     },
     "execution_count": 137,
     "metadata": {},
     "output_type": "execute_result"
    }
   ],
   "source": [
    "# clone()\n",
    "a "
   ]
  },
  {
   "cell_type": "code",
   "execution_count": 138,
   "metadata": {
    "execution": {
     "iopub.execute_input": "2025-01-01T12:31:38.343974Z",
     "iopub.status.busy": "2025-01-01T12:31:38.343584Z",
     "iopub.status.idle": "2025-01-01T12:31:38.348605Z",
     "shell.execute_reply": "2025-01-01T12:31:38.347552Z",
     "shell.execute_reply.started": "2025-01-01T12:31:38.343943Z"
    },
    "trusted": true
   },
   "outputs": [],
   "source": [
    "c = a.clone()"
   ]
  },
  {
   "cell_type": "code",
   "execution_count": 139,
   "metadata": {
    "execution": {
     "iopub.execute_input": "2025-01-01T12:31:42.591790Z",
     "iopub.status.busy": "2025-01-01T12:31:42.591312Z",
     "iopub.status.idle": "2025-01-01T12:31:42.598859Z",
     "shell.execute_reply": "2025-01-01T12:31:42.597887Z",
     "shell.execute_reply.started": "2025-01-01T12:31:42.591757Z"
    },
    "trusted": true
   },
   "outputs": [
    {
     "data": {
      "text/plain": [
       "tensor([[2.0000, 0.5487, 0.0835, 0.2395],\n",
       "        [0.4204, 0.0705, 0.3015, 0.3315]])"
      ]
     },
     "execution_count": 139,
     "metadata": {},
     "output_type": "execute_result"
    }
   ],
   "source": [
    "c"
   ]
  },
  {
   "cell_type": "code",
   "execution_count": 140,
   "metadata": {
    "execution": {
     "iopub.execute_input": "2025-01-01T12:32:09.547049Z",
     "iopub.status.busy": "2025-01-01T12:32:09.546652Z",
     "iopub.status.idle": "2025-01-01T12:32:09.552386Z",
     "shell.execute_reply": "2025-01-01T12:32:09.551165Z",
     "shell.execute_reply.started": "2025-01-01T12:32:09.547022Z"
    },
    "trusted": true
   },
   "outputs": [],
   "source": [
    "c[0][0]= 1.0"
   ]
  },
  {
   "cell_type": "code",
   "execution_count": 141,
   "metadata": {
    "execution": {
     "iopub.execute_input": "2025-01-01T12:32:17.628419Z",
     "iopub.status.busy": "2025-01-01T12:32:17.628103Z",
     "iopub.status.idle": "2025-01-01T12:32:17.635196Z",
     "shell.execute_reply": "2025-01-01T12:32:17.634193Z",
     "shell.execute_reply.started": "2025-01-01T12:32:17.628395Z"
    },
    "trusted": true
   },
   "outputs": [
    {
     "data": {
      "text/plain": [
       "tensor([[1.0000, 0.5487, 0.0835, 0.2395],\n",
       "        [0.4204, 0.0705, 0.3015, 0.3315]])"
      ]
     },
     "execution_count": 141,
     "metadata": {},
     "output_type": "execute_result"
    }
   ],
   "source": [
    "c"
   ]
  },
  {
   "cell_type": "code",
   "execution_count": 142,
   "metadata": {
    "execution": {
     "iopub.execute_input": "2025-01-01T12:32:24.723359Z",
     "iopub.status.busy": "2025-01-01T12:32:24.723019Z",
     "iopub.status.idle": "2025-01-01T12:32:24.730747Z",
     "shell.execute_reply": "2025-01-01T12:32:24.729611Z",
     "shell.execute_reply.started": "2025-01-01T12:32:24.723328Z"
    },
    "trusted": true
   },
   "outputs": [
    {
     "data": {
      "text/plain": [
       "tensor([[2.0000, 0.5487, 0.0835, 0.2395],\n",
       "        [0.4204, 0.0705, 0.3015, 0.3315]])"
      ]
     },
     "execution_count": 142,
     "metadata": {},
     "output_type": "execute_result"
    }
   ],
   "source": [
    "a"
   ]
  },
  {
   "cell_type": "markdown",
   "metadata": {},
   "source": [
    "# basic maths operations "
   ]
  },
  {
   "cell_type": "code",
   "execution_count": 143,
   "metadata": {
    "execution": {
     "iopub.execute_input": "2025-01-01T12:33:06.329917Z",
     "iopub.status.busy": "2025-01-01T12:33:06.329517Z",
     "iopub.status.idle": "2025-01-01T12:33:06.335031Z",
     "shell.execute_reply": "2025-01-01T12:33:06.333314Z",
     "shell.execute_reply.started": "2025-01-01T12:33:06.329884Z"
    },
    "trusted": true
   },
   "outputs": [],
   "source": [
    "a = torch.ones(2,3)"
   ]
  },
  {
   "cell_type": "code",
   "execution_count": 144,
   "metadata": {
    "execution": {
     "iopub.execute_input": "2025-01-01T12:33:08.742031Z",
     "iopub.status.busy": "2025-01-01T12:33:08.741650Z",
     "iopub.status.idle": "2025-01-01T12:33:08.748997Z",
     "shell.execute_reply": "2025-01-01T12:33:08.747919Z",
     "shell.execute_reply.started": "2025-01-01T12:33:08.742000Z"
    },
    "trusted": true
   },
   "outputs": [
    {
     "data": {
      "text/plain": [
       "tensor([[1., 1., 1.],\n",
       "        [1., 1., 1.]])"
      ]
     },
     "execution_count": 144,
     "metadata": {},
     "output_type": "execute_result"
    }
   ],
   "source": [
    "a"
   ]
  },
  {
   "cell_type": "code",
   "execution_count": 145,
   "metadata": {
    "execution": {
     "iopub.execute_input": "2025-01-01T12:33:21.084239Z",
     "iopub.status.busy": "2025-01-01T12:33:21.083914Z",
     "iopub.status.idle": "2025-01-01T12:33:21.088854Z",
     "shell.execute_reply": "2025-01-01T12:33:21.087646Z",
     "shell.execute_reply.started": "2025-01-01T12:33:21.084215Z"
    },
    "trusted": true
   },
   "outputs": [],
   "source": [
    "b = torch.ones(2,3)"
   ]
  },
  {
   "cell_type": "code",
   "execution_count": 146,
   "metadata": {
    "execution": {
     "iopub.execute_input": "2025-01-01T12:33:43.259077Z",
     "iopub.status.busy": "2025-01-01T12:33:43.258658Z",
     "iopub.status.idle": "2025-01-01T12:33:43.265804Z",
     "shell.execute_reply": "2025-01-01T12:33:43.264762Z",
     "shell.execute_reply.started": "2025-01-01T12:33:43.259046Z"
    },
    "trusted": true
   },
   "outputs": [],
   "source": [
    "c =torch.add(a, b)"
   ]
  },
  {
   "cell_type": "code",
   "execution_count": 147,
   "metadata": {
    "execution": {
     "iopub.execute_input": "2025-01-01T12:33:49.400070Z",
     "iopub.status.busy": "2025-01-01T12:33:49.399720Z",
     "iopub.status.idle": "2025-01-01T12:33:49.406901Z",
     "shell.execute_reply": "2025-01-01T12:33:49.405921Z",
     "shell.execute_reply.started": "2025-01-01T12:33:49.400044Z"
    },
    "trusted": true
   },
   "outputs": [
    {
     "data": {
      "text/plain": [
       "tensor([[2., 2., 2.],\n",
       "        [2., 2., 2.]])"
      ]
     },
     "execution_count": 147,
     "metadata": {},
     "output_type": "execute_result"
    }
   ],
   "source": [
    "c"
   ]
  },
  {
   "cell_type": "code",
   "execution_count": 148,
   "metadata": {
    "execution": {
     "iopub.execute_input": "2025-01-01T12:34:18.126072Z",
     "iopub.status.busy": "2025-01-01T12:34:18.125678Z",
     "iopub.status.idle": "2025-01-01T12:34:18.133730Z",
     "shell.execute_reply": "2025-01-01T12:34:18.132603Z",
     "shell.execute_reply.started": "2025-01-01T12:34:18.126043Z"
    },
    "trusted": true
   },
   "outputs": [
    {
     "data": {
      "text/plain": [
       "tensor([[2., 2., 2.],\n",
       "        [2., 2., 2.]])"
      ]
     },
     "execution_count": 148,
     "metadata": {},
     "output_type": "execute_result"
    }
   ],
   "source": [
    "a.add_(b)"
   ]
  },
  {
   "cell_type": "code",
   "execution_count": 149,
   "metadata": {
    "execution": {
     "iopub.execute_input": "2025-01-01T12:34:36.123874Z",
     "iopub.status.busy": "2025-01-01T12:34:36.123466Z",
     "iopub.status.idle": "2025-01-01T12:34:36.130750Z",
     "shell.execute_reply": "2025-01-01T12:34:36.129879Z",
     "shell.execute_reply.started": "2025-01-01T12:34:36.123839Z"
    },
    "trusted": true
   },
   "outputs": [
    {
     "data": {
      "text/plain": [
       "tensor([[2., 2., 2.],\n",
       "        [2., 2., 2.]])"
      ]
     },
     "execution_count": 149,
     "metadata": {},
     "output_type": "execute_result"
    }
   ],
   "source": [
    "a"
   ]
  },
  {
   "cell_type": "code",
   "execution_count": 150,
   "metadata": {
    "execution": {
     "iopub.execute_input": "2025-01-01T12:35:12.420823Z",
     "iopub.status.busy": "2025-01-01T12:35:12.420438Z",
     "iopub.status.idle": "2025-01-01T12:35:12.426080Z",
     "shell.execute_reply": "2025-01-01T12:35:12.424904Z",
     "shell.execute_reply.started": "2025-01-01T12:35:12.420792Z"
    },
    "trusted": true
   },
   "outputs": [],
   "source": [
    "c = torch.sub(a, b)"
   ]
  },
  {
   "cell_type": "code",
   "execution_count": 151,
   "metadata": {
    "execution": {
     "iopub.execute_input": "2025-01-01T12:35:15.897018Z",
     "iopub.status.busy": "2025-01-01T12:35:15.896651Z",
     "iopub.status.idle": "2025-01-01T12:35:15.904380Z",
     "shell.execute_reply": "2025-01-01T12:35:15.903149Z",
     "shell.execute_reply.started": "2025-01-01T12:35:15.896992Z"
    },
    "trusted": true
   },
   "outputs": [
    {
     "data": {
      "text/plain": [
       "tensor([[1., 1., 1.],\n",
       "        [1., 1., 1.]])"
      ]
     },
     "execution_count": 151,
     "metadata": {},
     "output_type": "execute_result"
    }
   ],
   "source": [
    "c"
   ]
  },
  {
   "cell_type": "code",
   "execution_count": 154,
   "metadata": {
    "execution": {
     "iopub.execute_input": "2025-01-01T12:35:49.192146Z",
     "iopub.status.busy": "2025-01-01T12:35:49.191833Z",
     "iopub.status.idle": "2025-01-01T12:35:49.196853Z",
     "shell.execute_reply": "2025-01-01T12:35:49.195716Z",
     "shell.execute_reply.started": "2025-01-01T12:35:49.192122Z"
    },
    "trusted": true
   },
   "outputs": [],
   "source": [
    "c= torch.mul(a,b)"
   ]
  },
  {
   "cell_type": "code",
   "execution_count": 155,
   "metadata": {
    "execution": {
     "iopub.execute_input": "2025-01-01T12:35:51.305931Z",
     "iopub.status.busy": "2025-01-01T12:35:51.305551Z",
     "iopub.status.idle": "2025-01-01T12:35:51.313033Z",
     "shell.execute_reply": "2025-01-01T12:35:51.311744Z",
     "shell.execute_reply.started": "2025-01-01T12:35:51.305903Z"
    },
    "trusted": true
   },
   "outputs": [
    {
     "data": {
      "text/plain": [
       "tensor([[2., 2., 2.],\n",
       "        [2., 2., 2.]])"
      ]
     },
     "execution_count": 155,
     "metadata": {},
     "output_type": "execute_result"
    }
   ],
   "source": [
    "c"
   ]
  },
  {
   "cell_type": "code",
   "execution_count": 156,
   "metadata": {
    "execution": {
     "iopub.execute_input": "2025-01-01T12:36:13.782135Z",
     "iopub.status.busy": "2025-01-01T12:36:13.781812Z",
     "iopub.status.idle": "2025-01-01T12:36:13.786981Z",
     "shell.execute_reply": "2025-01-01T12:36:13.785609Z",
     "shell.execute_reply.started": "2025-01-01T12:36:13.782109Z"
    },
    "trusted": true
   },
   "outputs": [],
   "source": [
    "c = torch.div(a,b)"
   ]
  },
  {
   "cell_type": "code",
   "execution_count": 157,
   "metadata": {
    "execution": {
     "iopub.execute_input": "2025-01-01T12:36:16.073043Z",
     "iopub.status.busy": "2025-01-01T12:36:16.072652Z",
     "iopub.status.idle": "2025-01-01T12:36:16.079935Z",
     "shell.execute_reply": "2025-01-01T12:36:16.079064Z",
     "shell.execute_reply.started": "2025-01-01T12:36:16.073014Z"
    },
    "trusted": true
   },
   "outputs": [
    {
     "data": {
      "text/plain": [
       "tensor([[2., 2., 2.],\n",
       "        [2., 2., 2.]])"
      ]
     },
     "execution_count": 157,
     "metadata": {},
     "output_type": "execute_result"
    }
   ],
   "source": [
    "c"
   ]
  },
  {
   "cell_type": "code",
   "execution_count": 158,
   "metadata": {
    "execution": {
     "iopub.execute_input": "2025-01-01T12:36:26.262614Z",
     "iopub.status.busy": "2025-01-01T12:36:26.262260Z",
     "iopub.status.idle": "2025-01-01T12:36:26.270445Z",
     "shell.execute_reply": "2025-01-01T12:36:26.269414Z",
     "shell.execute_reply.started": "2025-01-01T12:36:26.262584Z"
    },
    "trusted": true
   },
   "outputs": [
    {
     "data": {
      "text/plain": [
       "tensor([[2., 2.],\n",
       "        [2., 2.],\n",
       "        [2., 2.]])"
      ]
     },
     "execution_count": 158,
     "metadata": {},
     "output_type": "execute_result"
    }
   ],
   "source": [
    "a.T"
   ]
  },
  {
   "cell_type": "code",
   "execution_count": null,
   "metadata": {
    "trusted": true
   },
   "outputs": [],
   "source": []
  },
  {
   "cell_type": "markdown",
   "metadata": {},
   "source": [
    "# send tensor to device/gpu"
   ]
  },
  {
   "cell_type": "code",
   "execution_count": 1,
   "metadata": {
    "execution": {
     "iopub.execute_input": "2025-01-01T12:39:05.600767Z",
     "iopub.status.busy": "2025-01-01T12:39:05.600448Z",
     "iopub.status.idle": "2025-01-01T12:39:07.051058Z",
     "shell.execute_reply": "2025-01-01T12:39:07.050178Z",
     "shell.execute_reply.started": "2025-01-01T12:39:05.600740Z"
    },
    "trusted": true
   },
   "outputs": [],
   "source": [
    "import torch"
   ]
  },
  {
   "cell_type": "code",
   "execution_count": 2,
   "metadata": {
    "execution": {
     "iopub.execute_input": "2025-01-01T12:39:15.562011Z",
     "iopub.status.busy": "2025-01-01T12:39:15.561592Z",
     "iopub.status.idle": "2025-01-01T12:39:15.578189Z",
     "shell.execute_reply": "2025-01-01T12:39:15.577529Z",
     "shell.execute_reply.started": "2025-01-01T12:39:15.561984Z"
    },
    "trusted": true
   },
   "outputs": [],
   "source": [
    "a = torch.rand(2,3)"
   ]
  },
  {
   "cell_type": "code",
   "execution_count": 3,
   "metadata": {
    "execution": {
     "iopub.execute_input": "2025-01-01T12:39:20.143882Z",
     "iopub.status.busy": "2025-01-01T12:39:20.143592Z",
     "iopub.status.idle": "2025-01-01T12:39:20.214436Z",
     "shell.execute_reply": "2025-01-01T12:39:20.213585Z",
     "shell.execute_reply.started": "2025-01-01T12:39:20.143860Z"
    },
    "trusted": true
   },
   "outputs": [
    {
     "data": {
      "text/plain": [
       "tensor([[0.9839, 0.2225, 0.9731],\n",
       "        [0.6062, 0.2537, 0.2494]])"
      ]
     },
     "execution_count": 3,
     "metadata": {},
     "output_type": "execute_result"
    }
   ],
   "source": [
    "a"
   ]
  },
  {
   "cell_type": "code",
   "execution_count": 4,
   "metadata": {
    "execution": {
     "iopub.execute_input": "2025-01-01T12:39:25.633301Z",
     "iopub.status.busy": "2025-01-01T12:39:25.632996Z",
     "iopub.status.idle": "2025-01-01T12:39:25.638210Z",
     "shell.execute_reply": "2025-01-01T12:39:25.637304Z",
     "shell.execute_reply.started": "2025-01-01T12:39:25.633276Z"
    },
    "trusted": true
   },
   "outputs": [
    {
     "data": {
      "text/plain": [
       "device(type='cpu')"
      ]
     },
     "execution_count": 4,
     "metadata": {},
     "output_type": "execute_result"
    }
   ],
   "source": [
    "a.device"
   ]
  },
  {
   "cell_type": "code",
   "execution_count": 5,
   "metadata": {
    "execution": {
     "iopub.execute_input": "2025-01-01T12:40:07.785744Z",
     "iopub.status.busy": "2025-01-01T12:40:07.785444Z",
     "iopub.status.idle": "2025-01-01T12:40:07.835986Z",
     "shell.execute_reply": "2025-01-01T12:40:07.834981Z",
     "shell.execute_reply.started": "2025-01-01T12:40:07.785721Z"
    },
    "trusted": true
   },
   "outputs": [],
   "source": [
    "device = 'cuda' if torch.cuda.is_available() else 'cpu'"
   ]
  },
  {
   "cell_type": "code",
   "execution_count": 6,
   "metadata": {
    "execution": {
     "iopub.execute_input": "2025-01-01T12:40:11.933796Z",
     "iopub.status.busy": "2025-01-01T12:40:11.933515Z",
     "iopub.status.idle": "2025-01-01T12:40:11.938699Z",
     "shell.execute_reply": "2025-01-01T12:40:11.937974Z",
     "shell.execute_reply.started": "2025-01-01T12:40:11.933773Z"
    },
    "trusted": true
   },
   "outputs": [
    {
     "data": {
      "text/plain": [
       "'cuda'"
      ]
     },
     "execution_count": 6,
     "metadata": {},
     "output_type": "execute_result"
    }
   ],
   "source": [
    "device"
   ]
  },
  {
   "cell_type": "code",
   "execution_count": 9,
   "metadata": {
    "execution": {
     "iopub.execute_input": "2025-01-01T12:42:01.210569Z",
     "iopub.status.busy": "2025-01-01T12:42:01.210278Z",
     "iopub.status.idle": "2025-01-01T12:42:01.214460Z",
     "shell.execute_reply": "2025-01-01T12:42:01.213626Z",
     "shell.execute_reply.started": "2025-01-01T12:42:01.210548Z"
    },
    "trusted": true
   },
   "outputs": [],
   "source": [
    "a=a.to(device)"
   ]
  },
  {
   "cell_type": "code",
   "execution_count": 10,
   "metadata": {
    "execution": {
     "iopub.execute_input": "2025-01-01T12:42:05.091815Z",
     "iopub.status.busy": "2025-01-01T12:42:05.091523Z",
     "iopub.status.idle": "2025-01-01T12:42:05.096674Z",
     "shell.execute_reply": "2025-01-01T12:42:05.095953Z",
     "shell.execute_reply.started": "2025-01-01T12:42:05.091793Z"
    },
    "trusted": true
   },
   "outputs": [
    {
     "data": {
      "text/plain": [
       "device(type='cuda', index=0)"
      ]
     },
     "execution_count": 10,
     "metadata": {},
     "output_type": "execute_result"
    }
   ],
   "source": [
    "a.device"
   ]
  },
  {
   "cell_type": "code",
   "execution_count": 11,
   "metadata": {
    "execution": {
     "iopub.execute_input": "2025-01-01T12:42:35.659421Z",
     "iopub.status.busy": "2025-01-01T12:42:35.659102Z",
     "iopub.status.idle": "2025-01-01T12:42:35.663433Z",
     "shell.execute_reply": "2025-01-01T12:42:35.662663Z",
     "shell.execute_reply.started": "2025-01-01T12:42:35.659394Z"
    },
    "trusted": true
   },
   "outputs": [],
   "source": [
    "a = a.cpu().numpy()"
   ]
  },
  {
   "cell_type": "code",
   "execution_count": 12,
   "metadata": {
    "execution": {
     "iopub.execute_input": "2025-01-01T12:42:37.980121Z",
     "iopub.status.busy": "2025-01-01T12:42:37.979779Z",
     "iopub.status.idle": "2025-01-01T12:42:37.985478Z",
     "shell.execute_reply": "2025-01-01T12:42:37.984742Z",
     "shell.execute_reply.started": "2025-01-01T12:42:37.980092Z"
    },
    "trusted": true
   },
   "outputs": [
    {
     "data": {
      "text/plain": [
       "array([[0.983929  , 0.22248602, 0.97308624],\n",
       "       [0.6061656 , 0.2537431 , 0.24936014]], dtype=float32)"
      ]
     },
     "execution_count": 12,
     "metadata": {},
     "output_type": "execute_result"
    }
   ],
   "source": [
    "a"
   ]
  },
  {
   "cell_type": "code",
   "execution_count": 14,
   "metadata": {
    "execution": {
     "iopub.execute_input": "2025-01-01T12:43:50.127734Z",
     "iopub.status.busy": "2025-01-01T12:43:50.127391Z",
     "iopub.status.idle": "2025-01-01T12:43:50.132369Z",
     "shell.execute_reply": "2025-01-01T12:43:50.131366Z",
     "shell.execute_reply.started": "2025-01-01T12:43:50.127710Z"
    },
    "trusted": true
   },
   "outputs": [
    {
     "name": "stdout",
     "output_type": "stream",
     "text": [
      "[[0.983929   0.22248602 0.97308624]\n",
      " [0.6061656  0.2537431  0.24936014]]\n"
     ]
    }
   ],
   "source": [
    "print(a)"
   ]
  },
  {
   "cell_type": "code",
   "execution_count": 15,
   "metadata": {
    "execution": {
     "iopub.execute_input": "2025-01-01T12:45:11.185256Z",
     "iopub.status.busy": "2025-01-01T12:45:11.184952Z",
     "iopub.status.idle": "2025-01-01T12:45:11.188684Z",
     "shell.execute_reply": "2025-01-01T12:45:11.187950Z",
     "shell.execute_reply.started": "2025-01-01T12:45:11.185234Z"
    },
    "trusted": true
   },
   "outputs": [],
   "source": [
    "# linear regression "
   ]
  },
  {
   "cell_type": "code",
   "execution_count": 16,
   "metadata": {
    "execution": {
     "iopub.execute_input": "2025-01-01T12:48:31.913598Z",
     "iopub.status.busy": "2025-01-01T12:48:31.913272Z",
     "iopub.status.idle": "2025-01-01T12:48:31.917188Z",
     "shell.execute_reply": "2025-01-01T12:48:31.916288Z",
     "shell.execute_reply.started": "2025-01-01T12:48:31.913570Z"
    },
    "trusted": true
   },
   "outputs": [],
   "source": [
    "# 1. data prepare\n",
    "# 2. model design\n",
    "# 3. optimizer and loss\n",
    "# 4. trining loop\n",
    "#     - forward pass\n",
    "#     - loss compute\n",
    "#     - backward()\n",
    "#     - weights update\n",
    "#     - set weights to zero\n",
    "# save model weights\n",
    "# plot\n"
   ]
  },
  {
   "cell_type": "code",
   "execution_count": 17,
   "metadata": {
    "execution": {
     "iopub.execute_input": "2025-01-01T12:50:37.649597Z",
     "iopub.status.busy": "2025-01-01T12:50:37.649284Z",
     "iopub.status.idle": "2025-01-01T12:50:37.654050Z",
     "shell.execute_reply": "2025-01-01T12:50:37.653009Z",
     "shell.execute_reply.started": "2025-01-01T12:50:37.649572Z"
    },
    "trusted": true
   },
   "outputs": [],
   "source": [
    "x = torch.tensor([[1.],[2.],[3.],[4.]], dtype = torch.float32)\n",
    "y = torch.tensor([[2.],[4.],[6.],[8.]], dtype = torch.float32)"
   ]
  },
  {
   "cell_type": "code",
   "execution_count": 35,
   "metadata": {
    "execution": {
     "iopub.execute_input": "2025-01-01T13:03:04.026357Z",
     "iopub.status.busy": "2025-01-01T13:03:04.026035Z",
     "iopub.status.idle": "2025-01-01T13:03:04.030017Z",
     "shell.execute_reply": "2025-01-01T13:03:04.029192Z",
     "shell.execute_reply.started": "2025-01-01T13:03:04.026319Z"
    },
    "trusted": true
   },
   "outputs": [],
   "source": [
    "w = torch.tensor(0.0,requires_grad=True, dtype = torch.float32)"
   ]
  },
  {
   "cell_type": "code",
   "execution_count": 36,
   "metadata": {
    "execution": {
     "iopub.execute_input": "2025-01-01T13:03:06.090359Z",
     "iopub.status.busy": "2025-01-01T13:03:06.090036Z",
     "iopub.status.idle": "2025-01-01T13:03:06.094127Z",
     "shell.execute_reply": "2025-01-01T13:03:06.093083Z",
     "shell.execute_reply.started": "2025-01-01T13:03:06.090325Z"
    },
    "trusted": true
   },
   "outputs": [],
   "source": [
    "def forward(x):\n",
    "    return w*x"
   ]
  },
  {
   "cell_type": "code",
   "execution_count": 37,
   "metadata": {
    "execution": {
     "iopub.execute_input": "2025-01-01T13:03:06.501511Z",
     "iopub.status.busy": "2025-01-01T13:03:06.501275Z",
     "iopub.status.idle": "2025-01-01T13:03:06.505044Z",
     "shell.execute_reply": "2025-01-01T13:03:06.504226Z",
     "shell.execute_reply.started": "2025-01-01T13:03:06.501491Z"
    },
    "trusted": true
   },
   "outputs": [],
   "source": [
    "import torch.nn as nn"
   ]
  },
  {
   "cell_type": "code",
   "execution_count": 38,
   "metadata": {
    "execution": {
     "iopub.execute_input": "2025-01-01T13:03:06.805491Z",
     "iopub.status.busy": "2025-01-01T13:03:06.805234Z",
     "iopub.status.idle": "2025-01-01T13:03:06.809157Z",
     "shell.execute_reply": "2025-01-01T13:03:06.808359Z",
     "shell.execute_reply.started": "2025-01-01T13:03:06.805470Z"
    },
    "trusted": true
   },
   "outputs": [],
   "source": [
    "ls = nn.MSELoss()\n",
    "learning_rate =0.01\n",
    "optimzer = torch.optim.SGD([w], lr = learning_rate)"
   ]
  },
  {
   "cell_type": "code",
   "execution_count": 40,
   "metadata": {
    "execution": {
     "iopub.execute_input": "2025-01-01T13:03:17.512681Z",
     "iopub.status.busy": "2025-01-01T13:03:17.512394Z",
     "iopub.status.idle": "2025-01-01T13:03:17.525265Z",
     "shell.execute_reply": "2025-01-01T13:03:17.524363Z",
     "shell.execute_reply.started": "2025-01-01T13:03:17.512658Z"
    },
    "trusted": true
   },
   "outputs": [
    {
     "name": "stdout",
     "output_type": "stream",
     "text": [
      "epoch 0, loss = 21.674999237060547\n",
      "epoch 1, loss = 9.832687377929688\n",
      "epoch 2, loss = 7.104117393493652\n",
      "epoch 3, loss = 5.132724761962891\n",
      "epoch 4, loss = 3.7083935737609863\n",
      "epoch 5, loss = 2.679313898086548\n",
      "epoch 6, loss = 1.9358046054840088\n",
      "epoch 7, loss = 1.3986183404922485\n",
      "epoch 8, loss = 1.010501503944397\n",
      "epoch 9, loss = 0.730087399482727\n"
     ]
    }
   ],
   "source": [
    "num_epochs = 10\n",
    "\n",
    "for epoch in range(num_epochs):\n",
    "    y_pred = forward(x)\n",
    "    loss = ls(y_pred, y)\n",
    "\n",
    "    loss.backward()\n",
    "\n",
    "    optimzer.step()\n",
    "    optimzer.zero_grad()\n",
    "\n",
    "    print(f'epoch {epoch}, loss = {loss}')\n",
    "    "
   ]
  },
  {
   "cell_type": "code",
   "execution_count": 41,
   "metadata": {
    "execution": {
     "iopub.execute_input": "2025-01-01T13:04:06.042125Z",
     "iopub.status.busy": "2025-01-01T13:04:06.041771Z",
     "iopub.status.idle": "2025-01-01T13:04:06.046399Z",
     "shell.execute_reply": "2025-01-01T13:04:06.045413Z",
     "shell.execute_reply.started": "2025-01-01T13:04:06.042093Z"
    },
    "trusted": true
   },
   "outputs": [],
   "source": [
    "x = torch.tensor([[1.],[2.],[3.],[4.]], dtype = torch.float32)\n",
    "y = torch.tensor([[2.],[4.],[6.],[8.]], dtype = torch.float32)"
   ]
  },
  {
   "cell_type": "code",
   "execution_count": 43,
   "metadata": {
    "execution": {
     "iopub.execute_input": "2025-01-01T13:05:31.789660Z",
     "iopub.status.busy": "2025-01-01T13:05:31.789330Z",
     "iopub.status.idle": "2025-01-01T13:05:31.793246Z",
     "shell.execute_reply": "2025-01-01T13:05:31.792284Z",
     "shell.execute_reply.started": "2025-01-01T13:05:31.789629Z"
    },
    "trusted": true
   },
   "outputs": [],
   "source": [
    "n_samples, n_features = x.shape"
   ]
  },
  {
   "cell_type": "code",
   "execution_count": 44,
   "metadata": {
    "execution": {
     "iopub.execute_input": "2025-01-01T13:05:48.778062Z",
     "iopub.status.busy": "2025-01-01T13:05:48.777715Z",
     "iopub.status.idle": "2025-01-01T13:05:48.782560Z",
     "shell.execute_reply": "2025-01-01T13:05:48.781854Z",
     "shell.execute_reply.started": "2025-01-01T13:05:48.778033Z"
    },
    "trusted": true
   },
   "outputs": [
    {
     "name": "stdout",
     "output_type": "stream",
     "text": [
      "4 1\n"
     ]
    }
   ],
   "source": [
    "print(n_samples, n_features)"
   ]
  },
  {
   "cell_type": "code",
   "execution_count": 45,
   "metadata": {
    "execution": {
     "iopub.execute_input": "2025-01-01T13:06:32.511462Z",
     "iopub.status.busy": "2025-01-01T13:06:32.511179Z",
     "iopub.status.idle": "2025-01-01T13:06:32.515073Z",
     "shell.execute_reply": "2025-01-01T13:06:32.514307Z",
     "shell.execute_reply.started": "2025-01-01T13:06:32.511442Z"
    },
    "trusted": true
   },
   "outputs": [],
   "source": [
    "input_size = n_features\n",
    "output_size = 1"
   ]
  },
  {
   "cell_type": "code",
   "execution_count": 46,
   "metadata": {
    "execution": {
     "iopub.execute_input": "2025-01-01T13:06:52.480781Z",
     "iopub.status.busy": "2025-01-01T13:06:52.480479Z",
     "iopub.status.idle": "2025-01-01T13:06:52.485193Z",
     "shell.execute_reply": "2025-01-01T13:06:52.484454Z",
     "shell.execute_reply.started": "2025-01-01T13:06:52.480760Z"
    },
    "trusted": true
   },
   "outputs": [],
   "source": [
    "model= nn.Linear(input_size, output_size)"
   ]
  },
  {
   "cell_type": "code",
   "execution_count": 47,
   "metadata": {
    "execution": {
     "iopub.execute_input": "2025-01-01T13:08:11.235862Z",
     "iopub.status.busy": "2025-01-01T13:08:11.235528Z",
     "iopub.status.idle": "2025-01-01T13:08:11.240621Z",
     "shell.execute_reply": "2025-01-01T13:08:11.239607Z",
     "shell.execute_reply.started": "2025-01-01T13:08:11.235838Z"
    },
    "trusted": true
   },
   "outputs": [],
   "source": [
    "ls = nn.MSELoss()\n",
    "learning_rate =0.01\n",
    "optimzer = torch.optim.SGD(model.parameters(), lr = learning_rate)"
   ]
  },
  {
   "cell_type": "code",
   "execution_count": 48,
   "metadata": {
    "execution": {
     "iopub.execute_input": "2025-01-01T13:09:20.203186Z",
     "iopub.status.busy": "2025-01-01T13:09:20.202833Z",
     "iopub.status.idle": "2025-01-01T13:09:20.225451Z",
     "shell.execute_reply": "2025-01-01T13:09:20.224781Z",
     "shell.execute_reply.started": "2025-01-01T13:09:20.203160Z"
    },
    "trusted": true
   },
   "outputs": [
    {
     "name": "stdout",
     "output_type": "stream",
     "text": [
      "epoch 0, loss = 49.14412307739258\n",
      "epoch 1, loss = 34.10009765625\n",
      "epoch 2, loss = 23.661361694335938\n",
      "epoch 3, loss = 16.41814422607422\n",
      "epoch 4, loss = 11.392229080200195\n",
      "epoch 5, loss = 7.904853820800781\n",
      "epoch 6, loss = 5.485036849975586\n",
      "epoch 7, loss = 3.805976629257202\n",
      "epoch 8, loss = 2.640911817550659\n",
      "epoch 9, loss = 1.8324980735778809\n"
     ]
    }
   ],
   "source": [
    "num_epochs = 10\n",
    "\n",
    "for epoch in range(num_epochs):\n",
    "    y_pred = model(x)\n",
    "    loss = ls(y_pred, y)\n",
    "\n",
    "    loss.backward()\n",
    "\n",
    "    optimzer.step()\n",
    "    optimzer.zero_grad()\n",
    "\n",
    "    print(f'epoch {epoch}, loss = {loss}')\n",
    "    "
   ]
  },
  {
   "cell_type": "code",
   "execution_count": 95,
   "metadata": {
    "execution": {
     "iopub.execute_input": "2025-01-01T13:38:58.670494Z",
     "iopub.status.busy": "2025-01-01T13:38:58.670041Z",
     "iopub.status.idle": "2025-01-01T13:38:58.675126Z",
     "shell.execute_reply": "2025-01-01T13:38:58.674075Z",
     "shell.execute_reply.started": "2025-01-01T13:38:58.670457Z"
    },
    "trusted": true
   },
   "outputs": [],
   "source": [
    "# linear regression\n",
    "\n",
    "import torch \n",
    "import torch.nn as nn\n",
    "from sklearn.datasets import make_regression\n",
    "from sklearn.model_selection import train_test_split\n",
    "from sklearn.preprocessing import StandardScaler\n"
   ]
  },
  {
   "cell_type": "code",
   "execution_count": 96,
   "metadata": {
    "execution": {
     "iopub.execute_input": "2025-01-01T13:39:01.809819Z",
     "iopub.status.busy": "2025-01-01T13:39:01.809484Z",
     "iopub.status.idle": "2025-01-01T13:39:01.814271Z",
     "shell.execute_reply": "2025-01-01T13:39:01.813380Z",
     "shell.execute_reply.started": "2025-01-01T13:39:01.809790Z"
    },
    "trusted": true
   },
   "outputs": [],
   "source": [
    "x_numpy, y_numpy = make_regression(n_samples =100, n_features= 1)"
   ]
  },
  {
   "cell_type": "code",
   "execution_count": 97,
   "metadata": {
    "execution": {
     "iopub.execute_input": "2025-01-01T13:39:03.360852Z",
     "iopub.status.busy": "2025-01-01T13:39:03.360557Z",
     "iopub.status.idle": "2025-01-01T13:39:03.365774Z",
     "shell.execute_reply": "2025-01-01T13:39:03.364986Z",
     "shell.execute_reply.started": "2025-01-01T13:39:03.360828Z"
    },
    "trusted": true
   },
   "outputs": [
    {
     "data": {
      "text/plain": [
       "-2.1805259097024807"
      ]
     },
     "execution_count": 97,
     "metadata": {},
     "output_type": "execute_result"
    }
   ],
   "source": [
    "x_numpy.min()"
   ]
  },
  {
   "cell_type": "code",
   "execution_count": 98,
   "metadata": {
    "execution": {
     "iopub.execute_input": "2025-01-01T13:39:05.603405Z",
     "iopub.status.busy": "2025-01-01T13:39:05.603115Z",
     "iopub.status.idle": "2025-01-01T13:39:05.608391Z",
     "shell.execute_reply": "2025-01-01T13:39:05.607720Z",
     "shell.execute_reply.started": "2025-01-01T13:39:05.603383Z"
    },
    "trusted": true
   },
   "outputs": [
    {
     "data": {
      "text/plain": [
       "2.564904920514527"
      ]
     },
     "execution_count": 98,
     "metadata": {},
     "output_type": "execute_result"
    }
   ],
   "source": [
    "x_numpy.max()"
   ]
  },
  {
   "cell_type": "code",
   "execution_count": 99,
   "metadata": {
    "execution": {
     "iopub.execute_input": "2025-01-01T13:39:07.208659Z",
     "iopub.status.busy": "2025-01-01T13:39:07.208360Z",
     "iopub.status.idle": "2025-01-01T13:39:07.213347Z",
     "shell.execute_reply": "2025-01-01T13:39:07.212519Z",
     "shell.execute_reply.started": "2025-01-01T13:39:07.208635Z"
    },
    "trusted": true
   },
   "outputs": [],
   "source": [
    "train_x, test_x, train_y, test_y = train_test_split(x_numpy, y_numpy, test_size=0.1, random_state=42)"
   ]
  },
  {
   "cell_type": "code",
   "execution_count": 100,
   "metadata": {
    "execution": {
     "iopub.execute_input": "2025-01-01T13:39:08.656173Z",
     "iopub.status.busy": "2025-01-01T13:39:08.655827Z",
     "iopub.status.idle": "2025-01-01T13:39:08.660580Z",
     "shell.execute_reply": "2025-01-01T13:39:08.659760Z",
     "shell.execute_reply.started": "2025-01-01T13:39:08.656146Z"
    },
    "trusted": true
   },
   "outputs": [],
   "source": [
    "tensor_x = torch.as_tensor(train_x, dtype=torch.float32)\n",
    "test_x = torch.as_tensor(test_x, dtype=torch.float32)\n",
    "train_y = torch.as_tensor(train_y, dtype=torch.float32)\n",
    "test_y = torch.as_tensor(test_y, dtype=torch.float32)"
   ]
  },
  {
   "cell_type": "code",
   "execution_count": 101,
   "metadata": {
    "execution": {
     "iopub.execute_input": "2025-01-01T13:39:09.942950Z",
     "iopub.status.busy": "2025-01-01T13:39:09.942655Z",
     "iopub.status.idle": "2025-01-01T13:39:09.947866Z",
     "shell.execute_reply": "2025-01-01T13:39:09.947079Z",
     "shell.execute_reply.started": "2025-01-01T13:39:09.942927Z"
    },
    "trusted": true
   },
   "outputs": [
    {
     "data": {
      "text/plain": [
       "torch.Tensor"
      ]
     },
     "execution_count": 101,
     "metadata": {},
     "output_type": "execute_result"
    }
   ],
   "source": [
    "type(tensor_x)"
   ]
  },
  {
   "cell_type": "code",
   "execution_count": 102,
   "metadata": {
    "execution": {
     "iopub.execute_input": "2025-01-01T13:39:11.687792Z",
     "iopub.status.busy": "2025-01-01T13:39:11.687506Z",
     "iopub.status.idle": "2025-01-01T13:39:11.691613Z",
     "shell.execute_reply": "2025-01-01T13:39:11.690730Z",
     "shell.execute_reply.started": "2025-01-01T13:39:11.687769Z"
    },
    "trusted": true
   },
   "outputs": [],
   "source": [
    "n_samples, n_features = tensor_x.shape"
   ]
  },
  {
   "cell_type": "code",
   "execution_count": 103,
   "metadata": {
    "execution": {
     "iopub.execute_input": "2025-01-01T13:39:13.149346Z",
     "iopub.status.busy": "2025-01-01T13:39:13.149052Z",
     "iopub.status.idle": "2025-01-01T13:39:13.154431Z",
     "shell.execute_reply": "2025-01-01T13:39:13.153577Z",
     "shell.execute_reply.started": "2025-01-01T13:39:13.149325Z"
    },
    "trusted": true
   },
   "outputs": [
    {
     "data": {
      "text/plain": [
       "90"
      ]
     },
     "execution_count": 103,
     "metadata": {},
     "output_type": "execute_result"
    }
   ],
   "source": [
    "n_samples"
   ]
  },
  {
   "cell_type": "code",
   "execution_count": 82,
   "metadata": {
    "execution": {
     "iopub.execute_input": "2025-01-01T13:35:39.151796Z",
     "iopub.status.busy": "2025-01-01T13:35:39.151471Z",
     "iopub.status.idle": "2025-01-01T13:35:39.156644Z",
     "shell.execute_reply": "2025-01-01T13:35:39.155816Z",
     "shell.execute_reply.started": "2025-01-01T13:35:39.151774Z"
    },
    "trusted": true
   },
   "outputs": [
    {
     "data": {
      "text/plain": [
       "1"
      ]
     },
     "execution_count": 82,
     "metadata": {},
     "output_type": "execute_result"
    }
   ],
   "source": [
    "n_features"
   ]
  },
  {
   "cell_type": "code",
   "execution_count": 104,
   "metadata": {
    "execution": {
     "iopub.execute_input": "2025-01-01T13:39:15.576191Z",
     "iopub.status.busy": "2025-01-01T13:39:15.575837Z",
     "iopub.status.idle": "2025-01-01T13:39:15.581219Z",
     "shell.execute_reply": "2025-01-01T13:39:15.580360Z",
     "shell.execute_reply.started": "2025-01-01T13:39:15.576164Z"
    },
    "trusted": true
   },
   "outputs": [
    {
     "data": {
      "text/plain": [
       "torch.Size([90, 1])"
      ]
     },
     "execution_count": 104,
     "metadata": {},
     "output_type": "execute_result"
    }
   ],
   "source": [
    "tensor_x.shape"
   ]
  },
  {
   "cell_type": "code",
   "execution_count": 105,
   "metadata": {
    "execution": {
     "iopub.execute_input": "2025-01-01T13:39:17.875681Z",
     "iopub.status.busy": "2025-01-01T13:39:17.875255Z",
     "iopub.status.idle": "2025-01-01T13:39:17.881397Z",
     "shell.execute_reply": "2025-01-01T13:39:17.880570Z",
     "shell.execute_reply.started": "2025-01-01T13:39:17.875641Z"
    },
    "trusted": true
   },
   "outputs": [
    {
     "data": {
      "text/plain": [
       "torch.Size([90])"
      ]
     },
     "execution_count": 105,
     "metadata": {},
     "output_type": "execute_result"
    }
   ],
   "source": [
    "train_y.shape"
   ]
  },
  {
   "cell_type": "code",
   "execution_count": 106,
   "metadata": {
    "execution": {
     "iopub.execute_input": "2025-01-01T13:39:18.914893Z",
     "iopub.status.busy": "2025-01-01T13:39:18.914603Z",
     "iopub.status.idle": "2025-01-01T13:39:18.918783Z",
     "shell.execute_reply": "2025-01-01T13:39:18.917872Z",
     "shell.execute_reply.started": "2025-01-01T13:39:18.914868Z"
    },
    "trusted": true
   },
   "outputs": [],
   "source": [
    "train_y = train_y.view(train_y.shape[0], 1)"
   ]
  },
  {
   "cell_type": "code",
   "execution_count": 107,
   "metadata": {
    "execution": {
     "iopub.execute_input": "2025-01-01T13:39:21.757105Z",
     "iopub.status.busy": "2025-01-01T13:39:21.756793Z",
     "iopub.status.idle": "2025-01-01T13:39:21.761986Z",
     "shell.execute_reply": "2025-01-01T13:39:21.761209Z",
     "shell.execute_reply.started": "2025-01-01T13:39:21.757081Z"
    },
    "trusted": true
   },
   "outputs": [
    {
     "data": {
      "text/plain": [
       "torch.Size([90, 1])"
      ]
     },
     "execution_count": 107,
     "metadata": {},
     "output_type": "execute_result"
    }
   ],
   "source": [
    "train_y.shape"
   ]
  },
  {
   "cell_type": "code",
   "execution_count": 111,
   "metadata": {
    "execution": {
     "iopub.execute_input": "2025-01-01T13:41:24.626786Z",
     "iopub.status.busy": "2025-01-01T13:41:24.626472Z",
     "iopub.status.idle": "2025-01-01T13:41:24.632186Z",
     "shell.execute_reply": "2025-01-01T13:41:24.631303Z",
     "shell.execute_reply.started": "2025-01-01T13:41:24.626761Z"
    },
    "trusted": true
   },
   "outputs": [],
   "source": [
    "# custom model \n",
    "\n",
    "class linearregression(nn.Module):\n",
    "    def __init__(self, input_size, output_size):\n",
    "        super(linearregression, self).__init__()\n",
    "        self.linear = nn.Linear(input_size, output_size)\n",
    "    def forward(self, x):\n",
    "        out = self.linear(x)\n",
    "        return out\n",
    "\n",
    "model = linearregression(input_size =n_features, output_size =1)"
   ]
  },
  {
   "cell_type": "code",
   "execution_count": 112,
   "metadata": {
    "execution": {
     "iopub.execute_input": "2025-01-01T13:41:26.884035Z",
     "iopub.status.busy": "2025-01-01T13:41:26.883730Z",
     "iopub.status.idle": "2025-01-01T13:41:26.887890Z",
     "shell.execute_reply": "2025-01-01T13:41:26.887026Z",
     "shell.execute_reply.started": "2025-01-01T13:41:26.884011Z"
    },
    "trusted": true
   },
   "outputs": [],
   "source": [
    "ls = nn.MSELoss()\n",
    "learning_rate =0.01\n",
    "optimzer = torch.optim.SGD(model.parameters(), lr = learning_rate)"
   ]
  },
  {
   "cell_type": "code",
   "execution_count": 113,
   "metadata": {
    "execution": {
     "iopub.execute_input": "2025-01-01T13:41:28.428720Z",
     "iopub.status.busy": "2025-01-01T13:41:28.428442Z",
     "iopub.status.idle": "2025-01-01T13:41:28.441457Z",
     "shell.execute_reply": "2025-01-01T13:41:28.440721Z",
     "shell.execute_reply.started": "2025-01-01T13:41:28.428699Z"
    },
    "trusted": true
   },
   "outputs": [
    {
     "name": "stdout",
     "output_type": "stream",
     "text": [
      "epoch 0, loss = 714.1205444335938\n",
      "epoch 1, loss = 688.9892578125\n",
      "epoch 2, loss = 664.7474975585938\n",
      "epoch 3, loss = 641.3637084960938\n",
      "epoch 4, loss = 618.8071899414062\n",
      "epoch 5, loss = 597.0485229492188\n",
      "epoch 6, loss = 576.059326171875\n",
      "epoch 7, loss = 555.8120727539062\n",
      "epoch 8, loss = 536.2806396484375\n",
      "epoch 9, loss = 517.4393920898438\n"
     ]
    }
   ],
   "source": [
    "num_epochs = 10\n",
    "\n",
    "for epoch in range(num_epochs):\n",
    "    y_pred = model(tensor_x)\n",
    "    #print(y_pred.shape)\n",
    "    loss = ls(y_pred, train_y)\n",
    "\n",
    "    loss.backward()\n",
    "\n",
    "    optimzer.step()\n",
    "    optimzer.zero_grad()\n",
    "\n",
    "    print(f'epoch {epoch}, loss = {loss}')\n",
    "    "
   ]
  },
  {
   "cell_type": "code",
   "execution_count": 116,
   "metadata": {
    "execution": {
     "iopub.execute_input": "2025-01-01T13:44:05.263449Z",
     "iopub.status.busy": "2025-01-01T13:44:05.263172Z",
     "iopub.status.idle": "2025-01-01T13:44:05.267221Z",
     "shell.execute_reply": "2025-01-01T13:44:05.266347Z",
     "shell.execute_reply.started": "2025-01-01T13:44:05.263426Z"
    },
    "trusted": true
   },
   "outputs": [],
   "source": [
    "# custom data loader\n",
    "import torch\n",
    "import torchvision\n",
    "from torch.utils.data import Dataset, DataLoader,random_split\n",
    "import numpy as np\n",
    "import math"
   ]
  },
  {
   "cell_type": "code",
   "execution_count": null,
   "metadata": {
    "trusted": true
   },
   "outputs": [],
   "source": [
    "class winedataset(Dataset):\n",
    "    def __init__(self):\n",
    "        ##data loading\n",
    "        xy = np.loadtxt(\"/kaggle/input/wine-dataset/wine.csv\", delimiter=',', dtype=np.float32, skiprows=1)\n",
    "        self.x =torch.from_numpy(xy[:, 1:])\n",
    "        self.y=torch.from_numpy(xy[:,0]).long() - 1   # n_samples, 1 , PyTorch's CrossEntropyLoss expects integer class indices starting from 0).\n",
    "        print(torch.unique(self.y))\n",
    "        self.n_samples = xy.shape[0]\n",
    "\n",
    "        # Normalize the features (zero mean, unit variance)\n",
    "        self.x = (self.x - self.x.mean(dim=0)) / self.x.std(dim=0)\n",
    "        \n",
    "        self.n_samples = xy.shape[0]\n",
    "        \n",
    "    def __getitem__(self, index):\n",
    "        ## dataset index\n",
    "        return self.x[index], self.y[index]\n",
    "        \n",
    "    def __len__(self):\n",
    "        # len(dataset)\n",
    "        return self.n_samples\n",
    "    \n",
    "dataset  = winedataset()\n",
    "#first_data = dataset[0]\n",
    "\n",
    "# Split into training (80%) and testing (20%)\n",
    "\n",
    "train_size = int(0.8 * len(dataset))\n",
    "test_size = len(dataset) - train_size\n",
    "train_dataset, test_dataset = random_split(dataset, [train_size, test_size])\n",
    "\n",
    "#features, label = first_data\n",
    "#print(features, label)\n",
    "\n",
    "train_loader = DataLoader(dataset=train_dataset, batch_size=4, shuffle=True)\n",
    "test_loader = DataLoader(dataset=test_dataset, batch_size=4, shuffle=False)"
   ]
  },
  {
   "cell_type": "code",
   "execution_count": null,
   "metadata": {
    "trusted": true
   },
   "outputs": [],
   "source": [
    "dataiter = iter(train_loader)\n",
    "data = next(dataiter)\n",
    "features, labels = data\n",
    "print(features, labels)\n"
   ]
  },
  {
   "cell_type": "code",
   "execution_count": null,
   "metadata": {},
   "outputs": [],
   "source": [
    "epochs =20\n",
    "total_samples = len(dataset)\n",
    "n_iteration = math.ceil(total_samples/4)\n",
    "print(n_iteration)"
   ]
  },
  {
   "cell_type": "code",
   "execution_count": null,
   "metadata": {},
   "outputs": [],
   "source": [
    "class logisticregression(nn.Module):\n",
    "    def __init__(self, input_size, output_size):\n",
    "        super(logisticregression, self).__init__()\n",
    "        self.linear = nn.Linear(input_size, output_size)\n",
    "        #self.softmax = nn.Softmax()\n",
    "    def forward(self, x):\n",
    "        l = self.linear(x)\n",
    "        #out = self.softmax(l)\n",
    "        return l\n",
    "\n",
    "model = logisticregression(input_size = 13, output_size=3)"
   ]
  },
  {
   "cell_type": "code",
   "execution_count": null,
   "metadata": {},
   "outputs": [],
   "source": [
    "loss = nn.CrossEntropyLoss()\n",
    "learning_rate=0.01\n",
    "optimizer = torch.optim.SGD(model.parameters(), lr = learning_rate)"
   ]
  },
  {
   "cell_type": "code",
   "execution_count": null,
   "metadata": {},
   "outputs": [],
   "source": [
    "for epoch in range(epochs):\n",
    "    for i, (inputs, labels) in enumerate(train_loader):\n",
    "\n",
    "        y_pred = model(inputs)\n",
    "        #print(y_pred.shape)\n",
    "        #print(labels.shape)\n",
    "        \n",
    "        ls = loss(y_pred,labels )\n",
    "        \n",
    "        ls.backward()\n",
    "        \n",
    "        optimizer.step()\n",
    "        optimizer.zero_grad()\n",
    "    if epoch % 1==0:\n",
    "            print(f'epoch {epoch}, loss = {ls}')\n",
    "        "
   ]
  },
  {
   "cell_type": "code",
   "execution_count": null,
   "metadata": {},
   "outputs": [],
   "source": [
    "# Calculate accuracy on the test data\n",
    "total_correct_test = 0\n",
    "total_test_samples = 0\n",
    "with torch.no_grad():\n",
    "    for inputs, labels in test_loader:\n",
    "        y_pred_test = torch.argmax(model(inputs), dim=1)  # Get class predictions\n",
    "        total_correct_test += (y_pred_test == labels).sum().item()\n",
    "        total_test_samples += labels.size(0)\n",
    "\n",
    "    test_accuracy = total_correct_test / total_test_samples\n",
    "\n",
    "print(f\"Train Accuracy: {train_accuracy:.4f}\")\n",
    "print(f\"Test Accuracy: {test_accuracy:.4f}\")"
   ]
  },
  {
   "cell_type": "code",
   "execution_count": null,
   "metadata": {},
   "outputs": [],
   "source": []
  },
  {
   "cell_type": "code",
   "execution_count": null,
   "metadata": {},
   "outputs": [],
   "source": []
  }
 ],
 "metadata": {
  "kaggle": {
   "accelerator": "gpu",
   "dataSources": [
    {
     "datasetId": 6405104,
     "sourceId": 10343395,
     "sourceType": "datasetVersion"
    }
   ],
   "dockerImageVersionId": 30823,
   "isGpuEnabled": true,
   "isInternetEnabled": true,
   "language": "python",
   "sourceType": "notebook"
  },
  "kernelspec": {
   "display_name": "Python 3",
   "language": "python",
   "name": "python3"
  },
  "language_info": {
   "codemirror_mode": {
    "name": "ipython",
    "version": 3
   },
   "file_extension": ".py",
   "mimetype": "text/x-python",
   "name": "python",
   "nbconvert_exporter": "python",
   "pygments_lexer": "ipython3",
   "version": "3.10.12"
  }
 },
 "nbformat": 4,
 "nbformat_minor": 4
}
