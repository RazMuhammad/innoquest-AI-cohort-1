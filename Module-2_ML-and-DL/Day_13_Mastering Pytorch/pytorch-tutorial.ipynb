{
 "cells": [
  {
   "cell_type": "code",
   "execution_count": 1,
   "id": "9149228c",
   "metadata": {},
   "outputs": [],
   "source": [
    "import torch"
   ]
  },
  {
   "cell_type": "markdown",
   "id": "9a700bf6",
   "metadata": {},
   "source": [
    "# 1 D tensor"
   ]
  },
  {
   "cell_type": "code",
   "execution_count": 12,
   "id": "b88b76f6",
   "metadata": {},
   "outputs": [],
   "source": [
    "empty_ten = torch.empty(1)"
   ]
  },
  {
   "cell_type": "code",
   "execution_count": 13,
   "id": "31de95a8",
   "metadata": {},
   "outputs": [
    {
     "name": "stdout",
     "output_type": "stream",
     "text": [
      "tensor([0.])\n"
     ]
    }
   ],
   "source": [
    "print(empty_ten)"
   ]
  },
  {
   "cell_type": "code",
   "execution_count": 14,
   "id": "461c131f",
   "metadata": {},
   "outputs": [],
   "source": [
    "empty_ten1 = torch.empty(3)"
   ]
  },
  {
   "cell_type": "code",
   "execution_count": 15,
   "id": "dbee2d3c",
   "metadata": {},
   "outputs": [
    {
     "name": "stdout",
     "output_type": "stream",
     "text": [
      "tensor([2.2679e+23, 2.0067e-42, 0.0000e+00])\n"
     ]
    }
   ],
   "source": [
    "print(empty_ten1)"
   ]
  },
  {
   "cell_type": "markdown",
   "id": "fc0b75d7",
   "metadata": {},
   "source": [
    "# 2 D tensor"
   ]
  },
  {
   "cell_type": "code",
   "execution_count": 17,
   "id": "ad84bd3f",
   "metadata": {},
   "outputs": [],
   "source": [
    "twod_ten = torch.empty(2, 4)"
   ]
  },
  {
   "cell_type": "code",
   "execution_count": 18,
   "id": "4514e116",
   "metadata": {},
   "outputs": [
    {
     "name": "stdout",
     "output_type": "stream",
     "text": [
      "tensor([[0., 0., 0., 0.],\n",
      "        [0., 0., 0., 0.]])\n"
     ]
    }
   ],
   "source": [
    "print(twod_ten)"
   ]
  },
  {
   "cell_type": "markdown",
   "id": "24272765",
   "metadata": {},
   "source": [
    "# 3 D tensor"
   ]
  },
  {
   "cell_type": "code",
   "execution_count": 19,
   "id": "cc3c0f36",
   "metadata": {},
   "outputs": [],
   "source": [
    "three_d = torch.empty(2,3,4)"
   ]
  },
  {
   "cell_type": "code",
   "execution_count": 20,
   "id": "834e583a",
   "metadata": {},
   "outputs": [
    {
     "name": "stdout",
     "output_type": "stream",
     "text": [
      "tensor([[[2.3022e+23, 2.0067e-42, 0.0000e+00, 0.0000e+00],\n",
      "         [0.0000e+00, 0.0000e+00, 0.0000e+00, 0.0000e+00],\n",
      "         [0.0000e+00, 0.0000e+00, 0.0000e+00, 0.0000e+00]],\n",
      "\n",
      "        [[0.0000e+00, 0.0000e+00, 0.0000e+00, 0.0000e+00],\n",
      "         [0.0000e+00, 0.0000e+00, 0.0000e+00, 0.0000e+00],\n",
      "         [0.0000e+00, 0.0000e+00, 0.0000e+00, 0.0000e+00]]])\n"
     ]
    }
   ],
   "source": [
    "print(three_d)"
   ]
  },
  {
   "cell_type": "markdown",
   "id": "28d869f6",
   "metadata": {},
   "source": [
    "# create tensors with random values"
   ]
  },
  {
   "cell_type": "code",
   "execution_count": 22,
   "id": "70ce2dac",
   "metadata": {},
   "outputs": [],
   "source": [
    "x = torch.rand(2) # 1d tensor"
   ]
  },
  {
   "cell_type": "code",
   "execution_count": 23,
   "id": "5d58f8f1",
   "metadata": {},
   "outputs": [
    {
     "data": {
      "text/plain": [
       "tensor([0.5689, 0.8332])"
      ]
     },
     "execution_count": 23,
     "metadata": {},
     "output_type": "execute_result"
    }
   ],
   "source": [
    "x"
   ]
  },
  {
   "cell_type": "code",
   "execution_count": 24,
   "id": "1e1ec41e",
   "metadata": {},
   "outputs": [],
   "source": [
    "x1 = torch.rand(2,3)"
   ]
  },
  {
   "cell_type": "code",
   "execution_count": 25,
   "id": "b5c60040",
   "metadata": {},
   "outputs": [
    {
     "data": {
      "text/plain": [
       "tensor([[0.3727, 0.9649, 0.0536],\n",
       "        [0.9177, 0.4044, 0.5704]])"
      ]
     },
     "execution_count": 25,
     "metadata": {},
     "output_type": "execute_result"
    }
   ],
   "source": [
    "x1"
   ]
  },
  {
   "cell_type": "code",
   "execution_count": 26,
   "id": "8a4b96ef",
   "metadata": {},
   "outputs": [],
   "source": [
    "x3 = torch.zeros(2,2) # 2d tensor"
   ]
  },
  {
   "cell_type": "code",
   "execution_count": 27,
   "id": "09deaa54",
   "metadata": {},
   "outputs": [
    {
     "data": {
      "text/plain": [
       "tensor([[0., 0.],\n",
       "        [0., 0.]])"
      ]
     },
     "execution_count": 27,
     "metadata": {},
     "output_type": "execute_result"
    }
   ],
   "source": [
    "x3"
   ]
  },
  {
   "cell_type": "code",
   "execution_count": 28,
   "id": "74b137b2",
   "metadata": {},
   "outputs": [],
   "source": [
    "x4 = torch.ones(3,4,5) #3d tensor"
   ]
  },
  {
   "cell_type": "code",
   "execution_count": 29,
   "id": "f5b72b21",
   "metadata": {},
   "outputs": [
    {
     "data": {
      "text/plain": [
       "tensor([[[1., 1., 1., 1., 1.],\n",
       "         [1., 1., 1., 1., 1.],\n",
       "         [1., 1., 1., 1., 1.],\n",
       "         [1., 1., 1., 1., 1.]],\n",
       "\n",
       "        [[1., 1., 1., 1., 1.],\n",
       "         [1., 1., 1., 1., 1.],\n",
       "         [1., 1., 1., 1., 1.],\n",
       "         [1., 1., 1., 1., 1.]],\n",
       "\n",
       "        [[1., 1., 1., 1., 1.],\n",
       "         [1., 1., 1., 1., 1.],\n",
       "         [1., 1., 1., 1., 1.],\n",
       "         [1., 1., 1., 1., 1.]]])"
      ]
     },
     "execution_count": 29,
     "metadata": {},
     "output_type": "execute_result"
    }
   ],
   "source": [
    "x4"
   ]
  },
  {
   "cell_type": "markdown",
   "id": "9a599f48",
   "metadata": {},
   "source": [
    "# data types"
   ]
  },
  {
   "cell_type": "code",
   "execution_count": 33,
   "id": "5bf8947b",
   "metadata": {},
   "outputs": [
    {
     "data": {
      "text/plain": [
       "torch.float32"
      ]
     },
     "execution_count": 33,
     "metadata": {},
     "output_type": "execute_result"
    }
   ],
   "source": [
    "x4.dtype   # by default float32"
   ]
  },
  {
   "cell_type": "code",
   "execution_count": 34,
   "id": "69198088",
   "metadata": {},
   "outputs": [],
   "source": [
    "x5 = torch.ones(3,4, 3, dtype = torch.int)"
   ]
  },
  {
   "cell_type": "code",
   "execution_count": 35,
   "id": "d7a04653",
   "metadata": {},
   "outputs": [
    {
     "data": {
      "text/plain": [
       "tensor([[[1, 1, 1],\n",
       "         [1, 1, 1],\n",
       "         [1, 1, 1],\n",
       "         [1, 1, 1]],\n",
       "\n",
       "        [[1, 1, 1],\n",
       "         [1, 1, 1],\n",
       "         [1, 1, 1],\n",
       "         [1, 1, 1]],\n",
       "\n",
       "        [[1, 1, 1],\n",
       "         [1, 1, 1],\n",
       "         [1, 1, 1],\n",
       "         [1, 1, 1]]], dtype=torch.int32)"
      ]
     },
     "execution_count": 35,
     "metadata": {},
     "output_type": "execute_result"
    }
   ],
   "source": [
    "x5"
   ]
  },
  {
   "cell_type": "code",
   "execution_count": 36,
   "id": "1411dd21",
   "metadata": {},
   "outputs": [
    {
     "data": {
      "text/plain": [
       "torch.int32"
      ]
     },
     "execution_count": 36,
     "metadata": {},
     "output_type": "execute_result"
    }
   ],
   "source": [
    "x5.dtype"
   ]
  },
  {
   "cell_type": "code",
   "execution_count": 37,
   "id": "88f9e827",
   "metadata": {},
   "outputs": [],
   "source": [
    "x5 = torch.ones(3,4, 3, dtype = torch.double)"
   ]
  },
  {
   "cell_type": "code",
   "execution_count": 38,
   "id": "21a159d1",
   "metadata": {},
   "outputs": [
    {
     "data": {
      "text/plain": [
       "tensor([[[1., 1., 1.],\n",
       "         [1., 1., 1.],\n",
       "         [1., 1., 1.],\n",
       "         [1., 1., 1.]],\n",
       "\n",
       "        [[1., 1., 1.],\n",
       "         [1., 1., 1.],\n",
       "         [1., 1., 1.],\n",
       "         [1., 1., 1.]],\n",
       "\n",
       "        [[1., 1., 1.],\n",
       "         [1., 1., 1.],\n",
       "         [1., 1., 1.],\n",
       "         [1., 1., 1.]]], dtype=torch.float64)"
      ]
     },
     "execution_count": 38,
     "metadata": {},
     "output_type": "execute_result"
    }
   ],
   "source": [
    "x5"
   ]
  },
  {
   "cell_type": "code",
   "execution_count": 39,
   "id": "b3507a93",
   "metadata": {},
   "outputs": [
    {
     "data": {
      "text/plain": [
       "torch.float64"
      ]
     },
     "execution_count": 39,
     "metadata": {},
     "output_type": "execute_result"
    }
   ],
   "source": [
    "x5.dtype"
   ]
  },
  {
   "cell_type": "code",
   "execution_count": 40,
   "id": "633b0029",
   "metadata": {},
   "outputs": [],
   "source": [
    "x5 = torch.ones(3,4, 3, dtype = torch.float16)"
   ]
  },
  {
   "cell_type": "code",
   "execution_count": 41,
   "id": "b8a5c5c3",
   "metadata": {},
   "outputs": [
    {
     "data": {
      "text/plain": [
       "tensor([[[1., 1., 1.],\n",
       "         [1., 1., 1.],\n",
       "         [1., 1., 1.],\n",
       "         [1., 1., 1.]],\n",
       "\n",
       "        [[1., 1., 1.],\n",
       "         [1., 1., 1.],\n",
       "         [1., 1., 1.],\n",
       "         [1., 1., 1.]],\n",
       "\n",
       "        [[1., 1., 1.],\n",
       "         [1., 1., 1.],\n",
       "         [1., 1., 1.],\n",
       "         [1., 1., 1.]]], dtype=torch.float16)"
      ]
     },
     "execution_count": 41,
     "metadata": {},
     "output_type": "execute_result"
    }
   ],
   "source": [
    "x5"
   ]
  },
  {
   "cell_type": "code",
   "execution_count": 42,
   "id": "4720806d",
   "metadata": {},
   "outputs": [
    {
     "data": {
      "text/plain": [
       "torch.float16"
      ]
     },
     "execution_count": 42,
     "metadata": {},
     "output_type": "execute_result"
    }
   ],
   "source": [
    "x5.dtype"
   ]
  },
  {
   "cell_type": "markdown",
   "id": "6362b97c",
   "metadata": {},
   "source": [
    "# size of tensor"
   ]
  },
  {
   "cell_type": "code",
   "execution_count": 43,
   "id": "174ded82",
   "metadata": {},
   "outputs": [
    {
     "name": "stdout",
     "output_type": "stream",
     "text": [
      "torch.Size([3, 4, 3])\n"
     ]
    }
   ],
   "source": [
    "print(x5.size())"
   ]
  },
  {
   "cell_type": "markdown",
   "id": "d3bd0b4a",
   "metadata": {},
   "source": [
    "# create a tensor with assigned values"
   ]
  },
  {
   "cell_type": "code",
   "execution_count": 47,
   "id": "2a416145",
   "metadata": {},
   "outputs": [],
   "source": [
    "x = torch.tensor([2.,4.,5.])"
   ]
  },
  {
   "cell_type": "code",
   "execution_count": 48,
   "id": "d54e47b3",
   "metadata": {},
   "outputs": [
    {
     "data": {
      "text/plain": [
       "tensor([2., 4., 5.])"
      ]
     },
     "execution_count": 48,
     "metadata": {},
     "output_type": "execute_result"
    }
   ],
   "source": [
    "x"
   ]
  },
  {
   "cell_type": "code",
   "execution_count": 49,
   "id": "b686d098",
   "metadata": {},
   "outputs": [
    {
     "data": {
      "text/plain": [
       "torch.float32"
      ]
     },
     "execution_count": 49,
     "metadata": {},
     "output_type": "execute_result"
    }
   ],
   "source": [
    "x.dtype"
   ]
  },
  {
   "cell_type": "code",
   "execution_count": 50,
   "id": "8814d627",
   "metadata": {},
   "outputs": [
    {
     "data": {
      "text/plain": [
       "torch.Size([3])"
      ]
     },
     "execution_count": 50,
     "metadata": {},
     "output_type": "execute_result"
    }
   ],
   "source": [
    "x.size()"
   ]
  },
  {
   "cell_type": "markdown",
   "id": "f1b42a66",
   "metadata": {},
   "source": [
    "# basic opertions that we can perform"
   ]
  },
  {
   "cell_type": "code",
   "execution_count": 70,
   "id": "47266091",
   "metadata": {},
   "outputs": [],
   "source": [
    "a = torch.rand(2,2)\n",
    "b = torch.rand(2,2)"
   ]
  },
  {
   "cell_type": "code",
   "execution_count": 71,
   "id": "7a7a2005",
   "metadata": {},
   "outputs": [
    {
     "name": "stdout",
     "output_type": "stream",
     "text": [
      "tensor([[0.2722, 0.8577],\n",
      "        [0.8141, 0.0719]])\n",
      "tensor([[0.6149, 0.1273],\n",
      "        [0.9222, 0.0189]])\n"
     ]
    }
   ],
   "source": [
    "print(a)\n",
    "print(b)"
   ]
  },
  {
   "cell_type": "code",
   "execution_count": 72,
   "id": "44045a4e",
   "metadata": {},
   "outputs": [],
   "source": [
    "c = a + b"
   ]
  },
  {
   "cell_type": "code",
   "execution_count": 73,
   "id": "cc314e3b",
   "metadata": {},
   "outputs": [
    {
     "data": {
      "text/plain": [
       "tensor([[0.8871, 0.9850],\n",
       "        [1.7363, 0.0908]])"
      ]
     },
     "execution_count": 73,
     "metadata": {},
     "output_type": "execute_result"
    }
   ],
   "source": [
    "c"
   ]
  },
  {
   "cell_type": "code",
   "execution_count": 74,
   "id": "d8493c53",
   "metadata": {},
   "outputs": [],
   "source": [
    "c = torch.add(a, b)"
   ]
  },
  {
   "cell_type": "code",
   "execution_count": 75,
   "id": "3e2ee9b3",
   "metadata": {},
   "outputs": [
    {
     "data": {
      "text/plain": [
       "tensor([[0.8871, 0.9850],\n",
       "        [1.7363, 0.0908]])"
      ]
     },
     "execution_count": 75,
     "metadata": {},
     "output_type": "execute_result"
    }
   ],
   "source": [
    "c"
   ]
  },
  {
   "cell_type": "code",
   "execution_count": 76,
   "id": "94256c15",
   "metadata": {},
   "outputs": [
    {
     "data": {
      "text/plain": [
       "tensor([[0.2722, 0.8577],\n",
       "        [0.8141, 0.0719]])"
      ]
     },
     "execution_count": 76,
     "metadata": {},
     "output_type": "execute_result"
    }
   ],
   "source": [
    "a"
   ]
  },
  {
   "cell_type": "code",
   "execution_count": 85,
   "id": "0b8ec5e8",
   "metadata": {},
   "outputs": [
    {
     "data": {
      "text/plain": [
       "tensor([[1.5020, 1.1123],\n",
       "        [2.6585, 0.1096]])"
      ]
     },
     "execution_count": 85,
     "metadata": {},
     "output_type": "execute_result"
    }
   ],
   "source": [
    "a.add_(b)   ## add_() used for inplace addition"
   ]
  },
  {
   "cell_type": "code",
   "execution_count": 86,
   "id": "77e91706",
   "metadata": {},
   "outputs": [
    {
     "name": "stdout",
     "output_type": "stream",
     "text": [
      "tensor([[1.5020, 1.1123],\n",
      "        [2.6585, 0.1096]])\n"
     ]
    }
   ],
   "source": [
    "print(a)"
   ]
  },
  {
   "cell_type": "code",
   "execution_count": 87,
   "id": "6f864cf3",
   "metadata": {},
   "outputs": [],
   "source": [
    "c = a-b"
   ]
  },
  {
   "cell_type": "code",
   "execution_count": 88,
   "id": "c2f7fcdc",
   "metadata": {},
   "outputs": [
    {
     "data": {
      "text/plain": [
       "tensor([[0.8871, 0.9850],\n",
       "        [1.7363, 0.0908]])"
      ]
     },
     "execution_count": 88,
     "metadata": {},
     "output_type": "execute_result"
    }
   ],
   "source": [
    "c"
   ]
  },
  {
   "cell_type": "code",
   "execution_count": 89,
   "id": "6409216a",
   "metadata": {},
   "outputs": [],
   "source": [
    "c = torch.sub(a, b)"
   ]
  },
  {
   "cell_type": "code",
   "execution_count": 90,
   "id": "6cc640e3",
   "metadata": {},
   "outputs": [
    {
     "data": {
      "text/plain": [
       "tensor([[0.8871, 0.9850],\n",
       "        [1.7363, 0.0908]])"
      ]
     },
     "execution_count": 90,
     "metadata": {},
     "output_type": "execute_result"
    }
   ],
   "source": [
    "c"
   ]
  },
  {
   "cell_type": "code",
   "execution_count": 91,
   "id": "e90e813a",
   "metadata": {},
   "outputs": [
    {
     "data": {
      "text/plain": [
       "tensor([[0.8871, 0.9850],\n",
       "        [1.7363, 0.0908]])"
      ]
     },
     "execution_count": 91,
     "metadata": {},
     "output_type": "execute_result"
    }
   ],
   "source": [
    "a.sub_(b)"
   ]
  },
  {
   "cell_type": "code",
   "execution_count": 92,
   "id": "02c04c0b",
   "metadata": {},
   "outputs": [
    {
     "data": {
      "text/plain": [
       "tensor([[0.8871, 0.9850],\n",
       "        [1.7363, 0.0908]])"
      ]
     },
     "execution_count": 92,
     "metadata": {},
     "output_type": "execute_result"
    }
   ],
   "source": [
    "a"
   ]
  },
  {
   "cell_type": "code",
   "execution_count": 93,
   "id": "8951eb4a",
   "metadata": {},
   "outputs": [
    {
     "data": {
      "text/plain": [
       "tensor([[0.6149, 0.1273],\n",
       "        [0.9222, 0.0189]])"
      ]
     },
     "execution_count": 93,
     "metadata": {},
     "output_type": "execute_result"
    }
   ],
   "source": [
    "b"
   ]
  },
  {
   "cell_type": "code",
   "execution_count": 94,
   "id": "cb999f40",
   "metadata": {},
   "outputs": [],
   "source": [
    "c = a * b"
   ]
  },
  {
   "cell_type": "code",
   "execution_count": 95,
   "id": "02f4139b",
   "metadata": {},
   "outputs": [
    {
     "data": {
      "text/plain": [
       "tensor([[0.5455, 0.1254],\n",
       "        [1.6013, 0.0017]])"
      ]
     },
     "execution_count": 95,
     "metadata": {},
     "output_type": "execute_result"
    }
   ],
   "source": [
    "c"
   ]
  },
  {
   "cell_type": "code",
   "execution_count": 96,
   "id": "9e9fe94c",
   "metadata": {},
   "outputs": [],
   "source": [
    "c = torch.mul(a, b)"
   ]
  },
  {
   "cell_type": "code",
   "execution_count": 97,
   "id": "176f88b7",
   "metadata": {},
   "outputs": [
    {
     "data": {
      "text/plain": [
       "tensor([[0.5455, 0.1254],\n",
       "        [1.6013, 0.0017]])"
      ]
     },
     "execution_count": 97,
     "metadata": {},
     "output_type": "execute_result"
    }
   ],
   "source": [
    "c"
   ]
  },
  {
   "cell_type": "code",
   "execution_count": 98,
   "id": "c8c95b92",
   "metadata": {},
   "outputs": [
    {
     "data": {
      "text/plain": [
       "tensor([[0.5455, 0.1254],\n",
       "        [1.6013, 0.0017]])"
      ]
     },
     "execution_count": 98,
     "metadata": {},
     "output_type": "execute_result"
    }
   ],
   "source": [
    "a.mul_(b)"
   ]
  },
  {
   "cell_type": "code",
   "execution_count": 99,
   "id": "c421bbf9",
   "metadata": {},
   "outputs": [
    {
     "data": {
      "text/plain": [
       "tensor([[0.5455, 0.1254],\n",
       "        [1.6013, 0.0017]])"
      ]
     },
     "execution_count": 99,
     "metadata": {},
     "output_type": "execute_result"
    }
   ],
   "source": [
    "a"
   ]
  },
  {
   "cell_type": "code",
   "execution_count": 100,
   "id": "432f3e7a",
   "metadata": {},
   "outputs": [
    {
     "data": {
      "text/plain": [
       "tensor([[0.6149, 0.1273],\n",
       "        [0.9222, 0.0189]])"
      ]
     },
     "execution_count": 100,
     "metadata": {},
     "output_type": "execute_result"
    }
   ],
   "source": [
    "b"
   ]
  },
  {
   "cell_type": "code",
   "execution_count": 101,
   "id": "619a32c4",
   "metadata": {},
   "outputs": [],
   "source": [
    "c = a/b"
   ]
  },
  {
   "cell_type": "code",
   "execution_count": 102,
   "id": "782e688f",
   "metadata": {},
   "outputs": [
    {
     "data": {
      "text/plain": [
       "tensor([[0.8871, 0.9850],\n",
       "        [1.7363, 0.0908]])"
      ]
     },
     "execution_count": 102,
     "metadata": {},
     "output_type": "execute_result"
    }
   ],
   "source": [
    "c"
   ]
  },
  {
   "cell_type": "code",
   "execution_count": 103,
   "id": "816a3495",
   "metadata": {},
   "outputs": [],
   "source": [
    "c = torch.div(a,b)"
   ]
  },
  {
   "cell_type": "code",
   "execution_count": 104,
   "id": "ca5b717e",
   "metadata": {},
   "outputs": [
    {
     "data": {
      "text/plain": [
       "tensor([[0.8871, 0.9850],\n",
       "        [1.7363, 0.0908]])"
      ]
     },
     "execution_count": 104,
     "metadata": {},
     "output_type": "execute_result"
    }
   ],
   "source": [
    "c"
   ]
  },
  {
   "cell_type": "code",
   "execution_count": 105,
   "id": "f9bbae6c",
   "metadata": {},
   "outputs": [
    {
     "data": {
      "text/plain": [
       "tensor([[0.8871, 0.9850],\n",
       "        [1.7363, 0.0908]])"
      ]
     },
     "execution_count": 105,
     "metadata": {},
     "output_type": "execute_result"
    }
   ],
   "source": [
    "a.div_(b)"
   ]
  },
  {
   "cell_type": "code",
   "execution_count": 106,
   "id": "230e011c",
   "metadata": {},
   "outputs": [
    {
     "data": {
      "text/plain": [
       "tensor([[0.8871, 0.9850],\n",
       "        [1.7363, 0.0908]])"
      ]
     },
     "execution_count": 106,
     "metadata": {},
     "output_type": "execute_result"
    }
   ],
   "source": [
    "a"
   ]
  },
  {
   "cell_type": "code",
   "execution_count": 107,
   "id": "85359536",
   "metadata": {},
   "outputs": [
    {
     "data": {
      "text/plain": [
       "tensor([[0.6149, 0.1273],\n",
       "        [0.9222, 0.0189]])"
      ]
     },
     "execution_count": 107,
     "metadata": {},
     "output_type": "execute_result"
    }
   ],
   "source": [
    "b"
   ]
  },
  {
   "cell_type": "markdown",
   "id": "9ed6d418",
   "metadata": {},
   "source": [
    "# slicing opertions"
   ]
  },
  {
   "cell_type": "code",
   "execution_count": 108,
   "id": "be1ec0ee",
   "metadata": {},
   "outputs": [],
   "source": [
    "x = torch.rand(5,3)"
   ]
  },
  {
   "cell_type": "code",
   "execution_count": 109,
   "id": "7c12b09f",
   "metadata": {},
   "outputs": [
    {
     "data": {
      "text/plain": [
       "tensor([[0.8423, 0.4442, 0.3832],\n",
       "        [0.3288, 0.8653, 0.8580],\n",
       "        [0.3689, 0.5757, 0.6589],\n",
       "        [0.7437, 0.7238, 0.9995],\n",
       "        [0.4995, 0.9197, 0.4846]])"
      ]
     },
     "execution_count": 109,
     "metadata": {},
     "output_type": "execute_result"
    }
   ],
   "source": [
    "x"
   ]
  },
  {
   "cell_type": "code",
   "execution_count": 111,
   "id": "24479251",
   "metadata": {},
   "outputs": [
    {
     "name": "stdout",
     "output_type": "stream",
     "text": [
      "tensor([0.8423, 0.3288, 0.3689, 0.7437, 0.4995])\n"
     ]
    }
   ],
   "source": [
    "print(x[:, 0])    # all rows and one column"
   ]
  },
  {
   "cell_type": "code",
   "execution_count": 113,
   "id": "92146201",
   "metadata": {},
   "outputs": [
    {
     "name": "stdout",
     "output_type": "stream",
     "text": [
      "tensor([0.3288, 0.8653, 0.8580])\n"
     ]
    }
   ],
   "source": [
    "print(x[1,:])   ## one row and all columns"
   ]
  },
  {
   "cell_type": "code",
   "execution_count": 115,
   "id": "cb32f18c",
   "metadata": {},
   "outputs": [
    {
     "name": "stdout",
     "output_type": "stream",
     "text": [
      "tensor(0.8653)\n"
     ]
    }
   ],
   "source": [
    "print(x[1, 1])   # access one element"
   ]
  },
  {
   "cell_type": "code",
   "execution_count": 116,
   "id": "ddbcc4a7",
   "metadata": {},
   "outputs": [
    {
     "name": "stdout",
     "output_type": "stream",
     "text": [
      "0.8653437495231628\n"
     ]
    }
   ],
   "source": [
    "print(x[1,1].item())"
   ]
  },
  {
   "cell_type": "markdown",
   "id": "c8491006",
   "metadata": {},
   "source": [
    "# reshaping the tensor"
   ]
  },
  {
   "cell_type": "code",
   "execution_count": 140,
   "id": "1dd40028",
   "metadata": {},
   "outputs": [],
   "source": [
    "x = torch.rand(4,4)"
   ]
  },
  {
   "cell_type": "code",
   "execution_count": 141,
   "id": "9b508e16",
   "metadata": {},
   "outputs": [
    {
     "data": {
      "text/plain": [
       "tensor([[0.1509, 0.6226, 0.1689, 0.9779],\n",
       "        [0.2577, 0.3956, 0.2188, 0.1747],\n",
       "        [0.9269, 0.5368, 0.6757, 0.8614],\n",
       "        [0.6636, 0.4153, 0.5406, 0.7104]])"
      ]
     },
     "execution_count": 141,
     "metadata": {},
     "output_type": "execute_result"
    }
   ],
   "source": [
    "x"
   ]
  },
  {
   "cell_type": "code",
   "execution_count": 143,
   "id": "7a2e0043",
   "metadata": {},
   "outputs": [],
   "source": [
    "y = x.view(-1, 8)"
   ]
  },
  {
   "cell_type": "code",
   "execution_count": 144,
   "id": "61c2c790",
   "metadata": {},
   "outputs": [
    {
     "data": {
      "text/plain": [
       "tensor([[0.1509, 0.6226, 0.1689, 0.9779, 0.2577, 0.3956, 0.2188, 0.1747],\n",
       "        [0.9269, 0.5368, 0.6757, 0.8614, 0.6636, 0.4153, 0.5406, 0.7104]])"
      ]
     },
     "execution_count": 144,
     "metadata": {},
     "output_type": "execute_result"
    }
   ],
   "source": [
    "y"
   ]
  },
  {
   "cell_type": "code",
   "execution_count": 119,
   "id": "f093da1f",
   "metadata": {},
   "outputs": [],
   "source": [
    "y = x.view(16)   ## view() to reshape the tensor"
   ]
  },
  {
   "cell_type": "code",
   "execution_count": 120,
   "id": "5dfaf201",
   "metadata": {},
   "outputs": [
    {
     "data": {
      "text/plain": [
       "tensor([0.1927, 0.2046, 0.9931, 0.0955, 0.2614, 0.4344, 0.2859, 0.7766, 0.1664,\n",
       "        0.6446, 0.3037, 0.1779, 0.6136, 0.2904, 0.2883, 0.3142])"
      ]
     },
     "execution_count": 120,
     "metadata": {},
     "output_type": "execute_result"
    }
   ],
   "source": [
    "y"
   ]
  },
  {
   "cell_type": "code",
   "execution_count": 127,
   "id": "56a2f0a5",
   "metadata": {},
   "outputs": [],
   "source": [
    "y1 =x.reshape(16)  # numeber of element must be same"
   ]
  },
  {
   "cell_type": "code",
   "execution_count": 128,
   "id": "b2121d44",
   "metadata": {},
   "outputs": [
    {
     "data": {
      "text/plain": [
       "tensor([0.1927, 0.2046, 0.9931, 0.0955, 0.2614, 0.4344, 0.2859, 0.7766, 0.1664,\n",
       "        0.6446, 0.3037, 0.1779, 0.6136, 0.2904, 0.2883, 0.3142])"
      ]
     },
     "execution_count": 128,
     "metadata": {},
     "output_type": "execute_result"
    }
   ],
   "source": [
    "y1"
   ]
  },
  {
   "cell_type": "code",
   "execution_count": 129,
   "id": "d96bb10f",
   "metadata": {},
   "outputs": [
    {
     "data": {
      "text/plain": [
       "tensor([[0.1927, 0.2046, 0.9931, 0.0955],\n",
       "        [0.2614, 0.4344, 0.2859, 0.7766],\n",
       "        [0.1664, 0.6446, 0.3037, 0.1779],\n",
       "        [0.6136, 0.2904, 0.2883, 0.3142]])"
      ]
     },
     "execution_count": 129,
     "metadata": {},
     "output_type": "execute_result"
    }
   ],
   "source": [
    "x"
   ]
  },
  {
   "cell_type": "code",
   "execution_count": 130,
   "id": "50e78ef5",
   "metadata": {},
   "outputs": [
    {
     "data": {
      "text/plain": [
       "tensor([0.1927, 0.2046, 0.9931, 0.0955, 0.2614, 0.4344, 0.2859, 0.7766, 0.1664,\n",
       "        0.6446, 0.3037, 0.1779, 0.6136, 0.2904, 0.2883, 0.3142])"
      ]
     },
     "execution_count": 130,
     "metadata": {},
     "output_type": "execute_result"
    }
   ],
   "source": [
    "x.view(16)"
   ]
  },
  {
   "cell_type": "code",
   "execution_count": 131,
   "id": "09f2b018",
   "metadata": {},
   "outputs": [
    {
     "data": {
      "text/plain": [
       "tensor([[0.1927, 0.2046, 0.9931, 0.0955],\n",
       "        [0.2614, 0.4344, 0.2859, 0.7766],\n",
       "        [0.1664, 0.6446, 0.3037, 0.1779],\n",
       "        [0.6136, 0.2904, 0.2883, 0.3142]])"
      ]
     },
     "execution_count": 131,
     "metadata": {},
     "output_type": "execute_result"
    }
   ],
   "source": [
    "x"
   ]
  },
  {
   "cell_type": "code",
   "execution_count": 132,
   "id": "d82dd2c1",
   "metadata": {},
   "outputs": [],
   "source": [
    "x1 = torch.rand(3,4)"
   ]
  },
  {
   "cell_type": "code",
   "execution_count": 133,
   "id": "122db702",
   "metadata": {},
   "outputs": [
    {
     "data": {
      "text/plain": [
       "tensor([[0.8096, 0.6880, 0.9095, 0.8858],\n",
       "        [0.6853, 0.9636, 0.5953, 0.6825],\n",
       "        [0.9155, 0.6909, 0.0217, 0.8724]])"
      ]
     },
     "execution_count": 133,
     "metadata": {},
     "output_type": "execute_result"
    }
   ],
   "source": [
    "x1"
   ]
  },
  {
   "cell_type": "code",
   "execution_count": 134,
   "id": "3f893b39",
   "metadata": {},
   "outputs": [],
   "source": [
    "y1 = x1.view(4, 3)"
   ]
  },
  {
   "cell_type": "code",
   "execution_count": 135,
   "id": "61e8c010",
   "metadata": {},
   "outputs": [
    {
     "data": {
      "text/plain": [
       "tensor([[0.8096, 0.6880, 0.9095],\n",
       "        [0.8858, 0.6853, 0.9636],\n",
       "        [0.5953, 0.6825, 0.9155],\n",
       "        [0.6909, 0.0217, 0.8724]])"
      ]
     },
     "execution_count": 135,
     "metadata": {},
     "output_type": "execute_result"
    }
   ],
   "source": [
    "y1"
   ]
  },
  {
   "cell_type": "code",
   "execution_count": 138,
   "id": "943c9c23",
   "metadata": {},
   "outputs": [],
   "source": [
    "y1 = y1.reshape(3,4)"
   ]
  },
  {
   "cell_type": "code",
   "execution_count": 139,
   "id": "422f8b18",
   "metadata": {},
   "outputs": [
    {
     "data": {
      "text/plain": [
       "tensor([[0.8096, 0.6880, 0.9095, 0.8858],\n",
       "        [0.6853, 0.9636, 0.5953, 0.6825],\n",
       "        [0.9155, 0.6909, 0.0217, 0.8724]])"
      ]
     },
     "execution_count": 139,
     "metadata": {},
     "output_type": "execute_result"
    }
   ],
   "source": [
    "y1"
   ]
  },
  {
   "cell_type": "code",
   "execution_count": 152,
   "id": "9b906c86",
   "metadata": {},
   "outputs": [],
   "source": [
    "y1=y1.view(-1, 6)"
   ]
  },
  {
   "cell_type": "code",
   "execution_count": 153,
   "id": "2398c70e",
   "metadata": {},
   "outputs": [
    {
     "name": "stdout",
     "output_type": "stream",
     "text": [
      "torch.Size([2, 6])\n"
     ]
    }
   ],
   "source": [
    "print(y1.size())"
   ]
  },
  {
   "cell_type": "markdown",
   "id": "06c07e29",
   "metadata": {},
   "source": [
    "# converting tensor to numpy"
   ]
  },
  {
   "cell_type": "code",
   "execution_count": 155,
   "id": "9b067d42",
   "metadata": {},
   "outputs": [],
   "source": [
    "import numpy as np"
   ]
  },
  {
   "cell_type": "code",
   "execution_count": 158,
   "id": "658434bc",
   "metadata": {},
   "outputs": [],
   "source": [
    "ar = torch.ones(5)"
   ]
  },
  {
   "cell_type": "code",
   "execution_count": 159,
   "id": "c64d8c93",
   "metadata": {},
   "outputs": [
    {
     "data": {
      "text/plain": [
       "tensor([1., 1., 1., 1., 1.])"
      ]
     },
     "execution_count": 159,
     "metadata": {},
     "output_type": "execute_result"
    }
   ],
   "source": [
    "ar"
   ]
  },
  {
   "cell_type": "code",
   "execution_count": 164,
   "id": "0f5e78e2",
   "metadata": {},
   "outputs": [
    {
     "data": {
      "text/plain": [
       "torch.float32"
      ]
     },
     "execution_count": 164,
     "metadata": {},
     "output_type": "execute_result"
    }
   ],
   "source": [
    "ar.dtype"
   ]
  },
  {
   "cell_type": "code",
   "execution_count": 165,
   "id": "6d863766",
   "metadata": {},
   "outputs": [
    {
     "data": {
      "text/plain": [
       "torch.Tensor"
      ]
     },
     "execution_count": 165,
     "metadata": {},
     "output_type": "execute_result"
    }
   ],
   "source": [
    "type(ar)"
   ]
  },
  {
   "cell_type": "code",
   "execution_count": 166,
   "id": "c060decc",
   "metadata": {},
   "outputs": [],
   "source": [
    "b = ar.numpy()   # numpy() to convert the tensors into numpy\n",
    "\n",
    "# if the tensor is on the cpu not on the gpu then both objects will share \n",
    "#the same memory location, this mean if we change one the other will also \n",
    "#change"
   ]
  },
  {
   "cell_type": "code",
   "execution_count": 162,
   "id": "2986f35a",
   "metadata": {},
   "outputs": [
    {
     "data": {
      "text/plain": [
       "array([1., 1., 1., 1., 1.], dtype=float32)"
      ]
     },
     "execution_count": 162,
     "metadata": {},
     "output_type": "execute_result"
    }
   ],
   "source": [
    "b"
   ]
  },
  {
   "cell_type": "code",
   "execution_count": 163,
   "id": "16c9fdd6",
   "metadata": {},
   "outputs": [
    {
     "data": {
      "text/plain": [
       "numpy.ndarray"
      ]
     },
     "execution_count": 163,
     "metadata": {},
     "output_type": "execute_result"
    }
   ],
   "source": [
    "type(b)"
   ]
  },
  {
   "cell_type": "code",
   "execution_count": 167,
   "id": "47c06b30",
   "metadata": {},
   "outputs": [
    {
     "data": {
      "text/plain": [
       "tensor([2., 2., 2., 2., 2.])"
      ]
     },
     "execution_count": 167,
     "metadata": {},
     "output_type": "execute_result"
    }
   ],
   "source": [
    "ar.add_(1)"
   ]
  },
  {
   "cell_type": "code",
   "execution_count": 169,
   "id": "0d00a0d8",
   "metadata": {},
   "outputs": [
    {
     "data": {
      "text/plain": [
       "array([2., 2., 2., 2., 2.], dtype=float32)"
      ]
     },
     "execution_count": 169,
     "metadata": {},
     "output_type": "execute_result"
    }
   ],
   "source": [
    "b       # both point the same memory location"
   ]
  },
  {
   "cell_type": "markdown",
   "id": "d75f031e",
   "metadata": {},
   "source": [
    "# converting the numpy array into tensor"
   ]
  },
  {
   "cell_type": "code",
   "execution_count": 170,
   "id": "b6b95393",
   "metadata": {},
   "outputs": [],
   "source": [
    "a = np.ones(5)"
   ]
  },
  {
   "cell_type": "code",
   "execution_count": 171,
   "id": "6bb897e1",
   "metadata": {},
   "outputs": [
    {
     "data": {
      "text/plain": [
       "array([1., 1., 1., 1., 1.])"
      ]
     },
     "execution_count": 171,
     "metadata": {},
     "output_type": "execute_result"
    }
   ],
   "source": [
    "a"
   ]
  },
  {
   "cell_type": "code",
   "execution_count": 172,
   "id": "d68c96c8",
   "metadata": {},
   "outputs": [
    {
     "data": {
      "text/plain": [
       "numpy.ndarray"
      ]
     },
     "execution_count": 172,
     "metadata": {},
     "output_type": "execute_result"
    }
   ],
   "source": [
    "type(a)"
   ]
  },
  {
   "cell_type": "code",
   "execution_count": 176,
   "id": "70e957f3",
   "metadata": {},
   "outputs": [],
   "source": [
    "b = torch.from_numpy(a) ## from_numpy() to convert numpy into tensor"
   ]
  },
  {
   "cell_type": "code",
   "execution_count": 174,
   "id": "f1496e72",
   "metadata": {},
   "outputs": [
    {
     "data": {
      "text/plain": [
       "tensor([1., 1., 1., 1., 1.], dtype=torch.float64)"
      ]
     },
     "execution_count": 174,
     "metadata": {},
     "output_type": "execute_result"
    }
   ],
   "source": [
    "b"
   ]
  },
  {
   "cell_type": "code",
   "execution_count": 175,
   "id": "4bb92413",
   "metadata": {},
   "outputs": [
    {
     "data": {
      "text/plain": [
       "torch.Tensor"
      ]
     },
     "execution_count": 175,
     "metadata": {},
     "output_type": "execute_result"
    }
   ],
   "source": [
    "type(b)"
   ]
  },
  {
   "cell_type": "code",
   "execution_count": 180,
   "id": "c9f6aa02",
   "metadata": {},
   "outputs": [],
   "source": [
    "b = torch.from_numpy(a)"
   ]
  },
  {
   "cell_type": "code",
   "execution_count": 181,
   "id": "67fb1560",
   "metadata": {},
   "outputs": [],
   "source": [
    "a +=1"
   ]
  },
  {
   "cell_type": "code",
   "execution_count": 182,
   "id": "82f6b9da",
   "metadata": {},
   "outputs": [
    {
     "data": {
      "text/plain": [
       "array([2., 2., 2., 2., 2.])"
      ]
     },
     "execution_count": 182,
     "metadata": {},
     "output_type": "execute_result"
    }
   ],
   "source": [
    "a"
   ]
  },
  {
   "cell_type": "code",
   "execution_count": 183,
   "id": "740cbf0e",
   "metadata": {},
   "outputs": [
    {
     "data": {
      "text/plain": [
       "tensor([2., 2., 2., 2., 2.], dtype=torch.float64)"
      ]
     },
     "execution_count": 183,
     "metadata": {},
     "output_type": "execute_result"
    }
   ],
   "source": [
    "b"
   ]
  },
  {
   "cell_type": "code",
   "execution_count": 194,
   "id": "d99775a1",
   "metadata": {},
   "outputs": [
    {
     "ename": "AssertionError",
     "evalue": "Torch not compiled with CUDA enabled",
     "output_type": "error",
     "traceback": [
      "\u001b[1;31m---------------------------------------------------------------------------\u001b[0m",
      "\u001b[1;31mAssertionError\u001b[0m                            Traceback (most recent call last)",
      "\u001b[1;32m~\\AppData\\Local\\Temp\\ipykernel_5392\\420799207.py\u001b[0m in \u001b[0;36m<module>\u001b[1;34m\u001b[0m\n\u001b[0;32m      1\u001b[0m \u001b[1;32mif\u001b[0m \u001b[0mtorch\u001b[0m\u001b[1;33m.\u001b[0m\u001b[0mcuda\u001b[0m\u001b[1;33m.\u001b[0m\u001b[0mis_available\u001b[0m\u001b[1;33m:\u001b[0m\u001b[1;33m\u001b[0m\u001b[1;33m\u001b[0m\u001b[0m\n\u001b[0;32m      2\u001b[0m     \u001b[0mdevice\u001b[0m \u001b[1;33m=\u001b[0m \u001b[0mtorch\u001b[0m\u001b[1;33m.\u001b[0m\u001b[0mdevice\u001b[0m\u001b[1;33m(\u001b[0m\u001b[1;34m'cuda'\u001b[0m\u001b[1;33m)\u001b[0m\u001b[1;33m\u001b[0m\u001b[1;33m\u001b[0m\u001b[0m\n\u001b[1;32m----> 3\u001b[1;33m     \u001b[0mx\u001b[0m \u001b[1;33m=\u001b[0m \u001b[0mtorch\u001b[0m\u001b[1;33m.\u001b[0m\u001b[0mones\u001b[0m\u001b[1;33m(\u001b[0m\u001b[1;36m5\u001b[0m\u001b[1;33m,\u001b[0m \u001b[0mdevice\u001b[0m\u001b[1;33m=\u001b[0m\u001b[0mdevice\u001b[0m\u001b[1;33m)\u001b[0m\u001b[1;33m\u001b[0m\u001b[1;33m\u001b[0m\u001b[0m\n\u001b[0m\u001b[0;32m      4\u001b[0m     \u001b[0my\u001b[0m \u001b[1;33m=\u001b[0m \u001b[0mtorch\u001b[0m\u001b[1;33m.\u001b[0m\u001b[0mones\u001b[0m\u001b[1;33m(\u001b[0m\u001b[1;36m5\u001b[0m\u001b[1;33m)\u001b[0m\u001b[1;33m\u001b[0m\u001b[1;33m\u001b[0m\u001b[0m\n\u001b[0;32m      5\u001b[0m     \u001b[0my\u001b[0m \u001b[1;33m=\u001b[0m \u001b[0my\u001b[0m\u001b[1;33m.\u001b[0m\u001b[0mto\u001b[0m\u001b[1;33m(\u001b[0m\u001b[0mdevice\u001b[0m\u001b[1;33m)\u001b[0m\u001b[1;33m\u001b[0m\u001b[1;33m\u001b[0m\u001b[0m\n",
      "\u001b[1;32m~\\Anaconda3\\lib\\site-packages\\torch\\cuda\\__init__.py\u001b[0m in \u001b[0;36m_lazy_init\u001b[1;34m()\u001b[0m\n\u001b[0;32m    308\u001b[0m             )\n\u001b[0;32m    309\u001b[0m         \u001b[1;32mif\u001b[0m \u001b[1;32mnot\u001b[0m \u001b[0mhasattr\u001b[0m\u001b[1;33m(\u001b[0m\u001b[0mtorch\u001b[0m\u001b[1;33m.\u001b[0m\u001b[0m_C\u001b[0m\u001b[1;33m,\u001b[0m \u001b[1;34m\"_cuda_getDeviceCount\"\u001b[0m\u001b[1;33m)\u001b[0m\u001b[1;33m:\u001b[0m\u001b[1;33m\u001b[0m\u001b[1;33m\u001b[0m\u001b[0m\n\u001b[1;32m--> 310\u001b[1;33m             \u001b[1;32mraise\u001b[0m \u001b[0mAssertionError\u001b[0m\u001b[1;33m(\u001b[0m\u001b[1;34m\"Torch not compiled with CUDA enabled\"\u001b[0m\u001b[1;33m)\u001b[0m\u001b[1;33m\u001b[0m\u001b[1;33m\u001b[0m\u001b[0m\n\u001b[0m\u001b[0;32m    311\u001b[0m         \u001b[1;32mif\u001b[0m \u001b[0m_cudart\u001b[0m \u001b[1;32mis\u001b[0m \u001b[1;32mNone\u001b[0m\u001b[1;33m:\u001b[0m\u001b[1;33m\u001b[0m\u001b[1;33m\u001b[0m\u001b[0m\n\u001b[0;32m    312\u001b[0m             raise AssertionError(\n",
      "\u001b[1;31mAssertionError\u001b[0m: Torch not compiled with CUDA enabled"
     ]
    }
   ],
   "source": [
    "if torch.cuda.is_available:\n",
    "    device = torch.device('cuda')\n",
    "    x = torch.ones(5, device=device)\n",
    "    y = torch.ones(5)\n",
    "    y = y.to(device)\n",
    "    z = x + y\n",
    "    z = z.to('cpu')"
   ]
  },
  {
   "cell_type": "markdown",
   "id": "45f8c291",
   "metadata": {},
   "source": [
    "# auto grad package"
   ]
  },
  {
   "cell_type": "code",
   "execution_count": 195,
   "id": "50898fdf",
   "metadata": {},
   "outputs": [],
   "source": [
    "x = torch.ones(5, requires_grad= True) \n",
    "# by default the requires_grad is\n",
    "#false but when need to compute the gradient of the the tensor in \n",
    "#optimization step then requires_grads will be true \n",
    "# in your model if you need to optimze the specific tensor then it\n",
    "#will be true"
   ]
  },
  {
   "cell_type": "code",
   "execution_count": 196,
   "id": "cd343324",
   "metadata": {},
   "outputs": [
    {
     "data": {
      "text/plain": [
       "tensor([1., 1., 1., 1., 1.], requires_grad=True)"
      ]
     },
     "execution_count": 196,
     "metadata": {},
     "output_type": "execute_result"
    }
   ],
   "source": [
    "x"
   ]
  },
  {
   "cell_type": "markdown",
   "id": "1f3fa5f4",
   "metadata": {},
   "source": [
    "### autograd package is used in pytorch to compute the gradients.\n",
    "gradients are estial for our model optimization. pytorch provide the autograd package which can do all the computation for us we just to know how to use it."
   ]
  },
  {
   "cell_type": "code",
   "execution_count": 197,
   "id": "dd4a3c26",
   "metadata": {},
   "outputs": [],
   "source": [
    "import torch"
   ]
  },
  {
   "cell_type": "code",
   "execution_count": 225,
   "id": "819e8877",
   "metadata": {},
   "outputs": [],
   "source": [
    "x = torch.rand(3, requires_grad=True)"
   ]
  },
  {
   "cell_type": "code",
   "execution_count": 226,
   "id": "f7bb4d11",
   "metadata": {},
   "outputs": [
    {
     "data": {
      "text/plain": [
       "tensor([0.6843, 0.6698, 0.4578], requires_grad=True)"
      ]
     },
     "execution_count": 226,
     "metadata": {},
     "output_type": "execute_result"
    }
   ],
   "source": [
    "x  ## whenever we do the oparation with this tensor the pytorch will a computatioanl graph for us"
   ]
  },
  {
   "cell_type": "code",
   "execution_count": 227,
   "id": "03340bc4",
   "metadata": {},
   "outputs": [],
   "source": [
    "y = x+ 2  # now this will create a computational graph "
   ]
  },
  {
   "cell_type": "code",
   "execution_count": 228,
   "id": "6b6f7bb3",
   "metadata": {},
   "outputs": [
    {
     "data": {
      "text/plain": [
       "tensor([2.6843, 2.6698, 2.4578], grad_fn=<AddBackward0>)"
      ]
     },
     "execution_count": 228,
     "metadata": {},
     "output_type": "execute_result"
    }
   ],
   "source": [
    "y\n"
   ]
  },
  {
   "cell_type": "code",
   "execution_count": 229,
   "id": "0829cca2",
   "metadata": {},
   "outputs": [],
   "source": [
    "z = y*y*2"
   ]
  },
  {
   "cell_type": "code",
   "execution_count": 230,
   "id": "9c97f2ac",
   "metadata": {},
   "outputs": [
    {
     "data": {
      "text/plain": [
       "tensor([14.4114, 14.2552, 12.0811], grad_fn=<MulBackward0>)"
      ]
     },
     "execution_count": 230,
     "metadata": {},
     "output_type": "execute_result"
    }
   ],
   "source": [
    "z"
   ]
  },
  {
   "cell_type": "code",
   "execution_count": 231,
   "id": "52074630",
   "metadata": {},
   "outputs": [],
   "source": [
    "z = z.mean()"
   ]
  },
  {
   "cell_type": "code",
   "execution_count": 232,
   "id": "386cc28b",
   "metadata": {},
   "outputs": [
    {
     "data": {
      "text/plain": [
       "tensor(13.5826, grad_fn=<MeanBackward0>)"
      ]
     },
     "execution_count": 232,
     "metadata": {},
     "output_type": "execute_result"
    }
   ],
   "source": [
    "z"
   ]
  },
  {
   "cell_type": "markdown",
   "id": "1737477a",
   "metadata": {},
   "source": [
    "when we want to calculate the gradients the only thing we must do is to call z.backward()"
   ]
  },
  {
   "cell_type": "code",
   "execution_count": 233,
   "id": "b49c303c",
   "metadata": {},
   "outputs": [],
   "source": [
    "z.backward() # calculate the gradient of z w.r.t to x"
   ]
  },
  {
   "cell_type": "code",
   "execution_count": 234,
   "id": "d10057ff",
   "metadata": {},
   "outputs": [
    {
     "name": "stdout",
     "output_type": "stream",
     "text": [
      "tensor([3.5791, 3.5597, 3.2770])\n"
     ]
    }
   ],
   "source": [
    "print(x.grad) # x has a gradient attribute where the gradients are stored"
   ]
  },
  {
   "cell_type": "markdown",
   "id": "adf23330",
   "metadata": {},
   "source": [
    "# linear regression implementation"
   ]
  },
  {
   "cell_type": "code",
   "execution_count": 235,
   "id": "e4c29acb",
   "metadata": {},
   "outputs": [],
   "source": [
    "import numpy as np"
   ]
  },
  {
   "cell_type": "code",
   "execution_count": 236,
   "id": "7d656763",
   "metadata": {},
   "outputs": [],
   "source": [
    "# f = w*x\n",
    "# f = 2* x\n",
    "\n",
    "x = np.array([1,2,3,4], dtype = np.float32)\n",
    "y = np.array([2,4,6,8], dtype= np.float32)"
   ]
  },
  {
   "cell_type": "code",
   "execution_count": 237,
   "id": "de77a5a2",
   "metadata": {},
   "outputs": [],
   "source": [
    "w = 0.0"
   ]
  },
  {
   "cell_type": "code",
   "execution_count": 238,
   "id": "940d346e",
   "metadata": {},
   "outputs": [
    {
     "name": "stdout",
     "output_type": "stream",
     "text": [
      "0.0\n"
     ]
    }
   ],
   "source": [
    "## model prediction\n",
    "def forward(x):\n",
    "    return w*x\n",
    "\n",
    "#loss = MSE\n",
    "def loss(y, y_predicted):\n",
    "    return ((y_predicted - y)**2).mean()\n",
    "\n",
    "\n",
    "# gradients\n",
    "\n",
    "#Mse = 1/N * (w*x - y)**2\n",
    "\n",
    "def gradient(x,y,y_predicted):\n",
    "    return np.dot(2*x, y_predicted-y).mean()\n",
    "    \n",
    "print(forward(5))"
   ]
  },
  {
   "cell_type": "code",
   "execution_count": 241,
   "id": "613cffa3",
   "metadata": {},
   "outputs": [
    {
     "ename": "TypeError",
     "evalue": "'numpy.float32' object is not callable",
     "output_type": "error",
     "traceback": [
      "\u001b[1;31m---------------------------------------------------------------------------\u001b[0m",
      "\u001b[1;31mTypeError\u001b[0m                                 Traceback (most recent call last)",
      "\u001b[1;32m~\\AppData\\Local\\Temp\\ipykernel_5392\\1439592966.py\u001b[0m in \u001b[0;36m<module>\u001b[1;34m\u001b[0m\n\u001b[0;32m      6\u001b[0m     \u001b[0my_pred\u001b[0m \u001b[1;33m=\u001b[0m \u001b[0mforward\u001b[0m\u001b[1;33m(\u001b[0m\u001b[0mx\u001b[0m\u001b[1;33m)\u001b[0m\u001b[1;33m\u001b[0m\u001b[1;33m\u001b[0m\u001b[0m\n\u001b[0;32m      7\u001b[0m \u001b[1;33m\u001b[0m\u001b[0m\n\u001b[1;32m----> 8\u001b[1;33m     \u001b[0ml\u001b[0m \u001b[1;33m=\u001b[0m \u001b[0mloss\u001b[0m\u001b[1;33m(\u001b[0m\u001b[0my\u001b[0m\u001b[1;33m,\u001b[0m \u001b[0my_pred\u001b[0m\u001b[1;33m)\u001b[0m\u001b[1;33m\u001b[0m\u001b[1;33m\u001b[0m\u001b[0m\n\u001b[0m\u001b[0;32m      9\u001b[0m \u001b[1;33m\u001b[0m\u001b[0m\n\u001b[0;32m     10\u001b[0m     \u001b[0mdw\u001b[0m \u001b[1;33m=\u001b[0m \u001b[0mgradient\u001b[0m\u001b[1;33m(\u001b[0m\u001b[0mx\u001b[0m\u001b[1;33m,\u001b[0m\u001b[0my\u001b[0m\u001b[1;33m,\u001b[0m\u001b[0my_pred\u001b[0m\u001b[1;33m)\u001b[0m\u001b[1;33m\u001b[0m\u001b[1;33m\u001b[0m\u001b[0m\n",
      "\u001b[1;31mTypeError\u001b[0m: 'numpy.float32' object is not callable"
     ]
    }
   ],
   "source": [
    "#training \n",
    "lr = 0.01\n",
    "n_itr = 10\n",
    "\n",
    "for epoch in range(n_itr):\n",
    "    y_pred = forward(x)\n",
    "    \n",
    "    l = loss(y, y_pred)\n",
    "    \n",
    "    dw = gradient(x,y,y_pred)\n",
    "    \n",
    "    w-=lr*dw\n",
    "    \n",
    "    if epoch %1 ==0:\n",
    "        print(f'epoch {epoch+1}: w={w}, loss={l}')\n",
    "              \n",
    "print(forward(5))              "
   ]
  },
  {
   "cell_type": "markdown",
   "id": "c6c4d46d",
   "metadata": {},
   "source": [
    "# 3 steps in pytorch\n",
    "# step 1: design the model(input size, output size, forward pass)\n",
    "# step 2: construct the loss and optimizer \n",
    "# step 3: training loop\n",
    "#   1) forward pass: compute the prediction\n",
    "#   2)  backward pass: gradient\n",
    "#   3) update the weights"
   ]
  },
  {
   "cell_type": "code",
   "execution_count": 242,
   "id": "d761c776",
   "metadata": {},
   "outputs": [],
   "source": [
    "import torch \n",
    "import torch.nn as nn"
   ]
  },
  {
   "cell_type": "code",
   "execution_count": 243,
   "id": "655a27d0",
   "metadata": {},
   "outputs": [],
   "source": [
    "x = torch.tensor([1.,2.,3.,4.], dtype = torch.float32)\n",
    "y = torch.tensor([2.,4.,6.,8.], dtype = torch.float32)\n",
    "\n",
    "w = torch.tensor(0., dtype=torch.float32, requires_grad = True)"
   ]
  },
  {
   "cell_type": "code",
   "execution_count": 244,
   "id": "99a2b4e2",
   "metadata": {},
   "outputs": [],
   "source": [
    "def forward(x):\n",
    "    return w * x"
   ]
  },
  {
   "cell_type": "code",
   "execution_count": 253,
   "id": "614f395b",
   "metadata": {},
   "outputs": [],
   "source": [
    "lr = 0.01\n",
    "epochs = 10"
   ]
  },
  {
   "cell_type": "code",
   "execution_count": 246,
   "id": "32982e51",
   "metadata": {},
   "outputs": [],
   "source": [
    "loss = nn.MSELoss()\n",
    "optimizer = torch.optim.SGD([w], lr=lr)"
   ]
  },
  {
   "cell_type": "code",
   "execution_count": 254,
   "id": "45f93ac2",
   "metadata": {},
   "outputs": [
    {
     "name": "stdout",
     "output_type": "stream",
     "text": [
      "epoch 0, weights = 1.987027645111084, loss= 0.0017468547448515892\n",
      "epoch 1, weights = 1.9889734983444214, loss= 0.0012621148489415646\n",
      "epoch 2, weights = 1.9906275272369385, loss= 0.0009118800517171621\n",
      "epoch 3, weights = 1.9920333623886108, loss= 0.0006588209653273225\n",
      "epoch 4, weights = 1.9932283163070679, loss= 0.0004760062729474157\n",
      "epoch 5, weights = 1.99424409866333, loss= 0.00034391897497698665\n",
      "epoch 6, weights = 1.9951075315475464, loss= 0.0002484779979567975\n",
      "epoch 7, weights = 1.995841383934021, loss= 0.00017952272901311517\n",
      "epoch 8, weights = 1.9964652061462402, loss= 0.00012970640091225505\n",
      "epoch 9, weights = 1.996995449066162, loss= 9.371075429953635e-05\n"
     ]
    }
   ],
   "source": [
    "for epoch in range(epochs):\n",
    "    y_pred = forward(x)\n",
    "    \n",
    "    l = loss(y_pred, y)\n",
    "    \n",
    "    l.backward()\n",
    "    \n",
    "    optimizer.step()\n",
    "    \n",
    "    optimizer.zero_grad()\n",
    "    print(f'epoch {epoch}, weights = {w}, loss= {l}')"
   ]
  },
  {
   "cell_type": "markdown",
   "id": "0d06d989",
   "metadata": {},
   "source": [
    "# replace the manual forward method with pytorch model"
   ]
  },
  {
   "cell_type": "code",
   "execution_count": 255,
   "id": "499a4b33",
   "metadata": {},
   "outputs": [],
   "source": [
    "import torch \n",
    "import torch.nn as nn"
   ]
  },
  {
   "cell_type": "code",
   "execution_count": 256,
   "id": "81d78688",
   "metadata": {},
   "outputs": [],
   "source": [
    "x = torch.tensor([[1.],[2.],[3.],[4.]], dtype = torch.float32) ## it must be 2d array, number of rows are number of sample\n",
    "y = torch.tensor([[2.],[4.],[6.],[8.]], dtype = torch.float32)"
   ]
  },
  {
   "cell_type": "code",
   "execution_count": 258,
   "id": "7bf239d7",
   "metadata": {},
   "outputs": [
    {
     "name": "stdout",
     "output_type": "stream",
     "text": [
      "torch.Size([4, 1])\n",
      "torch.Size([4, 1])\n"
     ]
    }
   ],
   "source": [
    "print(x.shape)\n",
    "print(y.shape)"
   ]
  },
  {
   "cell_type": "code",
   "execution_count": 259,
   "id": "0eff2654",
   "metadata": {},
   "outputs": [],
   "source": [
    "n_samples, n_features = x.shape"
   ]
  },
  {
   "cell_type": "code",
   "execution_count": 260,
   "id": "1953e1ff",
   "metadata": {},
   "outputs": [
    {
     "data": {
      "text/plain": [
       "4"
      ]
     },
     "execution_count": 260,
     "metadata": {},
     "output_type": "execute_result"
    }
   ],
   "source": [
    "n_samples"
   ]
  },
  {
   "cell_type": "code",
   "execution_count": 261,
   "id": "39845596",
   "metadata": {},
   "outputs": [
    {
     "data": {
      "text/plain": [
       "1"
      ]
     },
     "execution_count": 261,
     "metadata": {},
     "output_type": "execute_result"
    }
   ],
   "source": [
    "n_features"
   ]
  },
  {
   "cell_type": "code",
   "execution_count": 262,
   "id": "540e8549",
   "metadata": {},
   "outputs": [],
   "source": [
    "input_size = n_features\n",
    "output_size = n_features"
   ]
  },
  {
   "cell_type": "code",
   "execution_count": null,
   "id": "577fbb1d",
   "metadata": {},
   "outputs": [],
   "source": [
    "lr = 0.01\n",
    "epochs = 10"
   ]
  },
  {
   "cell_type": "code",
   "execution_count": 263,
   "id": "38f6d1f3",
   "metadata": {},
   "outputs": [],
   "source": [
    "model = nn.Linear(input_size, output_size)"
   ]
  },
  {
   "cell_type": "code",
   "execution_count": 267,
   "id": "a20469ae",
   "metadata": {},
   "outputs": [],
   "source": [
    "loss = nn.MSELoss()\n",
    "optimizer = torch.optim.SGD(model.parameters(), lr=lr)"
   ]
  },
  {
   "cell_type": "code",
   "execution_count": 274,
   "id": "005141fb",
   "metadata": {},
   "outputs": [
    {
     "name": "stdout",
     "output_type": "stream",
     "text": [
      "epoch 0, loss= 0.07447032630443573, weight = 1.7762091159820557, bias=0.6662319302558899\n",
      "epoch 1, loss= 0.07399950176477432, weight = 1.7764661312103271, bias=0.6640968322753906\n",
      "epoch 2, loss= 0.0735393613576889, weight = 1.7767913341522217, bias=0.6619915962219238\n",
      "epoch 3, loss= 0.07308738678693771, weight = 1.7771730422973633, bias=0.6599122285842896\n",
      "epoch 4, loss= 0.07264184951782227, weight = 1.7776014804840088, bias=0.6578553318977356\n",
      "epoch 5, loss= 0.07220162451267242, weight = 1.7780684232711792, bias=0.6558181643486023\n",
      "epoch 6, loss= 0.07176586985588074, weight = 1.7785673141479492, bias=0.6537984013557434\n",
      "epoch 7, loss= 0.07133391499519348, weight = 1.7790923118591309, bias=0.6517940759658813\n",
      "epoch 8, loss= 0.07090543210506439, weight = 1.7796387672424316, bias=0.6498035788536072\n",
      "epoch 9, loss= 0.07048016041517258, weight = 1.7802027463912964, bias=0.6478255391120911\n"
     ]
    }
   ],
   "source": [
    "for epoch in range(epochs):\n",
    "    y_pred = model(x)\n",
    "    \n",
    "    l = loss(y_pred, y)\n",
    "    \n",
    "    l.backward()\n",
    "    \n",
    "    optimizer.step()\n",
    "    \n",
    "    optimizer.zero_grad()\n",
    "    [w,b]= model.parameters()\n",
    "    print(f'epoch {epoch}, loss= {l}, weight = {w[0].item()}, bias={b[0].item()}')"
   ]
  },
  {
   "cell_type": "markdown",
   "id": "e85f144a",
   "metadata": {},
   "source": [
    "# custom model"
   ]
  },
  {
   "cell_type": "code",
   "execution_count": 275,
   "id": "f7d3549a",
   "metadata": {},
   "outputs": [],
   "source": [
    "import torch \n",
    "import torch.nn as nn"
   ]
  },
  {
   "cell_type": "code",
   "execution_count": 276,
   "id": "25533df0",
   "metadata": {},
   "outputs": [],
   "source": [
    "x = torch.tensor([[1.],[2.],[3.],[4.]], dtype = torch.float32) ## it must be 2d array, number of rows are number of sample\n",
    "y = torch.tensor([[2.],[4.],[6.],[8.]], dtype = torch.float32)"
   ]
  },
  {
   "cell_type": "code",
   "execution_count": 277,
   "id": "e3b5f060",
   "metadata": {},
   "outputs": [],
   "source": [
    "n_samples, n_features = x.shape"
   ]
  },
  {
   "cell_type": "code",
   "execution_count": 278,
   "id": "3c60c472",
   "metadata": {},
   "outputs": [],
   "source": [
    "input_size = n_features\n",
    "output_size = n_features"
   ]
  },
  {
   "cell_type": "code",
   "execution_count": 279,
   "id": "f6853bfb",
   "metadata": {},
   "outputs": [],
   "source": [
    "lr = 0.01\n",
    "epochs = 10"
   ]
  },
  {
   "cell_type": "code",
   "execution_count": 280,
   "id": "98b5db84",
   "metadata": {},
   "outputs": [],
   "source": [
    "class Linearregression(nn.Module):\n",
    "    def __init__(self, input_dim, output_dim):\n",
    "        super(Linearregression, self).__init__()\n",
    "        #define layer\n",
    "        self.linear = nn.Linear(input_dim, output_dim)\n",
    "    def forward(self, x):\n",
    "        return self.linear(x)\n",
    "        "
   ]
  },
  {
   "cell_type": "code",
   "execution_count": 281,
   "id": "e4050ed6",
   "metadata": {},
   "outputs": [],
   "source": [
    "model = Linearregression(input_size, output_size)"
   ]
  },
  {
   "cell_type": "code",
   "execution_count": 282,
   "id": "4e5aacac",
   "metadata": {},
   "outputs": [],
   "source": [
    "loss = nn.MSELoss()\n",
    "optimizer = torch.optim.SGD(model.parameters(), lr=lr)"
   ]
  },
  {
   "cell_type": "code",
   "execution_count": 283,
   "id": "1d8150c8",
   "metadata": {},
   "outputs": [
    {
     "name": "stdout",
     "output_type": "stream",
     "text": [
      "epoch 0, loss= 23.890872955322266, weight = 0.5147718191146851, bias=-0.005813121795654297\n",
      "epoch 1, loss= 16.587474822998047, weight = 0.7378466725349426, bias=0.06856454908847809\n",
      "epoch 2, loss= 11.51973819732666, weight = 0.9237414598464966, bias=0.13030092418193817\n",
      "epoch 3, loss= 8.003283500671387, weight = 1.0786652565002441, bias=0.18150782585144043\n",
      "epoch 4, loss= 5.563230037689209, weight = 1.2077900171279907, bias=0.22394441068172455\n",
      "epoch 5, loss= 3.8700714111328125, weight = 1.3154243230819702, bias=0.2590760290622711\n",
      "epoch 6, loss= 2.6951634883880615, weight = 1.4051568508148193, bias=0.2881232798099518\n",
      "epoch 7, loss= 1.8798624277114868, weight = 1.4799771308898926, bias=0.3121029734611511\n",
      "epoch 8, loss= 1.314083456993103, weight = 1.5423754453659058, bias=0.33186206221580505\n",
      "epoch 9, loss= 0.9214432239532471, weight = 1.5944260358810425, bias=0.3481060564517975\n"
     ]
    }
   ],
   "source": [
    "for epoch in range(epochs):\n",
    "    y_pred = model(x)\n",
    "    \n",
    "    l = loss(y_pred, y)\n",
    "    \n",
    "    l.backward()\n",
    "    \n",
    "    optimizer.step()\n",
    "    \n",
    "    optimizer.zero_grad()\n",
    "    [w,b]= model.parameters()\n",
    "    print(f'epoch {epoch}, loss= {l}, weight = {w[0].item()}, bias={b[0].item()}')"
   ]
  },
  {
   "cell_type": "markdown",
   "id": "710e3878",
   "metadata": {},
   "source": [
    "# Linear regression"
   ]
  },
  {
   "cell_type": "code",
   "execution_count": 37,
   "id": "3d3be9a5",
   "metadata": {},
   "outputs": [],
   "source": [
    "import torch\n",
    "import torch.nn as nn\n",
    "import numpy as np\n",
    "from sklearn import datasets\n",
    "import matplotlib.pyplot as plt"
   ]
  },
  {
   "cell_type": "code",
   "execution_count": null,
   "id": "6016cffb",
   "metadata": {},
   "outputs": [],
   "source": [
    "#x = torch.tensor([1], [2], [3], [4], dtype = torch.float32)\n",
    "#y = torch.tensor([2], [4],[6],[8], dtype = torch.float32)"
   ]
  },
  {
   "cell_type": "markdown",
   "id": "4660929e",
   "metadata": {},
   "source": [
    "# prepare data\n",
    "# design a model\n",
    "# optimizer and loss\n",
    "# training loop\n",
    "# backward"
   ]
  },
  {
   "cell_type": "code",
   "execution_count": 2,
   "id": "dcd2e120",
   "metadata": {},
   "outputs": [],
   "source": [
    "## prepare data\n",
    "\n",
    "x_numpy, y_numpy = datasets.make_regression(n_samples=100, n_features=1, noise= 20, random_state=1)"
   ]
  },
  {
   "cell_type": "code",
   "execution_count": 8,
   "id": "aacdcb7c",
   "metadata": {},
   "outputs": [
    {
     "data": {
      "text/plain": [
       "dtype('float64')"
      ]
     },
     "execution_count": 8,
     "metadata": {},
     "output_type": "execute_result"
    }
   ],
   "source": [
    "x_numpy.dtype"
   ]
  },
  {
   "cell_type": "code",
   "execution_count": 9,
   "id": "5541733b",
   "metadata": {},
   "outputs": [],
   "source": [
    "x =torch.from_numpy(x_numpy.astype(np.float32))\n",
    "y = torch.from_numpy(y_numpy.astype(np.float32))"
   ]
  },
  {
   "cell_type": "code",
   "execution_count": 10,
   "id": "e81a1ff0",
   "metadata": {},
   "outputs": [
    {
     "data": {
      "text/plain": [
       "torch.Size([100, 1])"
      ]
     },
     "execution_count": 10,
     "metadata": {},
     "output_type": "execute_result"
    }
   ],
   "source": [
    "x.shape"
   ]
  },
  {
   "cell_type": "code",
   "execution_count": 11,
   "id": "b7a155a0",
   "metadata": {},
   "outputs": [
    {
     "data": {
      "text/plain": [
       "torch.Size([100])"
      ]
     },
     "execution_count": 11,
     "metadata": {},
     "output_type": "execute_result"
    }
   ],
   "source": [
    "y.shape"
   ]
  },
  {
   "cell_type": "code",
   "execution_count": 12,
   "id": "c1a991f6",
   "metadata": {},
   "outputs": [
    {
     "name": "stdout",
     "output_type": "stream",
     "text": [
      "torch.float32 torch.float32\n"
     ]
    }
   ],
   "source": [
    "print(x.dtype, y.dtype)"
   ]
  },
  {
   "cell_type": "code",
   "execution_count": 13,
   "id": "8ef31fea",
   "metadata": {},
   "outputs": [
    {
     "data": {
      "text/plain": [
       "100"
      ]
     },
     "execution_count": 13,
     "metadata": {},
     "output_type": "execute_result"
    }
   ],
   "source": [
    "y.shape[0]"
   ]
  },
  {
   "cell_type": "code",
   "execution_count": 14,
   "id": "459e5058",
   "metadata": {},
   "outputs": [],
   "source": [
    "y = y.view(y.shape[0], 1)"
   ]
  },
  {
   "cell_type": "code",
   "execution_count": 15,
   "id": "3d23af5b",
   "metadata": {},
   "outputs": [
    {
     "data": {
      "text/plain": [
       "torch.Size([100, 1])"
      ]
     },
     "execution_count": 15,
     "metadata": {},
     "output_type": "execute_result"
    }
   ],
   "source": [
    "y.shape"
   ]
  },
  {
   "cell_type": "code",
   "execution_count": 19,
   "id": "f084312a",
   "metadata": {},
   "outputs": [],
   "source": [
    "#y"
   ]
  },
  {
   "cell_type": "code",
   "execution_count": 16,
   "id": "2a773a3a",
   "metadata": {},
   "outputs": [],
   "source": [
    "n_samples, n_features = x.shape"
   ]
  },
  {
   "cell_type": "code",
   "execution_count": 17,
   "id": "5e19c0ae",
   "metadata": {},
   "outputs": [
    {
     "data": {
      "text/plain": [
       "1"
      ]
     },
     "execution_count": 17,
     "metadata": {},
     "output_type": "execute_result"
    }
   ],
   "source": [
    "n_features"
   ]
  },
  {
   "cell_type": "code",
   "execution_count": 20,
   "id": "5885cd96",
   "metadata": {},
   "outputs": [],
   "source": [
    "output_size = 1"
   ]
  },
  {
   "cell_type": "code",
   "execution_count": 25,
   "id": "a9c8393b",
   "metadata": {},
   "outputs": [],
   "source": [
    "class linearregression(nn.Module):\n",
    "    def __init__(self, input_dim, output_dim):\n",
    "        super(linearregression, self).__init__()\n",
    "        \n",
    "        self.linear = nn.Linear(input_dim, output_dim) \n",
    "    def forward(self, x):\n",
    "        \n",
    "        return self.linear(x)\n",
    "    \n",
    "model = linearregression(n_features, output_size)"
   ]
  },
  {
   "cell_type": "code",
   "execution_count": 26,
   "id": "fed53201",
   "metadata": {},
   "outputs": [],
   "source": [
    "loss = nn.MSELoss()  #callable function \n",
    "learning_rate = 0.01\n",
    "optimizer = torch.optim.SGD(model.parameters(), lr=learning_rate)"
   ]
  },
  {
   "cell_type": "code",
   "execution_count": 35,
   "id": "5f788ff7",
   "metadata": {},
   "outputs": [
    {
     "name": "stdout",
     "output_type": "stream",
     "text": [
      "epoch 0, loss=468.0741\n",
      "epoch 1, loss=463.8727\n",
      "epoch 2, loss=459.8022\n",
      "epoch 3, loss=455.8581\n",
      "epoch 4, loss=452.0369\n",
      "epoch 5, loss=448.3345\n",
      "epoch 6, loss=444.7474\n",
      "epoch 7, loss=441.2717\n",
      "epoch 8, loss=437.9041\n",
      "epoch 9, loss=434.6412\n",
      "epoch 10, loss=431.4798\n",
      "epoch 11, loss=428.4166\n",
      "epoch 12, loss=425.4486\n",
      "epoch 13, loss=422.5728\n",
      "epoch 14, loss=419.7864\n",
      "epoch 15, loss=417.0865\n",
      "epoch 16, loss=414.4706\n",
      "epoch 17, loss=411.9358\n",
      "epoch 18, loss=409.4797\n",
      "epoch 19, loss=407.0999\n",
      "epoch 20, loss=404.7940\n",
      "epoch 21, loss=402.5596\n",
      "epoch 22, loss=400.3947\n",
      "epoch 23, loss=398.2968\n",
      "epoch 24, loss=396.2640\n",
      "epoch 25, loss=394.2943\n",
      "epoch 26, loss=392.3857\n",
      "epoch 27, loss=390.5364\n",
      "epoch 28, loss=388.7443\n",
      "epoch 29, loss=387.0078\n",
      "epoch 30, loss=385.3252\n",
      "epoch 31, loss=383.6947\n",
      "epoch 32, loss=382.1147\n",
      "epoch 33, loss=380.5837\n",
      "epoch 34, loss=379.1002\n",
      "epoch 35, loss=377.6626\n",
      "epoch 36, loss=376.2696\n",
      "epoch 37, loss=374.9196\n",
      "epoch 38, loss=373.6115\n",
      "epoch 39, loss=372.3439\n",
      "epoch 40, loss=371.1157\n",
      "epoch 41, loss=369.9254\n",
      "epoch 42, loss=368.7720\n",
      "epoch 43, loss=367.6541\n",
      "epoch 44, loss=366.5711\n",
      "epoch 45, loss=365.5215\n",
      "epoch 46, loss=364.5043\n",
      "epoch 47, loss=363.5188\n",
      "epoch 48, loss=362.5636\n",
      "epoch 49, loss=361.6379\n"
     ]
    }
   ],
   "source": [
    "epoches =50\n",
    "\n",
    "for epoch in range(epoches):\n",
    "    \n",
    "    y_pred = model(x) #foward pass\n",
    "    \n",
    "    ls = loss(y_pred, y)  ##loss compute\n",
    "    \n",
    "    ls.backward()  ## backpropogation (calculate the gradients)\n",
    "    \n",
    "    optimizer.step()  # update the weights\n",
    "    \n",
    "    optimizer.zero_grad() #empty our gradients, because whenever called the bakward function, this will sumup the gradeints into .grad attribute so we empty it \n",
    "    \n",
    "    print(f'epoch {epoch}, loss={ls.item():.4f}')"
   ]
  },
  {
   "cell_type": "code",
   "execution_count": 38,
   "id": "7ccfb89f",
   "metadata": {},
   "outputs": [
    {
     "data": {
      "image/png": "[encoded data removed]",
      "text/plain": [
       "<Figure size 640x480 with 1 Axes>"
      ]
     },
     "metadata": {},
     "output_type": "display_data"
    }
   ],
   "source": [
    "#plot\n",
    "predicted = model(x).detach().numpy()\n",
    "plt.plot(x_numpy, y_numpy, 'ro')\n",
    "plt.plot(x_numpy, predicted, 'b')\n",
    "plt.show()"
   ]
  },
  {
   "cell_type": "markdown",
   "id": "33ea91e5",
   "metadata": {},
   "source": [
    "# logistic Regression"
   ]
  },
  {
   "cell_type": "code",
   "execution_count": 39,
   "id": "2f6c26ca",
   "metadata": {},
   "outputs": [],
   "source": [
    "import torch\n",
    "import torch.nn as nn\n",
    "from sklearn import datasets\n",
    "from sklearn.preprocessing import StandardScaler\n",
    "from sklearn.model_selection import train_test_split"
   ]
  },
  {
   "cell_type": "code",
   "execution_count": 40,
   "id": "2f22f6b1",
   "metadata": {},
   "outputs": [],
   "source": [
    "# 0) prepare the data\n",
    "\n",
    "bc = datasets.load_breast_cancer()\n",
    "\n",
    "x, y = bc.data, bc.target"
   ]
  },
  {
   "cell_type": "code",
   "execution_count": 41,
   "id": "6d3d638c",
   "metadata": {},
   "outputs": [],
   "source": [
    "n_samples, n_features = x.shape"
   ]
  },
  {
   "cell_type": "code",
   "execution_count": 42,
   "id": "6d37a63c",
   "metadata": {},
   "outputs": [
    {
     "name": "stdout",
     "output_type": "stream",
     "text": [
      "569 30\n"
     ]
    }
   ],
   "source": [
    "print(n_samples, n_features)"
   ]
  },
  {
   "cell_type": "code",
   "execution_count": 46,
   "id": "57f96c67",
   "metadata": {},
   "outputs": [],
   "source": [
    "scaler = StandardScaler()"
   ]
  },
  {
   "cell_type": "code",
   "execution_count": 47,
   "id": "bff66eeb",
   "metadata": {},
   "outputs": [],
   "source": [
    "x_sacled = scaler.fit_transform(x)"
   ]
  },
  {
   "cell_type": "code",
   "execution_count": 48,
   "id": "9923a2a0",
   "metadata": {},
   "outputs": [],
   "source": [
    "x_train, x_test, y_train, y_test = train_test_split(x_sacled, y, test_size=0.1, random_state=42)"
   ]
  },
  {
   "cell_type": "code",
   "execution_count": 50,
   "id": "b3303744",
   "metadata": {},
   "outputs": [],
   "source": [
    "#x_train"
   ]
  },
  {
   "cell_type": "code",
   "execution_count": 51,
   "id": "b425a1dc",
   "metadata": {},
   "outputs": [],
   "source": [
    "x_train = torch.from_numpy(x_train.astype(np.float32))\n",
    "x_test = torch.from_numpy(x_test.astype(np.float32))"
   ]
  },
  {
   "cell_type": "code",
   "execution_count": 52,
   "id": "6a30b65d",
   "metadata": {},
   "outputs": [],
   "source": [
    "y_train = torch.from_numpy(y_train.astype(np.float32))\n",
    "y_test = torch.from_numpy(y_test.astype(np.float32))"
   ]
  },
  {
   "cell_type": "code",
   "execution_count": 53,
   "id": "0502dc4a",
   "metadata": {},
   "outputs": [
    {
     "name": "stdout",
     "output_type": "stream",
     "text": [
      "torch.Size([512, 30]) torch.Size([57, 30])\n",
      "torch.Size([512]) torch.Size([57])\n"
     ]
    }
   ],
   "source": [
    "print(x_train.shape, x_test.shape)\n",
    "\n",
    "print(y_train.shape, y_test.shape)"
   ]
  },
  {
   "cell_type": "code",
   "execution_count": null,
   "id": "e61c265b",
   "metadata": {},
   "outputs": [],
   "source": [
    "#y_train = torch.view(y_train.shape[0], 1)\n",
    "\n",
    "#y_test = torch.view(y_train.shape[0], 1)"
   ]
  },
  {
   "cell_type": "code",
   "execution_count": 54,
   "id": "59885a25",
   "metadata": {},
   "outputs": [],
   "source": [
    "##model \n",
    "class logisticregression(nn.Module):\n",
    "    def __init__(self, input_dim, output_dim):\n",
    "        super(logisticregression, self).__init__()\n",
    "        self.linear = nn.Linear(input_dim, output_dim)\n",
    "        \n",
    "    def forward(self, x):\n",
    "        \n",
    "        x1 = self.linear(x)\n",
    "        y_pred = torch.sigmoid(x1)\n",
    "        \n",
    "        return y_pred\n",
    "        \n",
    "output_size = 1        \n",
    "model = logisticregression(n_features, output_size)"
   ]
  },
  {
   "cell_type": "code",
   "execution_count": 55,
   "id": "a7cd6f70",
   "metadata": {},
   "outputs": [],
   "source": [
    "## loss function and optimizer\n",
    "learning_rate =0.01\n",
    "loss = nn.BCELoss()\n",
    "\n",
    "optimizer = torch.optim.SGD(model.parameters(), lr= learning_rate)"
   ]
  },
  {
   "cell_type": "code",
   "execution_count": 63,
   "id": "cd78e2e8",
   "metadata": {},
   "outputs": [
    {
     "name": "stdout",
     "output_type": "stream",
     "text": [
      "epoches 0, loss=0.28090953826904297\n",
      "epoches 1, loss=0.28060173988342285\n",
      "epoches 2, loss=0.28029707074165344\n",
      "epoches 3, loss=0.2799954116344452\n",
      "epoches 4, loss=0.27969688177108765\n",
      "epoches 5, loss=0.27940136194229126\n",
      "epoches 6, loss=0.2791089117527008\n",
      "epoches 7, loss=0.2788195013999939\n",
      "epoches 8, loss=0.27853313088417053\n",
      "epoches 9, loss=0.27824974060058594\n",
      "epoches 10, loss=0.2779693603515625\n",
      "epoches 11, loss=0.27769196033477783\n",
      "epoches 12, loss=0.27741754055023193\n",
      "epoches 13, loss=0.2771460711956024\n",
      "epoches 14, loss=0.2768775224685669\n",
      "epoches 15, loss=0.27661192417144775\n",
      "epoches 16, loss=0.27634918689727783\n",
      "epoches 17, loss=0.2760893702507019\n",
      "epoches 18, loss=0.2758323550224304\n",
      "epoches 19, loss=0.27557820081710815\n",
      "epoches 20, loss=0.2753269076347351\n",
      "epoches 21, loss=0.2750784158706665\n",
      "epoches 22, loss=0.27483266592025757\n",
      "epoches 23, loss=0.2745896875858307\n",
      "epoches 24, loss=0.2743494510650635\n",
      "epoches 25, loss=0.27411192655563354\n",
      "epoches 26, loss=0.2738771438598633\n",
      "epoches 27, loss=0.27364498376846313\n",
      "epoches 28, loss=0.2734154760837555\n",
      "epoches 29, loss=0.27318859100341797\n",
      "epoches 30, loss=0.2729642987251282\n",
      "epoches 31, loss=0.2727426290512085\n",
      "epoches 32, loss=0.2725234925746918\n",
      "epoches 33, loss=0.272306889295578\n",
      "epoches 34, loss=0.2720928192138672\n",
      "epoches 35, loss=0.2718811631202698\n",
      "epoches 36, loss=0.27167201042175293\n",
      "epoches 37, loss=0.2714652419090271\n",
      "epoches 38, loss=0.27126091718673706\n",
      "epoches 39, loss=0.27105897665023804\n",
      "epoches 40, loss=0.27085936069488525\n",
      "epoches 41, loss=0.2706620693206787\n",
      "epoches 42, loss=0.2704671025276184\n",
      "epoches 43, loss=0.27027440071105957\n",
      "epoches 44, loss=0.2700839638710022\n",
      "epoches 45, loss=0.2698957026004791\n",
      "epoches 46, loss=0.26970967650413513\n",
      "epoches 47, loss=0.26952582597732544\n",
      "epoches 48, loss=0.2693440914154053\n",
      "epoches 49, loss=0.269164502620697\n",
      "epoches 50, loss=0.2689869701862335\n",
      "epoches 51, loss=0.26881155371665955\n",
      "epoches 52, loss=0.26863813400268555\n",
      "epoches 53, loss=0.2684667408466339\n",
      "epoches 54, loss=0.26829731464385986\n",
      "epoches 55, loss=0.2681298851966858\n",
      "epoches 56, loss=0.26796436309814453\n",
      "epoches 57, loss=0.2678007483482361\n",
      "epoches 58, loss=0.26763904094696045\n",
      "epoches 59, loss=0.26747918128967285\n",
      "epoches 60, loss=0.2673211693763733\n",
      "epoches 61, loss=0.2671649158000946\n",
      "epoches 62, loss=0.26701048016548157\n",
      "epoches 63, loss=0.2668578028678894\n",
      "epoches 64, loss=0.2667068541049957\n",
      "epoches 65, loss=0.26655760407447815\n",
      "epoches 66, loss=0.26641005277633667\n",
      "epoches 67, loss=0.2662641406059265\n",
      "epoches 68, loss=0.26611989736557007\n",
      "epoches 69, loss=0.2659772038459778\n",
      "epoches 70, loss=0.2658361494541168\n",
      "epoches 71, loss=0.26569664478302\n",
      "epoches 72, loss=0.2655586898326874\n",
      "epoches 73, loss=0.2654222249984741\n",
      "epoches 74, loss=0.26528725028038025\n",
      "epoches 75, loss=0.26515379548072815\n",
      "epoches 76, loss=0.26502174139022827\n",
      "epoches 77, loss=0.2648911476135254\n",
      "epoches 78, loss=0.26476192474365234\n",
      "epoches 79, loss=0.2646341323852539\n",
      "epoches 80, loss=0.2645076513290405\n",
      "epoches 81, loss=0.2643825113773346\n",
      "epoches 82, loss=0.2642587423324585\n",
      "epoches 83, loss=0.2641362249851227\n",
      "epoches 84, loss=0.2640150189399719\n",
      "epoches 85, loss=0.26389503479003906\n",
      "epoches 86, loss=0.26377633213996887\n",
      "epoches 87, loss=0.2636587619781494\n",
      "epoches 88, loss=0.2635424733161926\n",
      "epoches 89, loss=0.26342734694480896\n",
      "epoches 90, loss=0.263313353061676\n",
      "epoches 91, loss=0.2632005512714386\n",
      "epoches 92, loss=0.26308882236480713\n",
      "epoches 93, loss=0.2629782557487488\n",
      "epoches 94, loss=0.2628687024116516\n",
      "epoches 95, loss=0.2627602815628052\n",
      "epoches 96, loss=0.2626528739929199\n",
      "epoches 97, loss=0.26254647970199585\n",
      "epoches 98, loss=0.2624411880970001\n",
      "epoches 99, loss=0.2623368501663208\n"
     ]
    }
   ],
   "source": [
    "## training loop\n",
    "epoches = 100\n",
    "\n",
    "for epoch in range(epoches):\n",
    "    y_pred = model(x_train)\n",
    "    \n",
    "    ls = loss(y_pred, y_train)\n",
    "    \n",
    "    ls.backward()\n",
    "    \n",
    "    optimizer.step()\n",
    "    \n",
    "    optimizer.zero_grad()\n",
    "    \n",
    "    print(f'epoches {epoch}, loss={ls}')"
   ]
  },
  {
   "cell_type": "code",
   "execution_count": 64,
   "id": "46013c86",
   "metadata": {},
   "outputs": [
    {
     "name": "stdout",
     "output_type": "stream",
     "text": [
      "accuracy : 25.070175170898438\n"
     ]
    }
   ],
   "source": [
    "with torch.no_grad():\n",
    "    y_prediction = model(x_test)\n",
    "    y_pred_cls = y_prediction.round()\n",
    "    acc = y_pred_cls.eq(y_test).sum()/float(y_test.shape[0])\n",
    "    print(f'accuracy : {acc}')\n",
    "    "
   ]
  },
  {
   "cell_type": "code",
   "execution_count": 65,
   "id": "3819359d",
   "metadata": {},
   "outputs": [
    {
     "data": {
      "image/png": "[encoded data removed]",
      "text/plain": [
       "<Figure size 640x480 with 1 Axes>"
      ]
     },
     "metadata": {},
     "output_type": "display_data"
    }
   ],
   "source": [
    "predicted= y_prediction.detach().numpy()\n",
    "plt.plot(x_test.detach().numpy(), y_test.detach().numpy(), 'ro')\n",
    "plt.plot(x_test, predicted, 'b')\n",
    "plt.show()"
   ]
  },
  {
   "cell_type": "markdown",
   "id": "51d4e808",
   "metadata": {},
   "source": [
    "'''\n",
    "epoch = 1 forward and backward pass of all training samples\n",
    "batch_size = number of training samples in one forward and and backward pass\n",
    "number of iterations = number of passes, each pass using [batch_size] number of samples\n",
    "e.g 100 samples, batch_size=20, ----> 100/20 =5 iterations for 1 epoch\n",
    "\n",
    "'''"
   ]
  },
  {
   "cell_type": "markdown",
   "id": "8519e901",
   "metadata": {},
   "source": [
    "# custom dataset"
   ]
  },
  {
   "cell_type": "code",
   "execution_count": 66,
   "id": "6406ae61",
   "metadata": {},
   "outputs": [],
   "source": [
    "import torch\n",
    "import torchvision\n",
    "from torch.utils.data import Dataset, DataLoader\n",
    "import numpy as np\n",
    "import math"
   ]
  },
  {
   "cell_type": "code",
   "execution_count": 69,
   "id": "7a07f7e4",
   "metadata": {},
   "outputs": [],
   "source": [
    "class winedataset(Dataset):\n",
    "    def __init__(self):\n",
    "        ##data loading\n",
    "        xy = np.loadtxt(r\"wine.csv\", delimiter=',', dtype=np.float32, skiprows=1)\n",
    "        self.x =torch.from_numpy(xy[:, 1:])\n",
    "        self.y=torch.from_numpy(xy[:,[0]])    # n_samples, 1\n",
    "        self.n_samples = xy.shape[0]\n",
    "        \n",
    "    def __getitem__(self, index):\n",
    "        ## dataset index\n",
    "        return self.x[index], self.y[index]\n",
    "        \n",
    "    def __len__(self):\n",
    "        # len(dataset)\n",
    "        return self.n_samples\n",
    "    \n",
    "dataset  = winedataset()\n",
    "#first_data = dataset[0]\n",
    "\n",
    "#features, label = first_data\n",
    "#print(features, label)\n",
    "\n",
    "dataloader = DataLoader(dataset= dataset, batch_size= 4, shuffle=True)"
   ]
  },
  {
   "cell_type": "code",
   "execution_count": 71,
   "id": "ded4426d",
   "metadata": {},
   "outputs": [
    {
     "name": "stdout",
     "output_type": "stream",
     "text": [
      "tensor([[1.1650e+01, 1.6700e+00, 2.6200e+00, 2.6000e+01, 8.8000e+01, 1.9200e+00,\n",
      "         1.6100e+00, 4.0000e-01, 1.3400e+00, 2.6000e+00, 1.3600e+00, 3.2100e+00,\n",
      "         5.6200e+02],\n",
      "        [1.2000e+01, 3.4300e+00, 2.0000e+00, 1.9000e+01, 8.7000e+01, 2.0000e+00,\n",
      "         1.6400e+00, 3.7000e-01, 1.8700e+00, 1.2800e+00, 9.3000e-01, 3.0500e+00,\n",
      "         5.6400e+02],\n",
      "        [1.3520e+01, 3.1700e+00, 2.7200e+00, 2.3500e+01, 9.7000e+01, 1.5500e+00,\n",
      "         5.2000e-01, 5.0000e-01, 5.5000e-01, 4.3500e+00, 8.9000e-01, 2.0600e+00,\n",
      "         5.2000e+02],\n",
      "        [1.3750e+01, 1.7300e+00, 2.4100e+00, 1.6000e+01, 8.9000e+01, 2.6000e+00,\n",
      "         2.7600e+00, 2.9000e-01, 1.8100e+00, 5.6000e+00, 1.1500e+00, 2.9000e+00,\n",
      "         1.3200e+03]]) tensor([[2.],\n",
      "        [2.],\n",
      "        [3.],\n",
      "        [1.]])\n"
     ]
    }
   ],
   "source": [
    "dataiter = iter(dataloader)\n",
    "data = next(dataiter)\n",
    "features, labels = data\n",
    "print(features, labels)"
   ]
  },
  {
   "cell_type": "code",
   "execution_count": 72,
   "id": "3c257c28",
   "metadata": {},
   "outputs": [
    {
     "name": "stdout",
     "output_type": "stream",
     "text": [
      "45\n"
     ]
    }
   ],
   "source": [
    "epochs =20\n",
    "total_samples = len(dataset)\n",
    "n_iteration = math.ceil(total_samples/4)\n",
    "print(n_iteration)"
   ]
  },
  {
   "cell_type": "code",
   "execution_count": null,
   "id": "9c667ba7",
   "metadata": {},
   "outputs": [],
   "source": [
    "for epoch in range(epochs):\n",
    "    for i, (inputs, labels) in enumerate(dataloader):\n",
    "        y_pred = model(inputs)\n",
    "        \n",
    "        ls = loss(y_pred,labels )\n",
    "        \n",
    "        ls.backward()\n",
    "        \n",
    "        optimizer.step()\n",
    "        optimizer.zero_grad()\n",
    "        "
   ]
  },
  {
   "cell_type": "code",
   "execution_count": null,
   "id": "22d8788a",
   "metadata": {},
   "outputs": [],
   "source": [
    "#torchvision.datasets.MNIST()\n"
   ]
  },
  {
   "cell_type": "code",
   "execution_count": null,
   "id": "c0084077",
   "metadata": {},
   "outputs": [],
   "source": []
  },
  {
   "cell_type": "code",
   "execution_count": null,
   "id": "c383d5c7",
   "metadata": {},
   "outputs": [],
   "source": []
  },
  {
   "cell_type": "code",
   "execution_count": null,
   "id": "bc90ebd4",
   "metadata": {},
   "outputs": [],
   "source": []
  }
 ],
 "metadata": {
  "kernelspec": {
   "display_name": "Python 3 (ipykernel)",
   "language": "python",
   "name": "python3"
  },
  "language_info": {
   "codemirror_mode": {
    "name": "ipython",
    "version": 3
   },
   "file_extension": ".py",
   "mimetype": "text/x-python",
   "name": "python",
   "nbconvert_exporter": "python",
   "pygments_lexer": "ipython3",
   "version": "3.9.13"
  }
 },
 "nbformat": 4,
 "nbformat_minor": 5
}
