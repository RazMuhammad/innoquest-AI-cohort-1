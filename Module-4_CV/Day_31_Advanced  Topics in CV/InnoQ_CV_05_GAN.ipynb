{
 "cells": [
  {
   "cell_type": "markdown",
   "id": "03494048-4cad-45d6-9728-b29290b350c3",
   "metadata": {},
   "source": [
    "# Generative Adversarial Networks"
   ]
  },
  {
   "cell_type": "markdown",
   "id": "be991597-bbd9-4083-9cd6-c7563e6fd007",
   "metadata": {},
   "source": [
    "## 1. GAN Training\n",
    "#### MNIST Dataset Generation"
   ]
  },
  {
   "cell_type": "code",
   "execution_count": 1,
   "id": "9c864db1-7593-476c-8bbd-29fc9228e0ef",
   "metadata": {},
   "outputs": [],
   "source": [
    "import torch\n",
    "import torch.nn as nn\n",
    "import torch.optim as optim\n",
    "import torchvision\n",
    "import torchvision.transforms as transforms\n",
    "from torch.utils.data import DataLoader\n",
    "import matplotlib.pyplot as plt\n",
    "import numpy as np"
   ]
  },
  {
   "cell_type": "code",
   "execution_count": 2,
   "id": "b08980de-9c79-47fe-8fa0-25f05eb6d97b",
   "metadata": {},
   "outputs": [],
   "source": [
    "# Hyperparameters\n",
    "batch_size = 128\n",
    "discriminator_lr = 0.0002\n",
    "generator_lr = 0.0002\n",
    "latent_dim = 100\n",
    "num_epochs = 50"
   ]
  },
  {
   "cell_type": "code",
   "execution_count": 3,
   "id": "7f724d76-22bc-4fc1-b93e-db486a4c2014",
   "metadata": {},
   "outputs": [],
   "source": [
    "device = torch.device(\"cuda\" if torch.cuda.is_available() else \"cpu\")"
   ]
  },
  {
   "cell_type": "code",
   "execution_count": 4,
   "id": "82e02958-f878-424d-86ae-6cf6a523b3a2",
   "metadata": {},
   "outputs": [],
   "source": [
    "# Prepare the dataset\n",
    "transform = transforms.Compose([\n",
    "    transforms.ToTensor(),\n",
    "    transforms.Normalize((0.5,), (0.5,))\n",
    "])"
   ]
  },
  {
   "cell_type": "code",
   "execution_count": 5,
   "id": "359f99eb-4ebc-44ab-8735-46337069d60f",
   "metadata": {},
   "outputs": [
    {
     "name": "stderr",
     "output_type": "stream",
     "text": [
      "100%|██████████████████████████████████████████████████████████████████████| 26.4M/26.4M [06:32<00:00, 67.3kB/s]\n",
      "100%|███████████████████████████████████████████████████████████████████████| 29.5k/29.5k [00:00<00:00, 208kB/s]\n",
      "100%|██████████████████████████████████████████████████████████████████████| 4.42M/4.42M [00:03<00:00, 1.33MB/s]\n",
      "100%|██████████████████████████████████████████████████████████████████████| 5.15k/5.15k [00:00<00:00, 34.8kB/s]\n"
     ]
    }
   ],
   "source": [
    "dataset = torchvision.datasets.FashionMNIST(root=\"./data\", train=True, transform=transform, download=True)\n",
    "dataloader = DataLoader(dataset, batch_size=batch_size, shuffle=True)"
   ]
  },
  {
   "cell_type": "code",
   "execution_count": 6,
   "id": "f7414a5a-2a7f-4d0b-a9da-17c4d0bef9cc",
   "metadata": {},
   "outputs": [],
   "source": [
    "# Define the Generator\n",
    "class Generator(nn.Module):\n",
    "    def __init__(self, latent_dim):\n",
    "        super(Generator, self).__init__()\n",
    "        self.model = nn.Sequential(\n",
    "            nn.Linear(latent_dim, 256),\n",
    "            nn.BatchNorm1d(256),\n",
    "            nn.LeakyReLU(0.2),\n",
    "            nn.Linear(256, 512),\n",
    "            nn.BatchNorm1d(512),\n",
    "            nn.LeakyReLU(0.2),\n",
    "            nn.Linear(512, 1024),\n",
    "            nn.BatchNorm1d(1024),\n",
    "            nn.LeakyReLU(0.2),\n",
    "            nn.Linear(1024, 28 * 28),\n",
    "            nn.Tanh()\n",
    "        )\n",
    "    \n",
    "    def forward(self, z):\n",
    "        img = self.model(z)\n",
    "        img = img.view(img.size(0), 1, 28, 28)\n",
    "        return img"
   ]
  },
  {
   "cell_type": "code",
   "execution_count": 7,
   "id": "9d5f4542-555e-4e91-b2ca-a7e37fd8a6d0",
   "metadata": {},
   "outputs": [],
   "source": [
    "# Define the Discriminator\n",
    "class Discriminator(nn.Module):\n",
    "    def __init__(self):\n",
    "        super(Discriminator, self).__init__()\n",
    "        self.model = nn.Sequential(\n",
    "            nn.Linear(28 * 28, 1024),\n",
    "            nn.LeakyReLU(0.2),\n",
    "            nn.Linear(1024, 512),\n",
    "            nn.LeakyReLU(0.2),\n",
    "            nn.Linear(512, 256),\n",
    "            nn.LeakyReLU(0.2),\n",
    "            nn.Linear(256, 1),\n",
    "            nn.Sigmoid()\n",
    "        )\n",
    "    \n",
    "    def forward(self, img):\n",
    "        img_flat = img.view(img.size(0), -1)\n",
    "        validity = self.model(img_flat)\n",
    "        return validity"
   ]
  },
  {
   "cell_type": "code",
   "execution_count": 8,
   "id": "c732844a-2b7e-4e40-919d-eb9b0943bb3c",
   "metadata": {},
   "outputs": [],
   "source": [
    "# Initialize models\n",
    "generator = Generator(latent_dim).to(device)\n",
    "discriminator = Discriminator().to(device)"
   ]
  },
  {
   "cell_type": "code",
   "execution_count": 9,
   "id": "9eab20fd-1550-494d-8ead-91e72e024ad1",
   "metadata": {},
   "outputs": [],
   "source": [
    "# Loss and optimizers\n",
    "adversarial_loss = nn.BCELoss()\n",
    "g_optimizer = optim.Adam(generator.parameters(), lr=generator_lr, betas=(0.5, 0.999))\n",
    "d_optimizer = optim.Adam(discriminator.parameters(), lr=discriminator_lr, betas=(0.5, 0.999))"
   ]
  },
  {
   "cell_type": "code",
   "execution_count": 10,
   "id": "222ef70b-3a33-4a16-b5f4-88d066872c25",
   "metadata": {},
   "outputs": [],
   "source": [
    "# Fixed noise for consistent image generation\n",
    "fixed_z = torch.randn(16, latent_dim).to(device)"
   ]
  },
  {
   "cell_type": "code",
   "execution_count": 11,
   "id": "3ab3b1c3-f352-43a8-a93b-39a2640bdde9",
   "metadata": {},
   "outputs": [
    {
     "data": {
      "text/plain": [
       "Discriminator(\n",
       "  (model): Sequential(\n",
       "    (0): Linear(in_features=784, out_features=1024, bias=True)\n",
       "    (1): LeakyReLU(negative_slope=0.2)\n",
       "    (2): Linear(in_features=1024, out_features=512, bias=True)\n",
       "    (3): LeakyReLU(negative_slope=0.2)\n",
       "    (4): Linear(in_features=512, out_features=256, bias=True)\n",
       "    (5): LeakyReLU(negative_slope=0.2)\n",
       "    (6): Linear(in_features=256, out_features=1, bias=True)\n",
       "    (7): Sigmoid()\n",
       "  )\n",
       ")"
      ]
     },
     "execution_count": 11,
     "metadata": {},
     "output_type": "execute_result"
    }
   ],
   "source": [
    "def weights_init(m):\n",
    "    if isinstance(m, nn.Linear):\n",
    "        nn.init.xavier_uniform_(m.weight)\n",
    "        if m.bias is not None:\n",
    "            nn.init.zeros_(m.bias)\n",
    "\n",
    "generator.apply(weights_init)\n",
    "discriminator.apply(weights_init)"
   ]
  },
  {
   "cell_type": "code",
   "execution_count": 12,
   "id": "f0533e4b-664d-4d32-be46-66070db867ca",
   "metadata": {},
   "outputs": [
    {
     "name": "stdout",
     "output_type": "stream",
     "text": [
      "Epoch 1/50 | D Loss: 0.4230 | G Loss: 1.2902\n",
      "Epoch 2/50 | D Loss: 0.5027 | G Loss: 0.7479\n",
      "Epoch 3/50 | D Loss: 0.4464 | G Loss: 1.2065\n",
      "Epoch 4/50 | D Loss: 0.4451 | G Loss: 1.1218\n",
      "Epoch 5/50 | D Loss: 0.4874 | G Loss: 0.8961\n",
      "Epoch 6/50 | D Loss: 0.5223 | G Loss: 1.0010\n",
      "Epoch 7/50 | D Loss: 0.5402 | G Loss: 1.2279\n",
      "Epoch 8/50 | D Loss: 0.4166 | G Loss: 1.3353\n",
      "Epoch 9/50 | D Loss: 0.4689 | G Loss: 0.8062\n",
      "Epoch 10/50 | D Loss: 0.4812 | G Loss: 1.0939\n",
      "Epoch 11/50 | D Loss: 0.4897 | G Loss: 1.3759\n",
      "Epoch 12/50 | D Loss: 0.5653 | G Loss: 0.9108\n",
      "Epoch 13/50 | D Loss: 0.4826 | G Loss: 1.2714\n",
      "Epoch 14/50 | D Loss: 0.4880 | G Loss: 1.0067\n",
      "Epoch 15/50 | D Loss: 0.4917 | G Loss: 1.4964\n",
      "Epoch 16/50 | D Loss: 0.5400 | G Loss: 1.4198\n",
      "Epoch 17/50 | D Loss: 0.4650 | G Loss: 1.3525\n",
      "Epoch 18/50 | D Loss: 0.5648 | G Loss: 1.1478\n",
      "Epoch 19/50 | D Loss: 0.4587 | G Loss: 1.1906\n",
      "Epoch 20/50 | D Loss: 0.5346 | G Loss: 0.8578\n",
      "Epoch 21/50 | D Loss: 0.5649 | G Loss: 0.9583\n",
      "Epoch 22/50 | D Loss: 0.3837 | G Loss: 1.3470\n",
      "Epoch 23/50 | D Loss: 0.4811 | G Loss: 1.1579\n",
      "Epoch 24/50 | D Loss: 0.5059 | G Loss: 1.3773\n",
      "Epoch 25/50 | D Loss: 0.5245 | G Loss: 1.4207\n",
      "Epoch 26/50 | D Loss: 0.4721 | G Loss: 1.3713\n",
      "Epoch 27/50 | D Loss: 0.4093 | G Loss: 1.3856\n",
      "Epoch 28/50 | D Loss: 0.5095 | G Loss: 1.1814\n",
      "Epoch 29/50 | D Loss: 0.5780 | G Loss: 1.1619\n",
      "Epoch 30/50 | D Loss: 0.4941 | G Loss: 1.3073\n",
      "Epoch 31/50 | D Loss: 0.4434 | G Loss: 1.2103\n",
      "Epoch 32/50 | D Loss: 0.5623 | G Loss: 1.1527\n",
      "Epoch 33/50 | D Loss: 0.4849 | G Loss: 1.7635\n",
      "Epoch 34/50 | D Loss: 0.4878 | G Loss: 1.6117\n",
      "Epoch 35/50 | D Loss: 0.5184 | G Loss: 1.3571\n",
      "Epoch 36/50 | D Loss: 0.4633 | G Loss: 1.4294\n",
      "Epoch 37/50 | D Loss: 0.4664 | G Loss: 1.3891\n",
      "Epoch 38/50 | D Loss: 0.4998 | G Loss: 1.3398\n",
      "Epoch 39/50 | D Loss: 0.4965 | G Loss: 1.3794\n",
      "Epoch 40/50 | D Loss: 0.5173 | G Loss: 1.3992\n",
      "Epoch 41/50 | D Loss: 0.4805 | G Loss: 1.2182\n",
      "Epoch 42/50 | D Loss: 0.4080 | G Loss: 1.5061\n",
      "Epoch 43/50 | D Loss: 0.4605 | G Loss: 1.5021\n",
      "Epoch 44/50 | D Loss: 0.4867 | G Loss: 1.4579\n",
      "Epoch 45/50 | D Loss: 0.5470 | G Loss: 1.2341\n",
      "Epoch 46/50 | D Loss: 0.4708 | G Loss: 1.8234\n",
      "Epoch 47/50 | D Loss: 0.4808 | G Loss: 1.3849\n",
      "Epoch 48/50 | D Loss: 0.4663 | G Loss: 1.3068\n",
      "Epoch 49/50 | D Loss: 0.4427 | G Loss: 1.4190\n",
      "Epoch 50/50 | D Loss: 0.4986 | G Loss: 1.5613\n"
     ]
    }
   ],
   "source": [
    "# Track losses\n",
    "g_losses = []\n",
    "d_losses = []\n",
    "\n",
    "# Training loop\n",
    "for epoch in range(num_epochs):\n",
    "    for i, (imgs, _) in enumerate(dataloader):\n",
    "        \n",
    "        real_imgs = imgs.to(device)\n",
    "        batch_size = imgs.shape[0]\n",
    "        valid = torch.ones(batch_size, 1).to(device)\n",
    "        fake = torch.zeros(batch_size, 1).to(device)\n",
    "        \n",
    "        # Train Generator\n",
    "        g_optimizer.zero_grad()\n",
    "        z = torch.randn(batch_size, latent_dim).to(device)\n",
    "        generated_imgs = generator(z)\n",
    "        g_loss = adversarial_loss(discriminator(generated_imgs), valid)\n",
    "        g_loss.backward()\n",
    "        g_optimizer.step()\n",
    "        \n",
    "        # Train Discriminator\n",
    "        d_optimizer.zero_grad()\n",
    "        real_loss = adversarial_loss(discriminator(real_imgs), valid)\n",
    "        fake_loss = adversarial_loss(discriminator(generated_imgs.detach()), fake)\n",
    "        d_loss = (real_loss + fake_loss) / 2\n",
    "        d_loss.backward()\n",
    "        d_optimizer.step()\n",
    "        \n",
    "        g_losses.append(g_loss.item())\n",
    "        d_losses.append(d_loss.item())\n",
    "        \n",
    "    print(f\"Epoch {epoch+1}/{num_epochs} | D Loss: {d_loss.item():.4f} | G Loss: {g_loss.item():.4f}\")"
   ]
  },
  {
   "cell_type": "code",
   "execution_count": null,
   "id": "79bfe8e9-17f8-4c05-8330-fcec771e8338",
   "metadata": {},
   "outputs": [],
   "source": [
    "# Generate and visualize images after training\n",
    "with torch.no_grad():\n",
    "    sample_imgs = generator(fixed_z).cpu()\n",
    "    grid = torchvision.utils.make_grid(sample_imgs, normalize=True)\n",
    "    plt.figure(figsize=(5, 5))\n",
    "    plt.imshow(grid.permute(1, 2, 0))\n",
    "    plt.show()"
   ]
  },
  {
   "cell_type": "code",
   "execution_count": null,
   "id": "40c16da0-9980-4efd-a343-487abaf45340",
   "metadata": {},
   "outputs": [],
   "source": [
    "# Plot loss curves\n",
    "plt.figure(figsize=(10, 5))\n",
    "plt.plot(g_losses, label=\"Generator Loss\")\n",
    "plt.plot(d_losses, label=\"Discriminator Loss\")\n",
    "plt.xlabel(\"Iterations\")\n",
    "plt.ylabel(\"Loss\")\n",
    "plt.legend()\n",
    "plt.title(\"GAN Training Losses\")\n",
    "plt.show()"
   ]
  },
  {
   "cell_type": "markdown",
   "id": "6df537a5-8e0c-4879-a550-756bfd66837a",
   "metadata": {},
   "source": [
    "# 2. Conditional GAN"
   ]
  },
  {
   "cell_type": "code",
   "execution_count": null,
   "id": "a2ffaf95-0790-47f2-b079-866f08ed0ee5",
   "metadata": {},
   "outputs": [],
   "source": [
    "# Define the Generator class for cGAN\n",
    "class cGenerator(nn.Module):\n",
    "    def __init__(self, num_classes=10):\n",
    "        super(cGenerator, self).__init__()\n",
    "        self.label_emb = nn.Embedding(num_classes, 10)\n",
    "        self.main = nn.Sequential(\n",
    "            nn.Linear(100 + 10, 256),\n",
    "            nn.LayerNorm(256),\n",
    "            nn.ReLU(),\n",
    "            nn.Linear(256, 512),\n",
    "            nn.LayerNorm(512),\n",
    "            nn.ReLU(),\n",
    "            nn.Linear(512, 1024),\n",
    "            nn.LayerNorm(1024),\n",
    "            nn.ReLU(),\n",
    "            nn.Linear(1024, 28 * 28),\n",
    "            nn.Tanh()\n",
    "        )\n",
    "    \n",
    "    def forward(self, noise, labels):\n",
    "        label_embedding = self.label_emb(labels)\n",
    "        x = torch.cat((noise, label_embedding), dim=1)\n",
    "        return self.main(x).view(-1, 1, 28, 28)"
   ]
  },
  {
   "cell_type": "code",
   "execution_count": null,
   "id": "0899465c-1ed7-464f-90b9-7460adea77d7",
   "metadata": {},
   "outputs": [],
   "source": [
    "# Define the Discriminator class for cGAN\n",
    "class cDiscriminator(nn.Module):\n",
    "    def __init__(self, num_classes=10):\n",
    "        super(cDiscriminator, self).__init__()\n",
    "        self.label_emb = nn.Embedding(num_classes, 10)\n",
    "        self.main = nn.Sequential(\n",
    "            nn.Linear(28 * 28 + 10, 512),\n",
    "            nn.LeakyReLU(0.2),\n",
    "            nn.Linear(512, 256),\n",
    "            nn.LeakyReLU(0.2),\n",
    "            nn.Linear(256, 1),\n",
    "            nn.Sigmoid()\n",
    "        )\n",
    "    \n",
    "    def forward(self, x, labels):\n",
    "        label_embedding = self.label_emb(labels)\n",
    "        x = torch.cat((x.view(-1, 28 * 28), label_embedding), dim=1)\n",
    "        return self.main(x)"
   ]
  },
  {
   "cell_type": "code",
   "execution_count": null,
   "id": "995bac3f-f111-4415-92b8-c992a61c48ec",
   "metadata": {},
   "outputs": [],
   "source": [
    "# Initialize models\n",
    "c_generator = cGenerator()\n",
    "c_discriminator = cDiscriminator()\n",
    "\n",
    "device = torch.device(\"cuda\" if torch.cuda.is_available() else \"cpu\")\n",
    "c_generator.to(device)\n",
    "c_discriminator.to(device)"
   ]
  },
  {
   "cell_type": "code",
   "execution_count": null,
   "id": "9c1d05bd-fc92-407c-933f-8f54f9145a77",
   "metadata": {},
   "outputs": [],
   "source": [
    "# Loss and optimizer\n",
    "criterion = nn.BCELoss()\n",
    "cg_optimizer = optim.Adam(c_generator.parameters(), lr=0.0002, betas=(0.5, 0.999))\n",
    "cd_optimizer = optim.Adam(c_discriminator.parameters(), lr=0.0002, betas=(0.5, 0.999))"
   ]
  },
  {
   "cell_type": "code",
   "execution_count": null,
   "id": "db4d5c18-83b5-4cb8-95f5-0c0a32b9bccc",
   "metadata": {},
   "outputs": [],
   "source": [
    "# Load dataset\n",
    "transform = transforms.Compose([transforms.ToTensor(), transforms.Normalize((0.5,), (0.5,))])\n",
    "dataset = torchvision.datasets.MNIST(root='./data', train=True, transform=transform, download=True)\n",
    "dataloader = torch.utils.data.DataLoader(dataset, batch_size=128, shuffle=True)"
   ]
  },
  {
   "cell_type": "code",
   "execution_count": null,
   "id": "f004df02-6a91-4072-9e70-13469618d6ec",
   "metadata": {},
   "outputs": [],
   "source": [
    "# Training loop\n",
    "epochs = 20\n",
    "for epoch in range(epochs):\n",
    "    for i, (real_images, labels) in enumerate(dataloader):\n",
    "        batch_size = real_images.size(0)\n",
    "        real_images, labels = real_images.to(device), labels.to(device)\n",
    "\n",
    "        # Train Discriminator\n",
    "        real_labels = torch.ones(batch_size, 1, device=device)\n",
    "        fake_labels = torch.zeros(batch_size, 1, device=device)\n",
    "        \n",
    "        real_outputs = c_discriminator(real_images, labels)\n",
    "        cd_loss_real = criterion(real_outputs, real_labels)\n",
    "        \n",
    "        z = torch.randn(batch_size, 100, device=device)\n",
    "        fake_images = c_generator(z, labels)\n",
    "        fake_outputs = c_discriminator(fake_images.detach(), labels)\n",
    "        cd_loss_fake = criterion(fake_outputs, fake_labels)\n",
    "        \n",
    "        cd_loss = cd_loss_real + cd_loss_fake\n",
    "        cd_optimizer.zero_grad()\n",
    "        cd_loss.backward()\n",
    "        cd_optimizer.step()\n",
    "\n",
    "        # Train Generator\n",
    "        fake_outputs = c_discriminator(fake_images, labels)\n",
    "        cg_loss = criterion(fake_outputs, real_labels)\n",
    "        cg_optimizer.zero_grad()\n",
    "        cg_loss.backward()\n",
    "        cg_optimizer.step()\n",
    "\n",
    "    print(f'Epoch [{epoch+1}/{epochs}], D Loss: {cd_loss.item():.4f}, G Loss: {cg_loss.item():.4f}')"
   ]
  },
  {
   "cell_type": "code",
   "execution_count": null,
   "id": "dc1fa475-6ee3-4995-b25a-f97189958dcd",
   "metadata": {},
   "outputs": [],
   "source": [
    "# Generate and display a sample image of a specific digit\n",
    "z = torch.randn(1, 100, device=device)\n",
    "label = torch.tensor([2], device=device)  # Generate a '7'\n",
    "with torch.no_grad():\n",
    "    generated_image = c_generator(z, label).cpu().detach().numpy().reshape(28, 28)\n",
    "plt.imshow(generated_image, cmap='gray')\n",
    "plt.show()"
   ]
  },
  {
   "cell_type": "code",
   "execution_count": null,
   "id": "e1241797-f10f-4d45-b54a-cfcb4eb6e7a1",
   "metadata": {},
   "outputs": [],
   "source": []
  }
 ],
 "metadata": {
  "kernelspec": {
   "display_name": "Python 3 (ipykernel)",
   "language": "python",
   "name": "python3"
  },
  "language_info": {
   "codemirror_mode": {
    "name": "ipython",
    "version": 3
   },
   "file_extension": ".py",
   "mimetype": "text/x-python",
   "name": "python",
   "nbconvert_exporter": "python",
   "pygments_lexer": "ipython3",
   "version": "3.10.16"
  }
 },
 "nbformat": 4,
 "nbformat_minor": 5
}
